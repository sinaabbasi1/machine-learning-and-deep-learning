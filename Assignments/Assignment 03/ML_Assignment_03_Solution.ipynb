{
  "cells": [
    {
      "cell_type": "markdown",
      "metadata": {
        "id": "view-in-github",
        "colab_type": "text"
      },
      "source": [
        "<a href=\"https://colab.research.google.com/github/sinaabbasi1/machine-learning-and-deep-learning/blob/main/Assignments/Assignment%2003/ML_Assignment_03_Solution.ipynb\" target=\"_parent\"><img src=\"https://colab.research.google.com/assets/colab-badge.svg\" alt=\"Open In Colab\"/></a>"
      ]
    },
    {
      "cell_type": "code",
      "execution_count": null,
      "metadata": {
        "id": "u4_q3YCOjUlc"
      },
      "outputs": [],
      "source": [
        "import torch\n",
        "import torch.nn as nn\n",
        "import torch.nn.functional as F\n",
        "\n",
        "from torchvision import datasets, transforms\n",
        "from torch.utils.data import DataLoader\n",
        "from sklearn.metrics import confusion_matrix\n",
        "from tqdm.notebook import tqdm\n",
        "import matplotlib.pyplot as plt\n",
        "import numpy as np\n",
        "import seaborn as sns\n",
        "import statistics"
      ]
    },
    {
      "cell_type": "markdown",
      "metadata": {
        "id": "C9ULf_0WIuqK"
      },
      "source": [
        "Configuring the device:"
      ]
    },
    {
      "cell_type": "code",
      "execution_count": null,
      "metadata": {
        "id": "8n2EytRfIsK7"
      },
      "outputs": [],
      "source": [
        "device = torch.device('cuda' if torch.cuda.is_available() else 'cpu')"
      ]
    },
    {
      "cell_type": "markdown",
      "metadata": {
        "id": "7HC4GVy8Osn6"
      },
      "source": [
        "In this homework, we will explore deep networks using  PyTorch framework!\n",
        "With the MNIST dataset consisting of 70000 images (28 * 28 * 1) of handwritten digits, we will train a multiple-layer perceptron network to detect the digit corresponding to the input image."
      ]
    },
    {
      "cell_type": "markdown",
      "metadata": {
        "id": "6zeodqY-UL9t"
      },
      "source": [
        "#Data Loading"
      ]
    },
    {
      "cell_type": "markdown",
      "metadata": {
        "id": "6NIB1N86T4vP"
      },
      "source": [
        "Run the cell below to download the dataset."
      ]
    },
    {
      "cell_type": "code",
      "execution_count": null,
      "metadata": {
        "colab": {
          "base_uri": "https://localhost:8080/",
          "height": 440,
          "referenced_widgets": [
            "e1693846451d4482aa33810e4a1b1cbe",
            "4d0abdcb468d4dc5b3a15ab803aaa8eb",
            "813094fe2cde4553ba6d5be5a3753885",
            "c0a60acf8f85425684366d97ecf80285",
            "e7b51b148021498e9dcfa00dae165862",
            "29bbc3f8b31643cc8391a4d3fd2d36d5",
            "45857a7808c044638cadc8d205289760",
            "edabfe1ef8b64f8e8ead90fd33989fb5",
            "b706a0005bff41479271f98bcdd7ebd6",
            "2b5ed341ec2d4c089883c919bd536c8c",
            "d895beaffa794da080f885ef5b05a3c0",
            "128d9d39ce204d1c989963e41f43c50b",
            "9738d80eea8f4a8fb4fc51a121c0b814",
            "f00762672e5d4d4ebd0f20bdfe6df4c8",
            "0dc66d66213c4036b9121b8eb059ceb0",
            "06c1316b09c74691b09f12e1e6172d0e",
            "9652cefea0934b85a02fca59412ee65c",
            "43f1eec4a6bb49fc86711f52eda6f339",
            "599b50975d984a6dad6a99d9adfe0d57",
            "09cdc915803f4890ba0560f905183b31",
            "00499487e91445a19b7f230fad38351f",
            "6350058300e44e72be292fac79254925",
            "4fcc4883e64a4bb68e2f83d6b6fcecb3",
            "f190ec59fa78435da02d098f3e3628a4",
            "0fa5c924366049c8992f5e1deec12c2f",
            "81b5d01034144a07b45be9f404646d60",
            "1ba52eecfc1a425ba7d282e9f8620337",
            "ecb3ffde03084ecaa9e4f97004313953",
            "d0bec80058274208b72fd9115f182e27",
            "992e4c78fa0548ef93efaf80259743ba",
            "39cad5cb784949a3b6cc5984d7600ec2",
            "2f1dd22dd3204797823b808633ddce8b",
            "c7a5daa314504da1abf667c0aa6c8279",
            "6ab04d41f66d4f4189df6c7873d3f6eb",
            "8982625a2d5c47498095ccee33c93d9a",
            "e182a06c199847188a6ad70dba188433",
            "2362303a32e74a5ca02cf7059e93aa43",
            "dd70b39c379a411abfdeb58b6085b8ad",
            "6c4ecfa8e9cb47dda0d3575c3571ac69",
            "59a0116e18f9491a81f6f3c3d81184a3",
            "51a8779957fc4cc99ab261afd438dc08",
            "269a5c30c9fc4113a5bb0279b58bad60",
            "c52898220bb84ce693114891606b8451",
            "078dabf28c804be487ed2884830f36d1"
          ]
        },
        "id": "JE6t9NG3XcnB",
        "outputId": "eb794c5f-b00e-456b-d1f4-66db7d0d2b22"
      },
      "outputs": [
        {
          "output_type": "stream",
          "name": "stdout",
          "text": [
            "Downloading http://yann.lecun.com/exdb/mnist/train-images-idx3-ubyte.gz\n",
            "Downloading http://yann.lecun.com/exdb/mnist/train-images-idx3-ubyte.gz to ./data/MNIST/raw/train-images-idx3-ubyte.gz\n"
          ]
        },
        {
          "output_type": "display_data",
          "data": {
            "text/plain": [
              "  0%|          | 0/9912422 [00:00<?, ?it/s]"
            ],
            "application/vnd.jupyter.widget-view+json": {
              "version_major": 2,
              "version_minor": 0,
              "model_id": "e1693846451d4482aa33810e4a1b1cbe"
            }
          },
          "metadata": {}
        },
        {
          "output_type": "stream",
          "name": "stdout",
          "text": [
            "Extracting ./data/MNIST/raw/train-images-idx3-ubyte.gz to ./data/MNIST/raw\n",
            "\n",
            "Downloading http://yann.lecun.com/exdb/mnist/train-labels-idx1-ubyte.gz\n",
            "Downloading http://yann.lecun.com/exdb/mnist/train-labels-idx1-ubyte.gz to ./data/MNIST/raw/train-labels-idx1-ubyte.gz\n"
          ]
        },
        {
          "output_type": "display_data",
          "data": {
            "text/plain": [
              "  0%|          | 0/28881 [00:00<?, ?it/s]"
            ],
            "application/vnd.jupyter.widget-view+json": {
              "version_major": 2,
              "version_minor": 0,
              "model_id": "128d9d39ce204d1c989963e41f43c50b"
            }
          },
          "metadata": {}
        },
        {
          "output_type": "stream",
          "name": "stdout",
          "text": [
            "Extracting ./data/MNIST/raw/train-labels-idx1-ubyte.gz to ./data/MNIST/raw\n",
            "\n",
            "Downloading http://yann.lecun.com/exdb/mnist/t10k-images-idx3-ubyte.gz\n",
            "Downloading http://yann.lecun.com/exdb/mnist/t10k-images-idx3-ubyte.gz to ./data/MNIST/raw/t10k-images-idx3-ubyte.gz\n"
          ]
        },
        {
          "output_type": "display_data",
          "data": {
            "text/plain": [
              "  0%|          | 0/1648877 [00:00<?, ?it/s]"
            ],
            "application/vnd.jupyter.widget-view+json": {
              "version_major": 2,
              "version_minor": 0,
              "model_id": "4fcc4883e64a4bb68e2f83d6b6fcecb3"
            }
          },
          "metadata": {}
        },
        {
          "output_type": "stream",
          "name": "stdout",
          "text": [
            "Extracting ./data/MNIST/raw/t10k-images-idx3-ubyte.gz to ./data/MNIST/raw\n",
            "\n",
            "Downloading http://yann.lecun.com/exdb/mnist/t10k-labels-idx1-ubyte.gz\n",
            "Downloading http://yann.lecun.com/exdb/mnist/t10k-labels-idx1-ubyte.gz to ./data/MNIST/raw/t10k-labels-idx1-ubyte.gz\n"
          ]
        },
        {
          "output_type": "display_data",
          "data": {
            "text/plain": [
              "  0%|          | 0/4542 [00:00<?, ?it/s]"
            ],
            "application/vnd.jupyter.widget-view+json": {
              "version_major": 2,
              "version_minor": 0,
              "model_id": "6ab04d41f66d4f4189df6c7873d3f6eb"
            }
          },
          "metadata": {}
        },
        {
          "output_type": "stream",
          "name": "stdout",
          "text": [
            "Extracting ./data/MNIST/raw/t10k-labels-idx1-ubyte.gz to ./data/MNIST/raw\n",
            "\n"
          ]
        }
      ],
      "source": [
        "\n",
        "mnist_train = datasets.MNIST(root='./data', train=True, download=True, transform=transforms.ToTensor())\n",
        "mnist_test = datasets.MNIST(root='./data', train=False, download=True,transform=transforms.ToTensor())\n"
      ]
    },
    {
      "cell_type": "code",
      "execution_count": null,
      "metadata": {
        "colab": {
          "base_uri": "https://localhost:8080/"
        },
        "id": "vfqms4_IjlmL",
        "outputId": "ec40f0cd-43b3-4cd6-93d6-de37d04ea0fd"
      },
      "outputs": [
        {
          "output_type": "execute_result",
          "data": {
            "text/plain": [
              "Dataset MNIST\n",
              "    Number of datapoints: 60000\n",
              "    Root location: ./data\n",
              "    Split: Train\n",
              "    StandardTransform\n",
              "Transform: ToTensor()"
            ]
          },
          "metadata": {},
          "execution_count": 5
        }
      ],
      "source": [
        "mnist_train"
      ]
    },
    {
      "cell_type": "code",
      "execution_count": null,
      "metadata": {
        "colab": {
          "base_uri": "https://localhost:8080/"
        },
        "id": "Qw8tVtRe5St_",
        "outputId": "92dd1647-c90d-460a-b46d-62ea4e5f1bb3"
      },
      "outputs": [
        {
          "output_type": "execute_result",
          "data": {
            "text/plain": [
              "Dataset MNIST\n",
              "    Number of datapoints: 10000\n",
              "    Root location: ./data\n",
              "    Split: Test\n",
              "    StandardTransform\n",
              "Transform: ToTensor()"
            ]
          },
          "metadata": {},
          "execution_count": 6
        }
      ],
      "source": [
        "mnist_test"
      ]
    },
    {
      "cell_type": "code",
      "execution_count": null,
      "metadata": {
        "colab": {
          "base_uri": "https://localhost:8080/"
        },
        "id": "qSVexjkV6OX5",
        "outputId": "d8d2e4b9-11e4-44a3-aea0-98072b9953bc"
      },
      "outputs": [
        {
          "output_type": "execute_result",
          "data": {
            "text/plain": [
              "7"
            ]
          },
          "metadata": {},
          "execution_count": 7
        }
      ],
      "source": [
        "image, label = mnist_test[0]\n",
        "label"
      ]
    },
    {
      "cell_type": "code",
      "execution_count": null,
      "metadata": {
        "colab": {
          "base_uri": "https://localhost:8080/"
        },
        "id": "F4l05jpAUDdH",
        "outputId": "6ccbc6b1-2cb4-48cb-e288-e0200a6758d3"
      },
      "outputs": [
        {
          "output_type": "execute_result",
          "data": {
            "text/plain": [
              "torch.Size([1, 28, 28])"
            ]
          },
          "metadata": {},
          "execution_count": 8
        }
      ],
      "source": [
        "image.shape"
      ]
    },
    {
      "cell_type": "code",
      "execution_count": null,
      "metadata": {
        "colab": {
          "base_uri": "https://localhost:8080/",
          "height": 283
        },
        "id": "mGYK9gIi6TcS",
        "outputId": "316318b3-b5ce-45f1-b9ce-4e6436c0e9ff"
      },
      "outputs": [
        {
          "output_type": "execute_result",
          "data": {
            "text/plain": [
              "<matplotlib.image.AxesImage at 0x7f5ff74bc850>"
            ]
          },
          "metadata": {},
          "execution_count": 9
        },
        {
          "output_type": "display_data",
          "data": {
            "text/plain": [
              "<Figure size 432x288 with 1 Axes>"
            ],
            "image/png": "[encoded data removed]"
          },
          "metadata": {
            "needs_background": "light"
          }
        }
      ],
      "source": [
        "plt.imshow(image.reshape(28,28), cmap='gray')"
      ]
    },
    {
      "cell_type": "markdown",
      "metadata": {
        "id": "D5-BCDKAV0RV"
      },
      "source": [
        "#Model"
      ]
    },
    {
      "cell_type": "markdown",
      "metadata": {
        "id": "HZauc_yJV7l7"
      },
      "source": [
        "\n",
        "The model we want to classify the MNIST dataset is a two-hidden-layer MLP with 120 and 84 units in each layer, respectively.\n",
        "\n",
        "Create a PyTorch model for described model and use ReLU for the activation function.\n",
        "\n",
        "\n"
      ]
    },
    {
      "cell_type": "code",
      "execution_count": null,
      "metadata": {
        "id": "dTOrHU2s7ww6"
      },
      "outputs": [],
      "source": [
        "class MultilayerPerceptron(nn.Module):\n",
        "\n",
        "    def __init__(self):\n",
        "        super().__init__()\n",
        "        self.fc1 = nn.Linear(28*28, 120)\n",
        "        self.fc2 = nn.Linear(120, 84)\n",
        "        self.fc3 = nn.Linear(84, 10) #10 classes\n",
        "\n",
        "    def forward (self, x):\n",
        "        x = torch.relu(self.fc1(x))\n",
        "        x = torch.relu(self.fc2(x))\n",
        "        x = self.fc3(x)\n",
        "\n",
        "        return x"
      ]
    },
    {
      "cell_type": "code",
      "execution_count": null,
      "metadata": {
        "colab": {
          "base_uri": "https://localhost:8080/"
        },
        "id": "C8lVcUidYxZR",
        "outputId": "b9982d0b-3852-41fb-ab4a-b01fcef0d7e9"
      },
      "outputs": [
        {
          "output_type": "execute_result",
          "data": {
            "text/plain": [
              "MultilayerPerceptron(\n",
              "  (fc1): Linear(in_features=784, out_features=120, bias=True)\n",
              "  (fc2): Linear(in_features=120, out_features=84, bias=True)\n",
              "  (fc3): Linear(in_features=84, out_features=10, bias=True)\n",
              ")"
            ]
          },
          "metadata": {},
          "execution_count": 23
        }
      ],
      "source": [
        "torch.manual_seed(80)\n",
        "model = MultilayerPerceptron()\n",
        "model"
      ]
    },
    {
      "cell_type": "markdown",
      "metadata": {
        "id": "xHCtONg8LbYU"
      },
      "source": [
        "Answer these questions:\n",
        "2. Denote the size of the weights matrix of each layer (consider the input and output layer as well).\n",
        "1. What initial values are used  ​​for the weights and biases of your model? (Do not report the specific value, we are interested in distributions that are used.)"
      ]
    },
    {
      "cell_type": "markdown",
      "metadata": {
        "id": "KeA3fX_R-e5E"
      },
      "source": [
        "2. As shown below we have:\n",
        "\n",
        "\n",
        "\n",
        "    \n",
        "\n",
        "> *   120 * 784\n",
        "> *   84 * 120\n",
        "> *   10 * 84\n",
        "\n",
        "if we consider bias vectors as weights too, then we have vectors   of size:\n",
        "\n",
        "> *   120\n",
        "> *   84\n",
        "> *   10"
      ]
    },
    {
      "cell_type": "code",
      "execution_count": null,
      "metadata": {
        "colab": {
          "base_uri": "https://localhost:8080/"
        },
        "id": "DOkT1RH2JyBW",
        "outputId": "47eddbc0-9cb5-45c3-8b87-5a129f963850"
      },
      "outputs": [
        {
          "output_type": "stream",
          "name": "stdout",
          "text": [
            "Parameter fc1.weight, shape torch.Size([120, 784])\n",
            "Parameter fc1.bias, shape torch.Size([120])\n",
            "Parameter fc2.weight, shape torch.Size([84, 120])\n",
            "Parameter fc2.bias, shape torch.Size([84])\n",
            "Parameter fc3.weight, shape torch.Size([10, 84])\n",
            "Parameter fc3.bias, shape torch.Size([10])\n"
          ]
        }
      ],
      "source": [
        "for name, param in model.named_parameters():\n",
        "    print(f\"Parameter {name}, shape {param.shape}\")"
      ]
    },
    {
      "cell_type": "markdown",
      "source": [
        "3. Linear layers are initialized with stdv = 1 / math.sqrt(number of inputs) and the distribution of uniform(-stdv, stdv)"
      ],
      "metadata": {
        "id": "F-4dRrFZ5K8P"
      }
    },
    {
      "cell_type": "markdown",
      "metadata": {
        "id": "bWv1_hwjkq4j"
      },
      "source": [
        "#Training\n"
      ]
    },
    {
      "cell_type": "markdown",
      "metadata": {
        "id": "oLbpRcjokxUb"
      },
      "source": [
        "In this section, we want to train our MLP model using the SGD algorithm."
      ]
    },
    {
      "cell_type": "markdown",
      "metadata": {
        "id": "NUmhmB0EG7KJ"
      },
      "source": [
        "As we discussed in class, instead of calculating loss using the whole inputs, we break the dataset (with size $n$) into some batches of size m ($m < n$) and, at each iteration, calculate the loss of one batch and update the weights.  "
      ]
    },
    {
      "cell_type": "markdown",
      "metadata": {
        "id": "1XV7HFbxUa-v"
      },
      "source": [
        "Using the `DataLoader` class of the torch library, complete the cell below to batch the test and train dataset."
      ]
    },
    {
      "cell_type": "code",
      "execution_count": null,
      "metadata": {
        "id": "Drvm3GNL7eTd"
      },
      "outputs": [],
      "source": [
        "batch_size = 100\n",
        "train_loader = DataLoader(dataset=mnist_train, batch_size=100, shuffle=True) # shuffle for avoiding overfitting\n",
        "test_loader = DataLoader(dataset=mnist_test, batch_size=100, shuffle=False)"
      ]
    },
    {
      "cell_type": "markdown",
      "metadata": {
        "id": "R-sIe-gSF3VY"
      },
      "source": [
        "there are yet a couple of hyperprameters that we should define before training."
      ]
    },
    {
      "cell_type": "code",
      "execution_count": null,
      "metadata": {
        "id": "_u-Vzy9zURKD"
      },
      "outputs": [],
      "source": [
        "epochs = 10\n",
        "learning_rate = 0.01 #feel free to play with this"
      ]
    },
    {
      "cell_type": "markdown",
      "metadata": {
        "id": "5TI9B7UQ1hu8"
      },
      "source": [
        "Answer these questions:\n",
        "* Prove that the **expected value** of the gradient obtained using a random batch equals the gradient of the whole dataset.\n",
        "\n",
        "\n",
        "The same way you show that the mean of any simple random sample is an unbiased estimator of the population mean: linearity of expectation.\n",
        "\n",
        "Linearity of expectation just means that $E[X+Y] = E[X]+E[Y]$\n",
        "\n",
        "We have that\n",
        "\n",
        "$J(X) = \\frac{1}{n} \\sum^n_{i=1} Loss(f(x_i),y_i)$\n",
        "\n",
        "Differentiate both sides and use the linearity of differentiation to move the ∇ inside the summation\n",
        "\n",
        "$\\nabla J(X) = \\frac{1}{n} \\sum^n_{i=1} \\nabla Loss(f(x_i),y_i)$\n",
        "\n",
        "We want to evaluate\n",
        "\n",
        "$E_A[ \\frac{1}{m} \\sum^m_{i=1} \\nabla Loss(f(x_i),y_i) ]$\n",
        "\n",
        "Apply linearity of expectation\n",
        "\n",
        "$=\\frac{1}{m} \\sum^m_{I=1} E_A[\\nabla Loss(f(x_i),y_i)]$\n",
        "\n",
        "\n",
        "What's $E_A[\\nabla Loss(f(x_i),y_i)]$ ?\n",
        "\n",
        "$E[X]=\\sum_{x} x*P(X=x)$\n",
        "\n",
        "Since the examples are chosen uniformly at random, all their probabilities $(P(X=x))$ are equal to $\\frac{1}{n}$, so it's just the average value of the gradient over all examples.\n",
        "\n",
        "Mathematically, that's:\n",
        "\n",
        "$E_A[\\nabla Loss(f(x_i),y_i)] = \\sum^n_{j=1} P(i=j)* \\nabla Loss(f(x_j),y_j)$\n",
        "\n",
        "Where $P(i=j)=\\frac{1}{n}$, so\n",
        "\n",
        "$E_A[\\nabla Loss(f(x_i),y_i)] = \\frac{1}{n} \\sum^n_{j=1} \\nabla Loss(f(x_j),y_j) = \\nabla J(X)$\n",
        "\n",
        "Plugging that back in to\n",
        "\n",
        "$E_A[ \\frac{1}{m} \\sum^m_{I=1} \\nabla Loss(f(x_i),y_i) ] = \\frac{1}{m} \\sum^m_{i=1} E_A[\\nabla Loss(f(x_i),y_i)]$\n",
        "\n",
        "We get\n",
        "\n",
        "$E_A[ \\frac{1}{m} \\sum^m_{i=1} \\nabla Loss(f(x_i),y_i) ]$\n",
        "\n",
        "$=\\frac{1}{m} \\sum^m_{i=1} \\nabla J(X)$\n",
        "\n",
        "$= \\nabla J(X)$\n",
        "\n",
        "* For the dataset of size $n = $12000, if the batch size is 200, what would be the number of weight updates (or iterations) in a total of 5 epoche?\n",
        "\n",
        "${\\frac{12000}{200}} = 60$     iterations per epoch\n",
        "\n",
        "as we have 5 epochs, so $60 \\times 5 = 300$\n",
        "\n",
        "So, we have 300 iterations (weight updates)"
      ]
    },
    {
      "cell_type": "markdown",
      "metadata": {
        "id": "YRCAmupNPnRK"
      },
      "source": [
        "\n",
        "Complete the training function below, such that at each epoch:\n",
        "\n",
        "\n",
        "\n",
        "\n",
        "1. For each batch:\n",
        "\n",
        "  1. Perform feedforward\n",
        "  2. Calculate loss (use cross-entropy loss)\n",
        "  3. Perform backpropagation and updating weights\n",
        "\n",
        "2. Calculate and report the training accuracy and loss for each epoch (use the average of the batch accuracy as epoch accuracy).\n",
        "3. Calculate and report the test accuracy and loss for each epoch\n"
      ]
    },
    {
      "cell_type": "code",
      "execution_count": null,
      "metadata": {
        "id": "toDAqJnr73Ne"
      },
      "outputs": [],
      "source": [
        "#initialize loss function and optimizer\n",
        "loss_function = nn.CrossEntropyLoss()\n",
        "optimizer = torch.optim.SGD(model.parameters(), lr=learning_rate)"
      ]
    },
    {
      "cell_type": "code",
      "execution_count": null,
      "metadata": {
        "colab": {
          "base_uri": "https://localhost:8080/"
        },
        "id": "wgwRxuTKdFv4",
        "outputId": "e47847e8-f522-4338-96f8-fd9d26455016"
      },
      "outputs": [
        {
          "output_type": "execute_result",
          "data": {
            "text/plain": [
              "MultilayerPerceptron(\n",
              "  (fc1): Linear(in_features=784, out_features=120, bias=True)\n",
              "  (fc2): Linear(in_features=120, out_features=84, bias=True)\n",
              "  (fc3): Linear(in_features=84, out_features=10, bias=True)\n",
              ")"
            ]
          },
          "metadata": {},
          "execution_count": 26
        }
      ],
      "source": [
        "model.to(device)"
      ]
    },
    {
      "cell_type": "markdown",
      "metadata": {
        "id": "A6cNtYZS8o72"
      },
      "source": [
        "Highly encourage you to use [this](https://github.com/tqdm/tqdm) awesome package called taqaddum to have a nice progress bar for the training process\n"
      ]
    },
    {
      "cell_type": "code",
      "execution_count": null,
      "metadata": {
        "id": "6jYWCBjlyJgC"
      },
      "outputs": [],
      "source": [
        "def eval_model(model1, data_loader, test_losses, test_acc):\n",
        "    model1.eval() # Set model to eval mode\n",
        "\n",
        "    correct_test = 0\n",
        "    loss_test = 0\n",
        "\n",
        "    with torch.no_grad(): # Deactivate gradients for the following code\n",
        "        for batch_test in data_loader:\n",
        "\n",
        "            images_test = batch_test[0].reshape(-1, 28*28).to(device)\n",
        "            labels_test = batch_test[1].to(device)\n",
        "\n",
        "            preds_test = model1(images_test)\n",
        "            preds_test = preds_test.squeeze(dim=1)\n",
        "\n",
        "            # Loss of each epoch\n",
        "            loss_test += loss_function(preds_test.squeeze(-1), labels_test)\n",
        "\n",
        "            # Accuracy of each epoch\n",
        "            _, predicted_test = torch.max(preds_test, 1)\n",
        "            correct_test += (predicted_test == labels_test).sum().item()\n",
        "\n",
        "        test_losses.append(loss_test.item() / len(data_loader))\n",
        "        accuracy_test = (correct_test / 10000) * 100\n",
        "        test_acc.append(accuracy_test)\n",
        "\n",
        "    return test_losses, test_acc"
      ]
    },
    {
      "cell_type": "code",
      "execution_count": null,
      "metadata": {
        "id": "dIj4OrwYE7Hn"
      },
      "outputs": [],
      "source": [
        "def train(model, loss_function, optimizer, train_loader, test_loader, epochs):\n",
        "\n",
        "    train_losses = []\n",
        "    test_losses = []\n",
        "    train_acc = []\n",
        "    test_acc  = []\n",
        "\n",
        "    # Set the model to train mode\n",
        "    model.train()\n",
        "\n",
        "    # Training loop\n",
        "    epochs = tqdm(range(epochs))\n",
        "\n",
        "    for epoch in epochs:\n",
        "\n",
        "        batch_train_losses = []\n",
        "        batch_train_acc = []\n",
        "\n",
        "        model.train()\n",
        "        for batch in train_loader:\n",
        "\n",
        "            correct = 0 # Correct prediction per batch\n",
        "\n",
        "            ## Step 1: Move input data to device (only strictly necessary if we use GPU)\n",
        "            images = batch[0].reshape(-1, 28*28).to(device)\n",
        "            labels = batch[1].to(device)\n",
        "\n",
        "            ## Step 2: Run the model on the input data\n",
        "            preds = model(images)\n",
        "            preds = preds.squeeze(-1)\n",
        "\n",
        "            ## Step 3: Calculate the loss\n",
        "            loss = loss_function(preds, labels)\n",
        "\n",
        "            ## Step 4: Perform backpropagation\n",
        "            # Before calculating the gradients, we need to ensure that they are all zero.\n",
        "            # The gradients would not be overwritten, but actually added to the existing ones.\n",
        "            optimizer.zero_grad()\n",
        "\n",
        "            # Perform backpropagation\n",
        "            loss.backward()\n",
        "\n",
        "            ## Step 5: Update the parameters\n",
        "            optimizer.step()\n",
        "\n",
        "            # Train loss of each batch\n",
        "            batch_train_losses.append(loss.item())\n",
        "\n",
        "            # Train accuracy of each batch\n",
        "            _, predicted = torch.max(preds, 1)\n",
        "            correct += (predicted == labels).sum().item()\n",
        "            accuracy = (correct / batch_size) * 100\n",
        "            batch_train_acc.append(accuracy)\n",
        "\n",
        "        # Computing test accuracy and test loss for each epoch\n",
        "        test_losses, test_acc = eval_model(model, test_loader, test_losses, test_acc)\n",
        "\n",
        "        # Computing train accuracy and train loss for each epoch\n",
        "        train_losses.append(np.mean(batch_train_losses))\n",
        "        train_acc.append(np.mean(batch_train_acc))\n",
        "        epochs.set_postfix({'loss': train_losses})\n",
        "\n",
        "\n",
        "    return train_losses, train_acc, test_acc, test_losses"
      ]
    },
    {
      "cell_type": "code",
      "execution_count": null,
      "metadata": {
        "colab": {
          "base_uri": "https://localhost:8080/",
          "height": 77,
          "referenced_widgets": [
            "0d648f4bc5e346faabed5a0d0043564f",
            "5f3a78705d18474d9d74175a3b8743a7",
            "fd971320a9a9463ba52d481c26cd98e0",
            "79de0afbc7394f03b0b587c2e6b5f8d9",
            "7f28d9ec457e4fd889865eddbc66f58c",
            "5f935e6f0a394f3b9d5b236dbec20c8b",
            "e5d498bd49bc45a9a480abf0f0b478ee",
            "8545a1eb392c4196ba44de04ce822f4e",
            "3410cd5de7e0431e9ddf051dc2bfabed",
            "50597377eda1430485fbf051f43b16a9",
            "c5c188ae665e4fc9abb9ca9d61e06379"
          ]
        },
        "id": "ovj6uYbAtm8L",
        "outputId": "7db8beae-efef-44ca-b8cb-dd08cdeabaf5"
      },
      "outputs": [
        {
          "output_type": "display_data",
          "data": {
            "text/plain": [
              "  0%|          | 0/10 [00:00<?, ?it/s]"
            ],
            "application/vnd.jupyter.widget-view+json": {
              "version_major": 2,
              "version_minor": 0,
              "model_id": "0d648f4bc5e346faabed5a0d0043564f"
            }
          },
          "metadata": {}
        }
      ],
      "source": [
        "train_losses, train_acc, test_acc, test_losses = train(model, loss_function, optimizer, train_loader, test_loader, epochs)"
      ]
    },
    {
      "cell_type": "code",
      "execution_count": null,
      "metadata": {
        "colab": {
          "base_uri": "https://localhost:8080/"
        },
        "id": "P4mIfEUOIUTB",
        "outputId": "8ed55b3a-4d67-4c21-c1a1-2300091e2c41"
      },
      "outputs": [
        {
          "output_type": "stream",
          "name": "stdout",
          "text": [
            "[2.099452428619067, 0.9876694509387016, 0.5380027292172114, 0.42367590638498465, 0.3749781731516123, 0.34671526789665225, 0.32689036667346955, 0.3108396842579047, 0.2977002102136612, 0.28572378493845463]\n",
            "[42.02166666666667, 75.85833333333333, 85.675, 88.31333333333333, 89.41833333333334, 90.08666666666667, 90.62666666666667, 91.07, 91.49333333333334, 91.785]\n",
            "[1.599240264892578, 0.633338623046875, 0.4457451629638672, 0.3774478530883789, 0.34471229553222654, 0.3227128219604492, 0.30660261154174806, 0.29272851943969724, 0.28254343032836915, 0.27272117614746094]\n",
            "[63.4, 83.78, 87.99, 89.27000000000001, 89.98, 90.63, 91.05, 91.66, 91.86999999999999, 92.19000000000001]\n"
          ]
        }
      ],
      "source": [
        "print(train_losses)\n",
        "print(train_acc)\n",
        "print(test_losses)\n",
        "print(test_acc)"
      ]
    },
    {
      "cell_type": "markdown",
      "metadata": {
        "id": "4BV2NqFdwmUO"
      },
      "source": [
        "Now plot the training results (one plot for test and training accuracy and one for the loss)"
      ]
    },
    {
      "cell_type": "code",
      "execution_count": null,
      "metadata": {
        "colab": {
          "base_uri": "https://localhost:8080/",
          "height": 406
        },
        "id": "hVeoEM7QLHSr",
        "outputId": "01ef81fa-b3ab-4b27-ea86-b697220da152"
      },
      "outputs": [
        {
          "output_type": "execute_result",
          "data": {
            "text/plain": [
              "<matplotlib.legend.Legend at 0x7f5ff642f940>"
            ]
          },
          "metadata": {},
          "execution_count": 28
        },
        {
          "output_type": "display_data",
          "data": {
            "text/plain": [
              "<Figure size 864x432 with 1 Axes>"
            ],
            "image/png": "[encoded data removed]"
          },
          "metadata": {
            "needs_background": "light"
          }
        }
      ],
      "source": [
        "#plot loss\n",
        "\n",
        "fig = plt.figure(figsize=(12, 6))\n",
        "plt.plot(np.arange(1, 11, 1), train_losses, label='Train Loss')\n",
        "plt.plot(np.arange(1, 11, 1), test_losses, label='Test Loss')\n",
        "plt.xlabel('Epoch')\n",
        "plt.ylabel('loss')\n",
        "plt.legend()"
      ]
    },
    {
      "cell_type": "code",
      "execution_count": null,
      "metadata": {
        "colab": {
          "base_uri": "https://localhost:8080/",
          "height": 406
        },
        "id": "3tFdIJD-x96y",
        "outputId": "b850795f-3c62-4794-f164-d00ec8e98e63"
      },
      "outputs": [
        {
          "output_type": "execute_result",
          "data": {
            "text/plain": [
              "<matplotlib.legend.Legend at 0x7f01609e0d90>"
            ]
          },
          "metadata": {},
          "execution_count": 22
        },
        {
          "output_type": "display_data",
          "data": {
            "text/plain": [
              "<Figure size 864x432 with 1 Axes>"
            ],
            "image/png": "[encoded data removed]"
          },
          "metadata": {
            "needs_background": "light"
          }
        }
      ],
      "source": [
        "#plot accuracy\n",
        "\n",
        "fig = plt.figure(figsize=(12, 6))\n",
        "plt.plot(np.arange(1, 11, 1), train_acc, label='Train Accuracy')\n",
        "plt.plot(np.arange(1, 11, 1), test_acc, label='Test Accuracy')\n",
        "plt.xlabel('Epoch')\n",
        "plt.ylabel('Accuracy')\n",
        "plt.legend()"
      ]
    },
    {
      "cell_type": "markdown",
      "metadata": {
        "id": "JLBY62Fcw4wt"
      },
      "source": [
        "Based on your plots, answer these questions:\n",
        "1. Compare the training and test loss\n",
        "\n",
        "\n",
        "> As we proceed and the number of epochs grows, the accuracy increases and the loss decreases. We can see that after 5 epochs the training and test loss become really close.\n",
        "\n",
        "\n",
        "2. Did your model become overfitted? Why?\n",
        "\n",
        "> No. Because the model works on test data almost as good as training data. Maybe another reason is our model isn't complex, because we only used two layers.\n",
        "\n",
        "3. Why your training loss is not a  decreasing function with respect to #epoch?\n",
        "\n",
        "> This is the time that we could use early stopping. because after 5 epochs there is not much things to learn and there is the danger of overfitting."
      ]
    },
    {
      "cell_type": "markdown",
      "metadata": {
        "id": "Vhuk-mnf2iIn"
      },
      "source": [
        "Repeat the training process for 5 diffrent learning rate and compare the results."
      ]
    },
    {
      "cell_type": "code",
      "execution_count": null,
      "metadata": {
        "colab": {
          "base_uri": "https://localhost:8080/",
          "height": 355,
          "referenced_widgets": [
            "a427a9e8876c43bea9fcb260327b556f",
            "c9d079dfd15a48baaffebfaf4271bce8",
            "fe1bd08fe4964d1195adbba974035c6b",
            "5e99a0fc94fc425b923976b49816c842",
            "037324057771451aa2d128e097d29907",
            "84900a117d0640b495feb8b386c5744d",
            "414d007f847a4e849f1f62857ff67858",
            "a45a7f1797ee4de3b991a9c8618525df",
            "2fb8c5e345f24b7581c16a897458c0e2",
            "07e2b89f8658457e8e27cd7ca1b4f40a",
            "c536c2d2376a4e08b987c457c1aa7e7e",
            "09ee104762ef4a368e8b085432b9c2e8",
            "b4098c4a50e34413b615fb2fc9cf23c6",
            "2e238105e0a94ff099b0599dbb9b1a0b",
            "d5035506cb2f420cb0b51afc6a9f6151",
            "ea2bbaf4c211439a811221aa1e6bb1dd",
            "84a1e0c6e5b242c8ba912b4c9d600080",
            "45973d77b61143bbbe3d2d5fa048a46e",
            "69711a75b0094c908419a49ea6fc0852",
            "c355b3047ae649cd97fced5fd37d1e3c",
            "1017582ba24e489d8e3427c867d5051f",
            "00c85c8dae0e4096968a16d36b473984",
            "affa5b5b287e459c8ab45127456c71de",
            "9a3f9214463e4681a08843def6d8c82c",
            "9dd27c2a60014ce18ba9e4826ef38ce5",
            "d21700f990d64cf29b9c70bac1d09e0b",
            "1d4005ddaab943daaef7707753f8813a",
            "2f20e84f5ea7403b93d6398c888df61d",
            "e9e9b84c9ce944abbe72fcfad983ca57",
            "f6260556910d431f9e4e9089e9cbdba6",
            "d7949897dded483e955ddbd899acbe16",
            "2af06815984e4592a3f21502fb3b1250",
            "6527bb1bc1ca495f87d6ae327a87bcd2",
            "673d9b701224445b96747e69dd4decc5",
            "4f1b241dd8e34d7fbd933b4bee47f1f0",
            "ff8e5ef84c8f40d2928f44d4b351d791",
            "bc5a8873796246bc97b21f45a11bb470",
            "3abbb68b2f9140a0b37dc5617daf7b7f",
            "71ebc85e90184fc98ee0265380773b2f",
            "58c9aeb001174e31a906d60114662e22",
            "bcf8be37db8442f685a04c47f1c5aa57",
            "0ace28aa1611448c886e52ce704b95c5",
            "b6d5daf5bb9c419b94cf6e04cdcbc6de",
            "bac8de3d680f4e9cb9cfd4c7868e5f87",
            "4b21baa1f51d42e3b876fc4b5f0514d7",
            "d64b61476af445bab9b2e8487957e776",
            "a113cdc1f0a84aa6bc597c47a41c8ef0",
            "a2f509cb88c643e2aba561a136ff7dc7",
            "a473b4b40ec34e02abf8b4bec9a8e1c7",
            "a592dde663784977b664db3609a09d83",
            "5ab7c39b27b547408ab6930ae645ea97",
            "e47f82c8c4174788ab31e59d567921f1",
            "0a0702f0a949442d959cfe551c253700",
            "d3871b051d9446f589c646dc376c81bc",
            "505b8e388c3a4838b9d5acffb0dc9424"
          ]
        },
        "id": "LmMMXJSl2g4h",
        "outputId": "8f30a6da-d44a-4b8a-d994-3316e4bc9afa"
      },
      "outputs": [
        {
          "output_type": "display_data",
          "data": {
            "text/plain": [
              "  0%|          | 0/10 [00:00<?, ?it/s]"
            ],
            "application/vnd.jupyter.widget-view+json": {
              "version_major": 2,
              "version_minor": 0,
              "model_id": "a427a9e8876c43bea9fcb260327b556f"
            }
          },
          "metadata": {}
        },
        {
          "output_type": "display_data",
          "data": {
            "text/plain": [
              "  0%|          | 0/10 [00:00<?, ?it/s]"
            ],
            "application/vnd.jupyter.widget-view+json": {
              "version_major": 2,
              "version_minor": 0,
              "model_id": "09ee104762ef4a368e8b085432b9c2e8"
            }
          },
          "metadata": {}
        },
        {
          "output_type": "display_data",
          "data": {
            "text/plain": [
              "  0%|          | 0/10 [00:00<?, ?it/s]"
            ],
            "application/vnd.jupyter.widget-view+json": {
              "version_major": 2,
              "version_minor": 0,
              "model_id": "affa5b5b287e459c8ab45127456c71de"
            }
          },
          "metadata": {}
        },
        {
          "output_type": "display_data",
          "data": {
            "text/plain": [
              "  0%|          | 0/10 [00:00<?, ?it/s]"
            ],
            "application/vnd.jupyter.widget-view+json": {
              "version_major": 2,
              "version_minor": 0,
              "model_id": "673d9b701224445b96747e69dd4decc5"
            }
          },
          "metadata": {}
        },
        {
          "output_type": "display_data",
          "data": {
            "text/plain": [
              "  0%|          | 0/10 [00:00<?, ?it/s]"
            ],
            "application/vnd.jupyter.widget-view+json": {
              "version_major": 2,
              "version_minor": 0,
              "model_id": "4b21baa1f51d42e3b876fc4b5f0514d7"
            }
          },
          "metadata": {}
        },
        {
          "output_type": "stream",
          "name": "stdout",
          "text": [
            "{0.02: {'train_losses': [0.27338081513841944, 0.2546092819919189, 0.23759378342578807, 0.22182705125461022, 0.20719591672221818, 0.19375902803614736, 0.18220969588806232, 0.17127310544252394, 0.161995625110964, 0.15362734618907173], 'train_acc': [92.10833333333333, 92.72, 93.19833333333334, 93.66, 94.08333333333333, 94.5, 94.815, 95.12666666666667, 95.40333333333334, 95.65], 'test_acc': [92.65, 93.27, 93.57, 94.19, 94.35, 94.6, 94.72, 94.98, 95.35, 95.39999999999999], 'test_losses': [0.25805728912353515, 0.2406964683532715, 0.22687379837036134, 0.21216659545898436, 0.19983650207519532, 0.1889336395263672, 0.1807798385620117, 0.17137290954589843, 0.16441679000854492, 0.15512752532958984]}, 0.05: {'train_losses': [0.14796017174919446, 0.1309924781601876, 0.11787314724487563, 0.10593712968130907, 0.09500696645739178, 0.08723115600335102, 0.07957295284296076, 0.07377446424216032, 0.06812038459659865, 0.06259223976172507], 'train_acc': [95.77333333333333, 96.295, 96.61333333333333, 96.90333333333334, 97.28166666666667, 97.53333333333333, 97.74166666666666, 97.88833333333334, 98.055, 98.22], 'test_acc': [95.94, 96.3, 96.34, 96.63000000000001, 96.85000000000001, 97.15, 97.06, 97.35000000000001, 97.47, 97.56], 'test_losses': [0.14443305969238282, 0.1293474578857422, 0.12291985511779785, 0.11072489738464356, 0.10637032508850097, 0.09624093055725097, 0.09750701904296875, 0.08769277572631835, 0.08258706092834472, 0.08256388664245605]}, 0.1: {'train_losses': [0.06871254101317997, 0.06066320068979015, 0.05370404721858601, 0.04758900518994778, 0.04225928570143878, 0.038050129583959154, 0.03493369378692781, 0.029906856564727302, 0.026572398559655996, 0.024412777089164592], 'train_acc': [97.98, 98.235, 98.38166666666666, 98.595, 98.73, 98.88, 98.93666666666667, 99.135, 99.22666666666667, 99.32], 'test_acc': [97.32, 97.5, 97.61, 97.35000000000001, 97.87, 97.81, 97.77, 97.81, 97.64, 97.91], 'test_losses': [0.0849001407623291, 0.0805483627319336, 0.07905387878417969, 0.0851205825805664, 0.07229455471038819, 0.07161211013793946, 0.07638890743255615, 0.07131451606750489, 0.07698284149169922, 0.0688805866241455]}, 0.2: {'train_losses': [0.14165723616645362, 0.055957941943003485, 0.043359945535000104, 0.03524163565850662, 0.03011141707849068, 0.022840227037280177, 0.019888777928911926, 0.016731919007531057, 0.015316014302564629, 0.01095760811229411], 'train_acc': [96.48, 98.16666666666667, 98.55666666666667, 98.84, 99.00166666666667, 99.285, 99.43333333333334, 99.50833333333334, 99.53333333333333, 99.685], 'test_acc': [97.06, 97.71, 97.66, 97.42, 97.28, 97.71, 97.17, 97.66, 97.89999999999999, 97.67], 'test_losses': [0.0971368408203125, 0.07816957473754883, 0.07857436656951905, 0.09257706642150879, 0.09577217102050781, 0.08437573432922363, 0.10089662551879883, 0.08613162994384765, 0.07392547130584717, 0.08451550483703613]}, 0.5: {'train_losses': [0.959958386827105, 0.1526497863760839, 0.1167426761224245, 0.0998855084211876, 0.08746636124483, 0.07475749240877727, 0.0670879808277823, 0.05963288490117217, 0.05300958754029125, 0.05078514627588447], 'train_acc': [86.92166666666667, 95.33333333333333, 96.40833333333333, 97.07666666666667, 97.345, 97.61333333333333, 97.87833333333333, 98.09666666666666, 98.26333333333334, 98.37333333333333], 'test_acc': [90.60000000000001, 95.46, 96.61, 96.38, 96.61, 97.13000000000001, 97.00999999999999, 97.05, 97.1, 96.88], 'test_losses': [0.31379405975341795, 0.14802685737609864, 0.11651721954345703, 0.12131019592285157, 0.12204057693481446, 0.10727737426757812, 0.11037323951721191, 0.10637155532836914, 0.11283431053161622, 0.11270079612731934]}}\n"
          ]
        }
      ],
      "source": [
        "learning_rates = [0.02, 0.05, 0.1, 0.2, 0.5]\n",
        "loss_function = nn.CrossEntropyLoss()\n",
        "alls = {}\n",
        "\n",
        "for learning_rate in learning_rates:\n",
        "    optimizer = torch.optim.SGD(model.parameters(), lr=learning_rate)\n",
        "    train_losses, train_acc, test_acc, test_losses = train(model, loss_function, optimizer, train_loader, test_loader, epochs)\n",
        "    alls[learning_rate] = {'train_losses': train_losses, 'train_acc': train_acc, 'test_acc': test_acc, 'test_losses': test_losses}\n",
        "\n",
        "print(alls)\n"
      ]
    },
    {
      "cell_type": "code",
      "execution_count": null,
      "metadata": {
        "colab": {
          "base_uri": "https://localhost:8080/"
        },
        "id": "2v9RDCvIh3eO",
        "outputId": "ff3bed16-95d6-4cd8-bd32-eb772ec70c1f"
      },
      "outputs": [
        {
          "output_type": "stream",
          "name": "stdout",
          "text": [
            "[0.27338081513841944, 0.2546092819919189, 0.23759378342578807, 0.22182705125461022, 0.20719591672221818, 0.19375902803614736, 0.18220969588806232, 0.17127310544252394, 0.161995625110964, 0.15362734618907173]\n"
          ]
        }
      ],
      "source": [
        "print(alls[0.02]['train_losses'])"
      ]
    },
    {
      "cell_type": "code",
      "execution_count": null,
      "metadata": {
        "colab": {
          "base_uri": "https://localhost:8080/",
          "height": 172
        },
        "id": "UIqfPJZzh9_n",
        "outputId": "54401967-2439-44f7-cd8d-a5239de00c64"
      },
      "outputs": [
        {
          "output_type": "display_data",
          "data": {
            "text/plain": [
              "<Figure size 3600x432 with 5 Axes>"
            ],
            "image/png": "[encoded data removed]"
          },
          "metadata": {
            "needs_background": "light"
          }
        }
      ],
      "source": [
        "#plot loss\n",
        "\n",
        "i = 1\n",
        "fig = plt.figure(figsize=(50, 6))\n",
        "for learning_rate in alls:\n",
        "    plt.subplot(1, 5, i)\n",
        "    plt.plot(np.arange(1, 11, 1), alls[learning_rate]['train_losses'], label='Train Loss')\n",
        "    plt.plot(np.arange(1, 11, 1), alls[learning_rate]['test_losses'], label='Test Loss')\n",
        "    plt.xlabel('Epoch')\n",
        "    plt.ylabel('loss')\n",
        "    plt.ylim([0, 0.3])\n",
        "    plt.title(f'Learning rate {learning_rate}')\n",
        "    plt.legend()\n",
        "    i += 1"
      ]
    },
    {
      "cell_type": "code",
      "execution_count": null,
      "metadata": {
        "colab": {
          "base_uri": "https://localhost:8080/",
          "height": 172
        },
        "id": "8OHSNfeHpLhB",
        "outputId": "6fb40da9-7d2e-4ce3-d673-efb1edbfbf52"
      },
      "outputs": [
        {
          "output_type": "display_data",
          "data": {
            "text/plain": [
              "<Figure size 3600x432 with 5 Axes>"
            ],
            "image/png": "[encoded data removed]"
          },
          "metadata": {
            "needs_background": "light"
          }
        }
      ],
      "source": [
        "#plot accuracy\n",
        "\n",
        "i = 1\n",
        "fig = plt.figure(figsize=(50, 6))\n",
        "for learning_rate in alls:\n",
        "    plt.subplot(1, 5, i)\n",
        "    plt.plot(np.arange(1, 11, 1), alls[learning_rate]['train_acc'], label='Train Accuracy')\n",
        "    plt.plot(np.arange(1, 11, 1), alls[learning_rate]['test_acc'], label='Test Accuracy')\n",
        "    plt.xlabel('Epoch')\n",
        "    plt.ylabel('Accuracy')\n",
        "    # plt.ylim([0, 0.3])\n",
        "    plt.title(f'Learning rate {learning_rate}')\n",
        "    plt.legend()\n",
        "    i += 1"
      ]
    },
    {
      "cell_type": "markdown",
      "metadata": {
        "id": "nZ5vhsvjyIr7"
      },
      "source": [
        "#Vanishing Gradient"
      ]
    },
    {
      "cell_type": "markdown",
      "metadata": {
        "id": "BdqbTH68J5hF"
      },
      "source": [
        "In this section, we want to see the vanishing gradient problem.\n",
        "\n",
        "Create two separate models with 5 hidden layers of size [100, 100, 80, 50, 30],\n",
        "one of them uses ReLU as an activation function and the other one uses Sigmoid.\n"
      ]
    },
    {
      "cell_type": "code",
      "execution_count": null,
      "metadata": {
        "id": "ltw-XU-Xy8kY"
      },
      "outputs": [],
      "source": [
        "class MLP_relu(nn.Module):\n",
        "\n",
        "    def __init__(self):\n",
        "        super().__init__()\n",
        "        self.fc1 = nn.Linear(28*28, 100)\n",
        "        self.fc2 = nn.Linear(100, 100)\n",
        "        self.fc3 = nn.Linear(100, 80)\n",
        "        self.fc4 = nn.Linear(80, 50)\n",
        "        self.fc5 = nn.Linear(50, 30)\n",
        "        self.fc6 = nn.Linear(30, 10) # 10 classes\n",
        "\n",
        "    def forward (self, x):\n",
        "        x = torch.relu(self.fc1(x))\n",
        "        x = torch.relu(self.fc2(x))\n",
        "        x = torch.relu(self.fc3(x))\n",
        "        x = torch.relu(self.fc4(x))\n",
        "        x = torch.relu(self.fc5(x))\n",
        "        x = self.fc6(x)\n",
        "\n",
        "        return x"
      ]
    },
    {
      "cell_type": "code",
      "execution_count": null,
      "metadata": {
        "id": "F9IL6wQhpg7n"
      },
      "outputs": [],
      "source": [
        "class MLP_sigmoid(nn.Module):\n",
        "\n",
        "    def __init__(self):\n",
        "        super().__init__()\n",
        "        self.fc1 = nn.Linear(28*28, 100)\n",
        "        self.fc2 = nn.Linear(100, 100)\n",
        "        self.fc3 = nn.Linear(100, 80)\n",
        "        self.fc4 = nn.Linear(80, 50)\n",
        "        self.fc5 = nn.Linear(50, 30)\n",
        "        self.fc6 = nn.Linear(30, 10) # 10 classes\n",
        "\n",
        "    def forward (self, x):\n",
        "        x = torch.sigmoid(self.fc1(x))\n",
        "        x = torch.sigmoid(self.fc2(x))\n",
        "        x = torch.sigmoid(self.fc3(x))\n",
        "        x = torch.sigmoid(self.fc4(x))\n",
        "        x = torch.sigmoid(self.fc5(x))\n",
        "        x = self.fc6(x)\n",
        "\n",
        "        return x\n"
      ]
    },
    {
      "cell_type": "code",
      "execution_count": null,
      "metadata": {
        "colab": {
          "base_uri": "https://localhost:8080/"
        },
        "id": "CJw_AgIqqB0h",
        "outputId": "d65d8592-4d84-46f5-f1a9-46eb429da235"
      },
      "outputs": [
        {
          "output_type": "execute_result",
          "data": {
            "text/plain": [
              "MLP_relu(\n",
              "  (fc1): Linear(in_features=784, out_features=100, bias=True)\n",
              "  (fc2): Linear(in_features=100, out_features=100, bias=True)\n",
              "  (fc3): Linear(in_features=100, out_features=80, bias=True)\n",
              "  (fc4): Linear(in_features=80, out_features=50, bias=True)\n",
              "  (fc5): Linear(in_features=50, out_features=30, bias=True)\n",
              "  (fc6): Linear(in_features=30, out_features=10, bias=True)\n",
              ")"
            ]
          },
          "metadata": {},
          "execution_count": 29
        }
      ],
      "source": [
        "#instantiate the models\n",
        "\n",
        "model_relu = MLP_relu()\n",
        "model_sigmoid = MLP_sigmoid()\n",
        "model_relu"
      ]
    },
    {
      "cell_type": "markdown",
      "metadata": {
        "id": "6yn7GJCIxr8Y"
      },
      "source": [
        "Modify the train function to save the gradient and weights of each layer, every epoch. Return these values as well."
      ]
    },
    {
      "cell_type": "code",
      "execution_count": null,
      "metadata": {
        "id": "owVOfUYjPLei"
      },
      "outputs": [],
      "source": [
        "def train(model, loss_function, optimizer, train_loader, test_loader, epochs):\n",
        "\n",
        "    train_losses = []\n",
        "    test_losses = []\n",
        "    train_acc = []\n",
        "    test_acc = []\n",
        "    weights = {'H1':[], 'H2':[], 'H3':[],'H4':[], 'H5':[]}\n",
        "    biases = {'H1':[], 'H2':[], 'H3':[],'H4':[], 'H5':[]}\n",
        "    grads = {'H1':[], 'H2':[], 'H3':[],'H4':[], 'H5':[]}\n",
        "\n",
        "    # Set the model to train mode\n",
        "    model.train()\n",
        "\n",
        "    # Training loop\n",
        "    epochs = tqdm(range(epochs))\n",
        "\n",
        "    for epoch in epochs:\n",
        "\n",
        "        batch_train_losses = []\n",
        "        batch_train_acc = []\n",
        "\n",
        "        model.train()\n",
        "        for batch in train_loader:\n",
        "\n",
        "            correct = 0 # Correct prediction per batch\n",
        "\n",
        "            ## Step 1: Move input data to device (only strictly necessary if we use GPU)\n",
        "            images = batch[0].reshape(-1, 28*28).to(device)\n",
        "            labels = batch[1].to(device)\n",
        "\n",
        "            ## Step 2: Run the model on the input data\n",
        "            preds = model(images)\n",
        "            preds = preds.squeeze(-1)\n",
        "\n",
        "            ## Step 3: Calculate the loss\n",
        "            loss = loss_function(preds, labels)\n",
        "\n",
        "            ## Step 4: Perform backpropagation\n",
        "            # Before calculating the gradients, we need to ensure that they are all zero.\n",
        "            # The gradients would not be overwritten, but actually added to the existing ones.\n",
        "            optimizer.zero_grad()\n",
        "\n",
        "            # Perform backpropagation\n",
        "            loss.backward()\n",
        "\n",
        "            ## Step 5: Update the parameters\n",
        "            optimizer.step()\n",
        "\n",
        "            # Train loss of each batch\n",
        "            batch_train_losses.append(loss.item())\n",
        "\n",
        "            # Train accuracy of each batch\n",
        "            _, predicted = torch.max(preds, 1)\n",
        "            correct += (predicted == labels).sum().item()\n",
        "            accuracy = (correct / batch_size) * 100\n",
        "            batch_train_acc.append(accuracy)\n",
        "\n",
        "\n",
        "        # Retrieve the weight and biases of each hidden layer per epoch\n",
        "        # our model.parameters is going to have 10 items for hidden layers and 2 items for output layer\n",
        "        model_parameters = list(model.parameters())\n",
        "\n",
        "        weights['H1'].append(model_parameters[0].tolist())\n",
        "        weights['H2'].append(model_parameters[2].tolist())\n",
        "        weights['H3'].append(model_parameters[4].tolist())\n",
        "        weights['H4'].append(model_parameters[6].tolist())\n",
        "        weights['H5'].append(model_parameters[8].tolist())\n",
        "\n",
        "        biases['H1'].append(model_parameters[1].tolist())\n",
        "        biases['H2'].append(model_parameters[3].tolist())\n",
        "        biases['H3'].append(model_parameters[4].tolist())\n",
        "        biases['H4'].append(model_parameters[5].tolist())\n",
        "        biases['H5'].append(model_parameters[6].tolist())\n",
        "\n",
        "        grads['H1'].append(model.fc1.weight.grad.tolist())\n",
        "        grads['H2'].append(model.fc2.weight.grad.tolist())\n",
        "        grads['H3'].append(model.fc3.weight.grad.tolist())\n",
        "        grads['H4'].append(model.fc4.weight.grad.tolist())\n",
        "        grads['H5'].append(model.fc5.weight.grad.tolist())\n",
        "\n",
        "\n",
        "        # Computing test accuracy and test loss for each epoch\n",
        "        test_losses, test_acc = eval_model(model, test_loader, test_losses, test_acc)\n",
        "\n",
        "        # Computing train accuracy and train loss for each epoch\n",
        "        train_losses.append(np.mean(batch_train_losses))\n",
        "        train_acc.append(np.mean(batch_train_acc))\n",
        "        epochs.set_postfix({'loss': train_losses})\n",
        "\n",
        "    return train_losses, train_acc, test_acc, test_losses, weights, grads, biases"
      ]
    },
    {
      "cell_type": "markdown",
      "metadata": {
        "id": "XLsPDMyiPKYT"
      },
      "source": [
        "Now, train the sigmoid and relu model."
      ]
    },
    {
      "cell_type": "code",
      "execution_count": null,
      "metadata": {
        "id": "T_AlQt8UyG68"
      },
      "outputs": [],
      "source": [
        "#initialize loss function and optimizer\n",
        "loss_function = nn.CrossEntropyLoss()\n",
        "optimizer_relu = torch.optim.SGD(model_relu.parameters(), lr=0.01)\n",
        "optimizer_sigmoid = torch.optim.SGD(model_sigmoid.parameters(), lr=0.01)"
      ]
    },
    {
      "cell_type": "code",
      "source": [
        "model_relu.to(device)\n",
        "model_sigmoid.to(device)"
      ],
      "metadata": {
        "colab": {
          "base_uri": "https://localhost:8080/"
        },
        "id": "MSeswF5c1qiJ",
        "outputId": "369860df-3fac-45d1-9272-65935ff3173b"
      },
      "execution_count": null,
      "outputs": [
        {
          "output_type": "execute_result",
          "data": {
            "text/plain": [
              "MLP_sigmoid(\n",
              "  (fc1): Linear(in_features=784, out_features=100, bias=True)\n",
              "  (fc2): Linear(in_features=100, out_features=100, bias=True)\n",
              "  (fc3): Linear(in_features=100, out_features=80, bias=True)\n",
              "  (fc4): Linear(in_features=80, out_features=50, bias=True)\n",
              "  (fc5): Linear(in_features=50, out_features=30, bias=True)\n",
              "  (fc6): Linear(in_features=30, out_features=10, bias=True)\n",
              ")"
            ]
          },
          "metadata": {},
          "execution_count": 32
        }
      ]
    },
    {
      "cell_type": "code",
      "execution_count": null,
      "metadata": {
        "id": "RpfTlX_dzUeo",
        "colab": {
          "base_uri": "https://localhost:8080/",
          "height": 77,
          "referenced_widgets": [
            "7b6e9e0a186a42198d38c29ef1fe5695",
            "7bfb1d6930374c2bb5ebb6c9b7e89aa1",
            "5de1f1b0f4f44df8839b390e265f5116",
            "08bbf65d5176404b95a262a840a83b6f",
            "26f08660a86742f2b32a6a6a9857da70",
            "ebd614d3648941b0b0e23a9c9cb87ff8",
            "cf42832f79184819ac92f4ed5bc6bbed",
            "7bee588ccf824d2088ed2cbd2b25b165",
            "d174503bca634f31bdec89c86d56b6f5",
            "9bd3dbf47cd84b6d92ab4f06ee970adc",
            "c93100dfe93a468f9b070c71e4ed6240"
          ]
        },
        "outputId": "8b539796-24ef-4207-a279-f6d8ef700f83"
      },
      "outputs": [
        {
          "output_type": "display_data",
          "data": {
            "text/plain": [
              "  0%|          | 0/10 [00:00<?, ?it/s]"
            ],
            "application/vnd.jupyter.widget-view+json": {
              "version_major": 2,
              "version_minor": 0,
              "model_id": "7b6e9e0a186a42198d38c29ef1fe5695"
            }
          },
          "metadata": {}
        }
      ],
      "source": [
        "# training ReLU\n",
        "train_losses_relu, train_acc_relu, test_acc_relu, test_losses_relu, weights_relu, grads_relu, biases_relu = train(model_relu, loss_function, optimizer_relu, train_loader, test_loader, epochs)"
      ]
    },
    {
      "cell_type": "code",
      "source": [
        "# training Sigmoid\n",
        "train_losses_sigmoid, train_acc_sigmoid, test_acc_sigmoid, test_losses_sigmoid, weights_sigmoid, grads_sigmoid, biases_sigmoid = train(model_sigmoid, loss_function, optimizer_sigmoid, train_loader, test_loader, epochs)"
      ],
      "metadata": {
        "colab": {
          "base_uri": "https://localhost:8080/",
          "height": 77,
          "referenced_widgets": [
            "97e184206cbe439cb90373213bd6253e",
            "512efcf9123b4058b94cf2ac6b7c7761",
            "df469f3f8fb04c31ae33c90fa05e848b",
            "033437bde7d94605948659fe42e7519e",
            "781f8d7a727c4c4b9932f75b7893b9a5",
            "0e22b8d9eea14c23a7eabedae24b6a54",
            "6a90722500934eeb9f132ce6b27960a6",
            "7f68940f36204c9886ca42a92463d1d9",
            "28d12fa2272c4a22a38a051883a763a4",
            "7d09b1d4251e42a49305cba9c013e368",
            "cc84fb26d5974ddfbebe96877b6c7ec1"
          ]
        },
        "id": "7RbiOEDqygac",
        "outputId": "942defc4-12b8-43c0-d35a-5192b7ba1cab"
      },
      "execution_count": null,
      "outputs": [
        {
          "output_type": "display_data",
          "data": {
            "text/plain": [
              "  0%|          | 0/10 [00:00<?, ?it/s]"
            ],
            "application/vnd.jupyter.widget-view+json": {
              "version_major": 2,
              "version_minor": 0,
              "model_id": "97e184206cbe439cb90373213bd6253e"
            }
          },
          "metadata": {}
        }
      ]
    },
    {
      "cell_type": "code",
      "source": [
        "print(len(grads_sigmoid['H1'][0]))\n",
        "grads_sigmoid['H1'][0][0]"
      ],
      "metadata": {
        "id": "3y6TGOu_9wrw"
      },
      "execution_count": null,
      "outputs": []
    },
    {
      "cell_type": "code",
      "execution_count": null,
      "metadata": {
        "id": "Oj0CjH_kzbrt",
        "colab": {
          "base_uri": "https://localhost:8080/",
          "height": 422
        },
        "outputId": "4ffbb239-dae2-40eb-c569-c8766c847a8b"
      },
      "outputs": [
        {
          "output_type": "execute_result",
          "data": {
            "text/plain": [
              "<matplotlib.legend.Legend at 0x7f01110b6130>"
            ]
          },
          "metadata": {},
          "execution_count": 36
        },
        {
          "output_type": "display_data",
          "data": {
            "text/plain": [
              "<Figure size 1152x432 with 2 Axes>"
            ],
            "image/png": "[encoded data removed]"
          },
          "metadata": {
            "needs_background": "light"
          }
        }
      ],
      "source": [
        "#plot loss\n",
        "\n",
        "fig = plt.figure(figsize=(16, 6))\n",
        "\n",
        "plt.subplot(1, 2, 1)\n",
        "plt.plot(np.arange(1, 11, 1), train_losses_relu, label='Train Loss relu')\n",
        "plt.plot(np.arange(1, 11, 1), train_losses_sigmoid, label='Train Loss sigmod')\n",
        "plt.xlabel('Epoch')\n",
        "plt.ylabel('Loss')\n",
        "plt.title('Train Loss Comparison')\n",
        "plt.legend()\n",
        "\n",
        "plt.subplot(1, 2, 2)\n",
        "plt.plot(np.arange(1, 11, 1), test_losses_relu, label='Test Loss relu')\n",
        "plt.plot(np.arange(1, 11, 1), test_losses_sigmoid, label='Test Loss sigmod')\n",
        "plt.xlabel('Epoch')\n",
        "plt.ylabel('Loss')\n",
        "plt.title('Test Loss Comparison')\n",
        "plt.legend()"
      ]
    },
    {
      "cell_type": "code",
      "execution_count": null,
      "metadata": {
        "id": "6IA1xaS5QkWy",
        "colab": {
          "base_uri": "https://localhost:8080/",
          "height": 422
        },
        "outputId": "1b5e2e4e-de53-4322-9f1a-35662d5191da"
      },
      "outputs": [
        {
          "output_type": "execute_result",
          "data": {
            "text/plain": [
              "<matplotlib.legend.Legend at 0x7f0110feee50>"
            ]
          },
          "metadata": {},
          "execution_count": 37
        },
        {
          "output_type": "display_data",
          "data": {
            "text/plain": [
              "<Figure size 1152x432 with 2 Axes>"
            ],
            "image/png": "[encoded data removed]"
          },
          "metadata": {
            "needs_background": "light"
          }
        }
      ],
      "source": [
        "#plot accuracy\n",
        "\n",
        "fig = plt.figure(figsize=(16, 6))\n",
        "\n",
        "plt.subplot(1, 2, 1)\n",
        "plt.plot(np.arange(1, 11, 1), train_acc_relu, label='Train Accuracy relu')\n",
        "plt.plot(np.arange(1, 11, 1), train_acc_sigmoid, label='Train Accuracy sigmod')\n",
        "plt.xlabel('Epoch')\n",
        "plt.ylabel('Accuracy')\n",
        "plt.title('Train Accuracy Comparison')\n",
        "plt.legend()\n",
        "\n",
        "plt.subplot(1, 2, 2)\n",
        "plt.plot(np.arange(1, 11, 1), test_acc_relu, label='Test Accuracy relu')\n",
        "plt.plot(np.arange(1, 11, 1), test_acc_sigmoid, label='Test Accuracy sigmod')\n",
        "plt.xlabel('Epoch')\n",
        "plt.ylabel('Accuracy')\n",
        "plt.title('Test Accuracy Comparison')\n",
        "plt.legend()"
      ]
    },
    {
      "cell_type": "markdown",
      "metadata": {
        "id": "qcyJufaazMzT"
      },
      "source": [
        "As you can see, the sigmoid model is not good at all. Based on the following plots explain why.\n",
        "\n",
        "\n",
        "\n",
        "> As we can see because of large number of neurons and more layer than before we are facing vanishing gradient descent problem. In the plots that we draw in below there is almost no change in sigmoid weights because of the nature of its functionality. Also there is no significant change in the gradients of weights in sigmoid model and therefore there is no change in weights of this model and we don't learn anything and model not gonna change during epochs.\n",
        "\n",
        "> But in contrast because of ReLU that isalmost a linear activation function somehow we manage vanishing gradient descent problem and we can reach to a better result.\n"
      ]
    },
    {
      "cell_type": "markdown",
      "metadata": {
        "id": "F3wSt4k5znex"
      },
      "source": [
        "For each layer, calculate the mean and std (standard deviation) of all its weights and plot these values ​​vs #epochs. Repeat the same for the grads.\n",
        "\n",
        "You should do:\n",
        "\n",
        "* Calculate the average weight of each hidden layer in each epoch.\n",
        "* Calculate the std for the weight of each hidden layer in each epoch.\n",
        "\n",
        "* Calculate the average grads of each hidden layer in each epoch.\n",
        "* Calculate the std for the grads of each hidden layer in each epoch.\n",
        "\n",
        "Plot all of them for both models (use subplot to compare two models' results).\n",
        "\n",
        "\n",
        "\n",
        "\n"
      ]
    },
    {
      "cell_type": "code",
      "execution_count": null,
      "metadata": {
        "id": "RGXk99Ht10Gz"
      },
      "outputs": [],
      "source": [
        "#calculate means and stds\n",
        "\n",
        "# H1 -> 10 epoch * 100 hidden neurons * 784 input\n",
        "# H2 -> 10 epoch * 100 hidden neurons * 100 hidden neurons from previous layer\n",
        "\n",
        "# relu model\n",
        "mean_weights_relu = {'H1':[], 'H2':[], 'H3':[], 'H4':[], 'H5':[]}\n",
        "std_weights_relu = {'H1':[], 'H2':[], 'H3':[], 'H4':[], 'H5':[]}\n",
        "mean_grads_relu = {'H1':[], 'H2':[], 'H3':[], 'H4':[], 'H5':[]}\n",
        "std_grads_relu = {'H1':[], 'H2':[], 'H3':[], 'H4':[], 'H5':[]}\n",
        "\n",
        "for hidden_layer in weights_relu:\n",
        "    for epoch in weights_relu[hidden_layer]:\n",
        "        flat_list = [num for neuron in epoch for num in neuron]\n",
        "        mean_weights_relu[hidden_layer].append(statistics.mean(flat_list))\n",
        "        std_weights_relu[hidden_layer].append(statistics.stdev(flat_list))\n",
        "\n",
        "for hidden_layer in grads_relu:\n",
        "    for epoch in grads_relu[hidden_layer]:\n",
        "        flat_list = [num for neuron in epoch for num in neuron]\n",
        "        mean_grads_relu[hidden_layer].append(statistics.mean(flat_list))\n",
        "        std_grads_relu[hidden_layer].append(statistics.stdev(flat_list))\n",
        "\n",
        "# sigmoid model\n",
        "mean_weights_sigmoid = {'H1':[], 'H2':[], 'H3':[], 'H4':[], 'H5':[]}\n",
        "std_weights_sigmoid = {'H1':[], 'H2':[], 'H3':[], 'H4':[], 'H5':[]}\n",
        "mean_grads_sigmoid = {'H1':[], 'H2':[], 'H3':[], 'H4':[], 'H5':[]}\n",
        "std_grads_sigmoid = {'H1':[], 'H2':[], 'H3':[], 'H4':[], 'H5':[]}\n",
        "\n",
        "for hidden_layer in weights_sigmoid:\n",
        "    for epoch in weights_sigmoid[hidden_layer]:\n",
        "        flat_list = [num for neuron in epoch for num in neuron]\n",
        "        mean_weights_sigmoid[hidden_layer].append(statistics.mean(flat_list))\n",
        "        std_weights_sigmoid[hidden_layer].append(statistics.stdev(flat_list))\n",
        "\n",
        "for hidden_layer in grads_sigmoid:\n",
        "    for epoch in grads_sigmoid[hidden_layer]:\n",
        "        flat_list = [num for neuron in epoch for num in neuron]\n",
        "        mean_grads_sigmoid[hidden_layer].append(statistics.mean(flat_list))\n",
        "        std_grads_sigmoid[hidden_layer].append(statistics.stdev(flat_list))\n"
      ]
    },
    {
      "cell_type": "code",
      "source": [
        "# calculate average grads\n",
        "\n",
        "# calculated at the above cell"
      ],
      "metadata": {
        "id": "XdrT8zzorKzN"
      },
      "execution_count": null,
      "outputs": []
    },
    {
      "cell_type": "code",
      "source": [
        "list(enumerate(mean_weights_relu))"
      ],
      "metadata": {
        "colab": {
          "base_uri": "https://localhost:8080/"
        },
        "id": "UMHbBnFiV8nJ",
        "outputId": "795b5558-d023-4f63-da26-1bbbbdf29d45"
      },
      "execution_count": null,
      "outputs": [
        {
          "output_type": "execute_result",
          "data": {
            "text/plain": [
              "[(0, 'H1'), (1, 'H2'), (2, 'H3'), (3, 'H4'), (4, 'H5')]"
            ]
          },
          "metadata": {},
          "execution_count": 44
        }
      ]
    },
    {
      "cell_type": "code",
      "execution_count": null,
      "metadata": {
        "id": "Vq35DPN41nWP",
        "colab": {
          "base_uri": "https://localhost:8080/",
          "height": 171
        },
        "outputId": "64aade92-4d55-41bf-c00f-cfe2c4b82841"
      },
      "outputs": [
        {
          "output_type": "display_data",
          "data": {
            "text/plain": [
              "<Figure size 3600x432 with 5 Axes>"
            ],
            "image/png": "[encoded data removed]"
          },
          "metadata": {
            "needs_background": "light"
          }
        }
      ],
      "source": [
        "#plot weights mean for the both models\n",
        "\n",
        "# ReLU Model\n",
        "fig = plt.figure(figsize=(50, 6))\n",
        "axs = []\n",
        "\n",
        "for index, hidden_layer in enumerate(mean_weights_relu):\n",
        "    ax = plt.subplot(1, 5, index + 1)\n",
        "    axs.append(ax)\n",
        "    plt.plot(np.arange(1, 11, 1), mean_weights_relu[hidden_layer], label=f'Mean Weight for ReLU {hidden_layer}')\n",
        "    plt.xlabel('Epoch')\n",
        "    plt.ylabel('Mean Weight')\n",
        "    plt.title(f'Mean Weight for {hidden_layer}')\n",
        "\n",
        "# Sigmoid Model\n",
        "for index, hidden_layer in enumerate(mean_weights_sigmoid):\n",
        "    axs[index].plot(np.arange(1, 11, 1), mean_weights_sigmoid[hidden_layer], label=f'Mean Weight for Sigmoid {hidden_layer}')\n",
        "    axs[index].legend()\n"
      ]
    },
    {
      "cell_type": "code",
      "execution_count": null,
      "metadata": {
        "id": "etPX2STS1u9h",
        "colab": {
          "base_uri": "https://localhost:8080/",
          "height": 424
        },
        "outputId": "c18dd656-0dc3-414c-9637-907af0bb77f6"
      },
      "outputs": [
        {
          "output_type": "display_data",
          "data": {
            "text/plain": [
              "<Figure size 3600x432 with 5 Axes>"
            ],
            "image/png": "[encoded data removed]"
          },
          "metadata": {
            "needs_background": "light"
          }
        }
      ],
      "source": [
        "#plot weights std for the both models\n",
        "\n",
        "# ReLU Model\n",
        "fig = plt.figure(figsize=(50, 6))\n",
        "axs = []\n",
        "\n",
        "for index, hidden_layer in enumerate(std_weights_relu):\n",
        "    ax = plt.subplot(1, 5, index + 1)\n",
        "    axs.append(ax)\n",
        "    plt.plot(np.arange(1, 11, 1), std_weights_relu[hidden_layer], label=f'Std Weight for ReLU {hidden_layer}')\n",
        "    plt.xlabel('Epoch')\n",
        "    plt.ylabel('Std Weight')\n",
        "    plt.title(f'Std Weight for {hidden_layer}')\n",
        "\n",
        "# Sigmoid Model\n",
        "for index, hidden_layer in enumerate(std_weights_sigmoid):\n",
        "    axs[index].plot(np.arange(1, 11, 1), std_weights_sigmoid[hidden_layer], label=f'Std Weight for Sigmoid {hidden_layer}')\n",
        "    axs[index].legend()\n"
      ]
    },
    {
      "cell_type": "code",
      "execution_count": null,
      "metadata": {
        "id": "zoXOrJYT1xoj",
        "colab": {
          "base_uri": "https://localhost:8080/",
          "height": 424
        },
        "outputId": "288ce094-e4c3-47ad-d76a-48d76fe2fe22"
      },
      "outputs": [
        {
          "output_type": "display_data",
          "data": {
            "text/plain": [
              "<Figure size 3600x432 with 5 Axes>"
            ],
            "image/png": "[encoded data removed]"
          },
          "metadata": {
            "needs_background": "light"
          }
        }
      ],
      "source": [
        "#plot grads mean for the both models\n",
        "\n",
        "# ReLU Model\n",
        "fig = plt.figure(figsize=(50, 6))\n",
        "axs = []\n",
        "\n",
        "for index, hidden_layer in enumerate(mean_grads_relu):\n",
        "    ax = plt.subplot(1, 5, index + 1)\n",
        "    axs.append(ax)\n",
        "    plt.plot(np.arange(1, 11, 1), mean_grads_relu[hidden_layer], label=f'Mean Grads for ReLU {hidden_layer}')\n",
        "    plt.xlabel('Epoch')\n",
        "    plt.ylabel('Mean Grads')\n",
        "    plt.title(f'Mean Grads for {hidden_layer}')\n",
        "\n",
        "# Sigmoid Model\n",
        "for index, hidden_layer in enumerate(mean_grads_sigmoid):\n",
        "    axs[index].plot(np.arange(1, 11, 1), mean_grads_sigmoid[hidden_layer], label=f'Mean Grads for Sigmoid {hidden_layer}')\n",
        "    axs[index].legend()\n"
      ]
    },
    {
      "cell_type": "code",
      "execution_count": null,
      "metadata": {
        "id": "tUj9Q65E1x6Q",
        "colab": {
          "base_uri": "https://localhost:8080/",
          "height": 424
        },
        "outputId": "1a4576f4-aa99-44ba-add9-2e78c2fce31a"
      },
      "outputs": [
        {
          "output_type": "display_data",
          "data": {
            "text/plain": [
              "<Figure size 3600x432 with 5 Axes>"
            ],
            "image/png": "[encoded data removed]"
          },
          "metadata": {
            "needs_background": "light"
          }
        }
      ],
      "source": [
        "#plot grads std for the both models\n",
        "\n",
        "# ReLU Model\n",
        "fig = plt.figure(figsize=(50, 6))\n",
        "axs = []\n",
        "\n",
        "for index, hidden_layer in enumerate(std_grads_relu):\n",
        "    ax = plt.subplot(1, 5, index + 1)\n",
        "    axs.append(ax)\n",
        "    plt.plot(np.arange(1, 11, 1), std_grads_relu[hidden_layer], label=f'Std Grads for ReLU {hidden_layer}')\n",
        "    plt.xlabel('Epoch')\n",
        "    plt.ylabel('Std Grads')\n",
        "    plt.title(f'Std Grads for {hidden_layer}')\n",
        "\n",
        "# Sigmoid Model\n",
        "for index, hidden_layer in enumerate(std_grads_sigmoid):\n",
        "    axs[index].plot(np.arange(1, 11, 1), std_grads_sigmoid[hidden_layer], label=f'Std Grads for Sigmoid {hidden_layer}')\n",
        "    axs[index].legend()\n"
      ]
    },
    {
      "cell_type": "markdown",
      "metadata": {
        "id": "s5-2hPa-5Zww"
      },
      "source": [
        "Good Luck!"
      ]
    }
  ],
  "metadata": {
    "accelerator": "GPU",
    "colab": {
      "provenance": [],
      "toc_visible": true,
      "include_colab_link": true
    },
    "gpuClass": "standard",
    "kernelspec": {
      "display_name": "Python 3",
      "name": "python3"
    },
    "language_info": {
      "name": "python"
    },
    "widgets": {
      "application/vnd.jupyter.widget-state+json": {
        "e1693846451d4482aa33810e4a1b1cbe": {
          "model_module": "@jupyter-widgets/controls",
          "model_name": "HBoxModel",
          "model_module_version": "1.5.0",
          "state": {
            "_dom_classes": [],
            "_model_module": "@jupyter-widgets/controls",
            "_model_module_version": "1.5.0",
            "_model_name": "HBoxModel",
            "_view_count": null,
            "_view_module": "@jupyter-widgets/controls",
            "_view_module_version": "1.5.0",
            "_view_name": "HBoxView",
            "box_style": "",
            "children": [
              "IPY_MODEL_4d0abdcb468d4dc5b3a15ab803aaa8eb",
              "IPY_MODEL_813094fe2cde4553ba6d5be5a3753885",
              "IPY_MODEL_c0a60acf8f85425684366d97ecf80285"
            ],
            "layout": "IPY_MODEL_e7b51b148021498e9dcfa00dae165862"
          }
        },
        "4d0abdcb468d4dc5b3a15ab803aaa8eb": {
          "model_module": "@jupyter-widgets/controls",
          "model_name": "HTMLModel",
          "model_module_version": "1.5.0",
          "state": {
            "_dom_classes": [],
            "_model_module": "@jupyter-widgets/controls",
            "_model_module_version": "1.5.0",
            "_model_name": "HTMLModel",
            "_view_count": null,
            "_view_module": "@jupyter-widgets/controls",
            "_view_module_version": "1.5.0",
            "_view_name": "HTMLView",
            "description": "",
            "description_tooltip": null,
            "layout": "IPY_MODEL_29bbc3f8b31643cc8391a4d3fd2d36d5",
            "placeholder": "​",
            "style": "IPY_MODEL_45857a7808c044638cadc8d205289760",
            "value": "100%"
          }
        },
        "813094fe2cde4553ba6d5be5a3753885": {
          "model_module": "@jupyter-widgets/controls",
          "model_name": "FloatProgressModel",
          "model_module_version": "1.5.0",
          "state": {
            "_dom_classes": [],
            "_model_module": "@jupyter-widgets/controls",
            "_model_module_version": "1.5.0",
            "_model_name": "FloatProgressModel",
            "_view_count": null,
            "_view_module": "@jupyter-widgets/controls",
            "_view_module_version": "1.5.0",
            "_view_name": "ProgressView",
            "bar_style": "success",
            "description": "",
            "description_tooltip": null,
            "layout": "IPY_MODEL_edabfe1ef8b64f8e8ead90fd33989fb5",
            "max": 9912422,
            "min": 0,
            "orientation": "horizontal",
            "style": "IPY_MODEL_b706a0005bff41479271f98bcdd7ebd6",
            "value": 9912422
          }
        },
        "c0a60acf8f85425684366d97ecf80285": {
          "model_module": "@jupyter-widgets/controls",
          "model_name": "HTMLModel",
          "model_module_version": "1.5.0",
          "state": {
            "_dom_classes": [],
            "_model_module": "@jupyter-widgets/controls",
            "_model_module_version": "1.5.0",
            "_model_name": "HTMLModel",
            "_view_count": null,
            "_view_module": "@jupyter-widgets/controls",
            "_view_module_version": "1.5.0",
            "_view_name": "HTMLView",
            "description": "",
            "description_tooltip": null,
            "layout": "IPY_MODEL_2b5ed341ec2d4c089883c919bd536c8c",
            "placeholder": "​",
            "style": "IPY_MODEL_d895beaffa794da080f885ef5b05a3c0",
            "value": " 9912422/9912422 [00:00&lt;00:00, 112325803.41it/s]"
          }
        },
        "e7b51b148021498e9dcfa00dae165862": {
          "model_module": "@jupyter-widgets/base",
          "model_name": "LayoutModel",
          "model_module_version": "1.2.0",
          "state": {
            "_model_module": "@jupyter-widgets/base",
            "_model_module_version": "1.2.0",
            "_model_name": "LayoutModel",
            "_view_count": null,
            "_view_module": "@jupyter-widgets/base",
            "_view_module_version": "1.2.0",
            "_view_name": "LayoutView",
            "align_content": null,
            "align_items": null,
            "align_self": null,
            "border": null,
            "bottom": null,
            "display": null,
            "flex": null,
            "flex_flow": null,
            "grid_area": null,
            "grid_auto_columns": null,
            "grid_auto_flow": null,
            "grid_auto_rows": null,
            "grid_column": null,
            "grid_gap": null,
            "grid_row": null,
            "grid_template_areas": null,
            "grid_template_columns": null,
            "grid_template_rows": null,
            "height": null,
            "justify_content": null,
            "justify_items": null,
            "left": null,
            "margin": null,
            "max_height": null,
            "max_width": null,
            "min_height": null,
            "min_width": null,
            "object_fit": null,
            "object_position": null,
            "order": null,
            "overflow": null,
            "overflow_x": null,
            "overflow_y": null,
            "padding": null,
            "right": null,
            "top": null,
            "visibility": null,
            "width": null
          }
        },
        "29bbc3f8b31643cc8391a4d3fd2d36d5": {
          "model_module": "@jupyter-widgets/base",
          "model_name": "LayoutModel",
          "model_module_version": "1.2.0",
          "state": {
            "_model_module": "@jupyter-widgets/base",
            "_model_module_version": "1.2.0",
            "_model_name": "LayoutModel",
            "_view_count": null,
            "_view_module": "@jupyter-widgets/base",
            "_view_module_version": "1.2.0",
            "_view_name": "LayoutView",
            "align_content": null,
            "align_items": null,
            "align_self": null,
            "border": null,
            "bottom": null,
            "display": null,
            "flex": null,
            "flex_flow": null,
            "grid_area": null,
            "grid_auto_columns": null,
            "grid_auto_flow": null,
            "grid_auto_rows": null,
            "grid_column": null,
            "grid_gap": null,
            "grid_row": null,
            "grid_template_areas": null,
            "grid_template_columns": null,
            "grid_template_rows": null,
            "height": null,
            "justify_content": null,
            "justify_items": null,
            "left": null,
            "margin": null,
            "max_height": null,
            "max_width": null,
            "min_height": null,
            "min_width": null,
            "object_fit": null,
            "object_position": null,
            "order": null,
            "overflow": null,
            "overflow_x": null,
            "overflow_y": null,
            "padding": null,
            "right": null,
            "top": null,
            "visibility": null,
            "width": null
          }
        },
        "45857a7808c044638cadc8d205289760": {
          "model_module": "@jupyter-widgets/controls",
          "model_name": "DescriptionStyleModel",
          "model_module_version": "1.5.0",
          "state": {
            "_model_module": "@jupyter-widgets/controls",
            "_model_module_version": "1.5.0",
            "_model_name": "DescriptionStyleModel",
            "_view_count": null,
            "_view_module": "@jupyter-widgets/base",
            "_view_module_version": "1.2.0",
            "_view_name": "StyleView",
            "description_width": ""
          }
        },
        "edabfe1ef8b64f8e8ead90fd33989fb5": {
          "model_module": "@jupyter-widgets/base",
          "model_name": "LayoutModel",
          "model_module_version": "1.2.0",
          "state": {
            "_model_module": "@jupyter-widgets/base",
            "_model_module_version": "1.2.0",
            "_model_name": "LayoutModel",
            "_view_count": null,
            "_view_module": "@jupyter-widgets/base",
            "_view_module_version": "1.2.0",
            "_view_name": "LayoutView",
            "align_content": null,
            "align_items": null,
            "align_self": null,
            "border": null,
            "bottom": null,
            "display": null,
            "flex": null,
            "flex_flow": null,
            "grid_area": null,
            "grid_auto_columns": null,
            "grid_auto_flow": null,
            "grid_auto_rows": null,
            "grid_column": null,
            "grid_gap": null,
            "grid_row": null,
            "grid_template_areas": null,
            "grid_template_columns": null,
            "grid_template_rows": null,
            "height": null,
            "justify_content": null,
            "justify_items": null,
            "left": null,
            "margin": null,
            "max_height": null,
            "max_width": null,
            "min_height": null,
            "min_width": null,
            "object_fit": null,
            "object_position": null,
            "order": null,
            "overflow": null,
            "overflow_x": null,
            "overflow_y": null,
            "padding": null,
            "right": null,
            "top": null,
            "visibility": null,
            "width": null
          }
        },
        "b706a0005bff41479271f98bcdd7ebd6": {
          "model_module": "@jupyter-widgets/controls",
          "model_name": "ProgressStyleModel",
          "model_module_version": "1.5.0",
          "state": {
            "_model_module": "@jupyter-widgets/controls",
            "_model_module_version": "1.5.0",
            "_model_name": "ProgressStyleModel",
            "_view_count": null,
            "_view_module": "@jupyter-widgets/base",
            "_view_module_version": "1.2.0",
            "_view_name": "StyleView",
            "bar_color": null,
            "description_width": ""
          }
        },
        "2b5ed341ec2d4c089883c919bd536c8c": {
          "model_module": "@jupyter-widgets/base",
          "model_name": "LayoutModel",
          "model_module_version": "1.2.0",
          "state": {
            "_model_module": "@jupyter-widgets/base",
            "_model_module_version": "1.2.0",
            "_model_name": "LayoutModel",
            "_view_count": null,
            "_view_module": "@jupyter-widgets/base",
            "_view_module_version": "1.2.0",
            "_view_name": "LayoutView",
            "align_content": null,
            "align_items": null,
            "align_self": null,
            "border": null,
            "bottom": null,
            "display": null,
            "flex": null,
            "flex_flow": null,
            "grid_area": null,
            "grid_auto_columns": null,
            "grid_auto_flow": null,
            "grid_auto_rows": null,
            "grid_column": null,
            "grid_gap": null,
            "grid_row": null,
            "grid_template_areas": null,
            "grid_template_columns": null,
            "grid_template_rows": null,
            "height": null,
            "justify_content": null,
            "justify_items": null,
            "left": null,
            "margin": null,
            "max_height": null,
            "max_width": null,
            "min_height": null,
            "min_width": null,
            "object_fit": null,
            "object_position": null,
            "order": null,
            "overflow": null,
            "overflow_x": null,
            "overflow_y": null,
            "padding": null,
            "right": null,
            "top": null,
            "visibility": null,
            "width": null
          }
        },
        "d895beaffa794da080f885ef5b05a3c0": {
          "model_module": "@jupyter-widgets/controls",
          "model_name": "DescriptionStyleModel",
          "model_module_version": "1.5.0",
          "state": {
            "_model_module": "@jupyter-widgets/controls",
            "_model_module_version": "1.5.0",
            "_model_name": "DescriptionStyleModel",
            "_view_count": null,
            "_view_module": "@jupyter-widgets/base",
            "_view_module_version": "1.2.0",
            "_view_name": "StyleView",
            "description_width": ""
          }
        },
        "128d9d39ce204d1c989963e41f43c50b": {
          "model_module": "@jupyter-widgets/controls",
          "model_name": "HBoxModel",
          "model_module_version": "1.5.0",
          "state": {
            "_dom_classes": [],
            "_model_module": "@jupyter-widgets/controls",
            "_model_module_version": "1.5.0",
            "_model_name": "HBoxModel",
            "_view_count": null,
            "_view_module": "@jupyter-widgets/controls",
            "_view_module_version": "1.5.0",
            "_view_name": "HBoxView",
            "box_style": "",
            "children": [
              "IPY_MODEL_9738d80eea8f4a8fb4fc51a121c0b814",
              "IPY_MODEL_f00762672e5d4d4ebd0f20bdfe6df4c8",
              "IPY_MODEL_0dc66d66213c4036b9121b8eb059ceb0"
            ],
            "layout": "IPY_MODEL_06c1316b09c74691b09f12e1e6172d0e"
          }
        },
        "9738d80eea8f4a8fb4fc51a121c0b814": {
          "model_module": "@jupyter-widgets/controls",
          "model_name": "HTMLModel",
          "model_module_version": "1.5.0",
          "state": {
            "_dom_classes": [],
            "_model_module": "@jupyter-widgets/controls",
            "_model_module_version": "1.5.0",
            "_model_name": "HTMLModel",
            "_view_count": null,
            "_view_module": "@jupyter-widgets/controls",
            "_view_module_version": "1.5.0",
            "_view_name": "HTMLView",
            "description": "",
            "description_tooltip": null,
            "layout": "IPY_MODEL_9652cefea0934b85a02fca59412ee65c",
            "placeholder": "​",
            "style": "IPY_MODEL_43f1eec4a6bb49fc86711f52eda6f339",
            "value": "100%"
          }
        },
        "f00762672e5d4d4ebd0f20bdfe6df4c8": {
          "model_module": "@jupyter-widgets/controls",
          "model_name": "FloatProgressModel",
          "model_module_version": "1.5.0",
          "state": {
            "_dom_classes": [],
            "_model_module": "@jupyter-widgets/controls",
            "_model_module_version": "1.5.0",
            "_model_name": "FloatProgressModel",
            "_view_count": null,
            "_view_module": "@jupyter-widgets/controls",
            "_view_module_version": "1.5.0",
            "_view_name": "ProgressView",
            "bar_style": "success",
            "description": "",
            "description_tooltip": null,
            "layout": "IPY_MODEL_599b50975d984a6dad6a99d9adfe0d57",
            "max": 28881,
            "min": 0,
            "orientation": "horizontal",
            "style": "IPY_MODEL_09cdc915803f4890ba0560f905183b31",
            "value": 28881
          }
        },
        "0dc66d66213c4036b9121b8eb059ceb0": {
          "model_module": "@jupyter-widgets/controls",
          "model_name": "HTMLModel",
          "model_module_version": "1.5.0",
          "state": {
            "_dom_classes": [],
            "_model_module": "@jupyter-widgets/controls",
            "_model_module_version": "1.5.0",
            "_model_name": "HTMLModel",
            "_view_count": null,
            "_view_module": "@jupyter-widgets/controls",
            "_view_module_version": "1.5.0",
            "_view_name": "HTMLView",
            "description": "",
            "description_tooltip": null,
            "layout": "IPY_MODEL_00499487e91445a19b7f230fad38351f",
            "placeholder": "​",
            "style": "IPY_MODEL_6350058300e44e72be292fac79254925",
            "value": " 28881/28881 [00:00&lt;00:00, 982040.63it/s]"
          }
        },
        "06c1316b09c74691b09f12e1e6172d0e": {
          "model_module": "@jupyter-widgets/base",
          "model_name": "LayoutModel",
          "model_module_version": "1.2.0",
          "state": {
            "_model_module": "@jupyter-widgets/base",
            "_model_module_version": "1.2.0",
            "_model_name": "LayoutModel",
            "_view_count": null,
            "_view_module": "@jupyter-widgets/base",
            "_view_module_version": "1.2.0",
            "_view_name": "LayoutView",
            "align_content": null,
            "align_items": null,
            "align_self": null,
            "border": null,
            "bottom": null,
            "display": null,
            "flex": null,
            "flex_flow": null,
            "grid_area": null,
            "grid_auto_columns": null,
            "grid_auto_flow": null,
            "grid_auto_rows": null,
            "grid_column": null,
            "grid_gap": null,
            "grid_row": null,
            "grid_template_areas": null,
            "grid_template_columns": null,
            "grid_template_rows": null,
            "height": null,
            "justify_content": null,
            "justify_items": null,
            "left": null,
            "margin": null,
            "max_height": null,
            "max_width": null,
            "min_height": null,
            "min_width": null,
            "object_fit": null,
            "object_position": null,
            "order": null,
            "overflow": null,
            "overflow_x": null,
            "overflow_y": null,
            "padding": null,
            "right": null,
            "top": null,
            "visibility": null,
            "width": null
          }
        },
        "9652cefea0934b85a02fca59412ee65c": {
          "model_module": "@jupyter-widgets/base",
          "model_name": "LayoutModel",
          "model_module_version": "1.2.0",
          "state": {
            "_model_module": "@jupyter-widgets/base",
            "_model_module_version": "1.2.0",
            "_model_name": "LayoutModel",
            "_view_count": null,
            "_view_module": "@jupyter-widgets/base",
            "_view_module_version": "1.2.0",
            "_view_name": "LayoutView",
            "align_content": null,
            "align_items": null,
            "align_self": null,
            "border": null,
            "bottom": null,
            "display": null,
            "flex": null,
            "flex_flow": null,
            "grid_area": null,
            "grid_auto_columns": null,
            "grid_auto_flow": null,
            "grid_auto_rows": null,
            "grid_column": null,
            "grid_gap": null,
            "grid_row": null,
            "grid_template_areas": null,
            "grid_template_columns": null,
            "grid_template_rows": null,
            "height": null,
            "justify_content": null,
            "justify_items": null,
            "left": null,
            "margin": null,
            "max_height": null,
            "max_width": null,
            "min_height": null,
            "min_width": null,
            "object_fit": null,
            "object_position": null,
            "order": null,
            "overflow": null,
            "overflow_x": null,
            "overflow_y": null,
            "padding": null,
            "right": null,
            "top": null,
            "visibility": null,
            "width": null
          }
        },
        "43f1eec4a6bb49fc86711f52eda6f339": {
          "model_module": "@jupyter-widgets/controls",
          "model_name": "DescriptionStyleModel",
          "model_module_version": "1.5.0",
          "state": {
            "_model_module": "@jupyter-widgets/controls",
            "_model_module_version": "1.5.0",
            "_model_name": "DescriptionStyleModel",
            "_view_count": null,
            "_view_module": "@jupyter-widgets/base",
            "_view_module_version": "1.2.0",
            "_view_name": "StyleView",
            "description_width": ""
          }
        },
        "599b50975d984a6dad6a99d9adfe0d57": {
          "model_module": "@jupyter-widgets/base",
          "model_name": "LayoutModel",
          "model_module_version": "1.2.0",
          "state": {
            "_model_module": "@jupyter-widgets/base",
            "_model_module_version": "1.2.0",
            "_model_name": "LayoutModel",
            "_view_count": null,
            "_view_module": "@jupyter-widgets/base",
            "_view_module_version": "1.2.0",
            "_view_name": "LayoutView",
            "align_content": null,
            "align_items": null,
            "align_self": null,
            "border": null,
            "bottom": null,
            "display": null,
            "flex": null,
            "flex_flow": null,
            "grid_area": null,
            "grid_auto_columns": null,
            "grid_auto_flow": null,
            "grid_auto_rows": null,
            "grid_column": null,
            "grid_gap": null,
            "grid_row": null,
            "grid_template_areas": null,
            "grid_template_columns": null,
            "grid_template_rows": null,
            "height": null,
            "justify_content": null,
            "justify_items": null,
            "left": null,
            "margin": null,
            "max_height": null,
            "max_width": null,
            "min_height": null,
            "min_width": null,
            "object_fit": null,
            "object_position": null,
            "order": null,
            "overflow": null,
            "overflow_x": null,
            "overflow_y": null,
            "padding": null,
            "right": null,
            "top": null,
            "visibility": null,
            "width": null
          }
        },
        "09cdc915803f4890ba0560f905183b31": {
          "model_module": "@jupyter-widgets/controls",
          "model_name": "ProgressStyleModel",
          "model_module_version": "1.5.0",
          "state": {
            "_model_module": "@jupyter-widgets/controls",
            "_model_module_version": "1.5.0",
            "_model_name": "ProgressStyleModel",
            "_view_count": null,
            "_view_module": "@jupyter-widgets/base",
            "_view_module_version": "1.2.0",
            "_view_name": "StyleView",
            "bar_color": null,
            "description_width": ""
          }
        },
        "00499487e91445a19b7f230fad38351f": {
          "model_module": "@jupyter-widgets/base",
          "model_name": "LayoutModel",
          "model_module_version": "1.2.0",
          "state": {
            "_model_module": "@jupyter-widgets/base",
            "_model_module_version": "1.2.0",
            "_model_name": "LayoutModel",
            "_view_count": null,
            "_view_module": "@jupyter-widgets/base",
            "_view_module_version": "1.2.0",
            "_view_name": "LayoutView",
            "align_content": null,
            "align_items": null,
            "align_self": null,
            "border": null,
            "bottom": null,
            "display": null,
            "flex": null,
            "flex_flow": null,
            "grid_area": null,
            "grid_auto_columns": null,
            "grid_auto_flow": null,
            "grid_auto_rows": null,
            "grid_column": null,
            "grid_gap": null,
            "grid_row": null,
            "grid_template_areas": null,
            "grid_template_columns": null,
            "grid_template_rows": null,
            "height": null,
            "justify_content": null,
            "justify_items": null,
            "left": null,
            "margin": null,
            "max_height": null,
            "max_width": null,
            "min_height": null,
            "min_width": null,
            "object_fit": null,
            "object_position": null,
            "order": null,
            "overflow": null,
            "overflow_x": null,
            "overflow_y": null,
            "padding": null,
            "right": null,
            "top": null,
            "visibility": null,
            "width": null
          }
        },
        "6350058300e44e72be292fac79254925": {
          "model_module": "@jupyter-widgets/controls",
          "model_name": "DescriptionStyleModel",
          "model_module_version": "1.5.0",
          "state": {
            "_model_module": "@jupyter-widgets/controls",
            "_model_module_version": "1.5.0",
            "_model_name": "DescriptionStyleModel",
            "_view_count": null,
            "_view_module": "@jupyter-widgets/base",
            "_view_module_version": "1.2.0",
            "_view_name": "StyleView",
            "description_width": ""
          }
        },
        "4fcc4883e64a4bb68e2f83d6b6fcecb3": {
          "model_module": "@jupyter-widgets/controls",
          "model_name": "HBoxModel",
          "model_module_version": "1.5.0",
          "state": {
            "_dom_classes": [],
            "_model_module": "@jupyter-widgets/controls",
            "_model_module_version": "1.5.0",
            "_model_name": "HBoxModel",
            "_view_count": null,
            "_view_module": "@jupyter-widgets/controls",
            "_view_module_version": "1.5.0",
            "_view_name": "HBoxView",
            "box_style": "",
            "children": [
              "IPY_MODEL_f190ec59fa78435da02d098f3e3628a4",
              "IPY_MODEL_0fa5c924366049c8992f5e1deec12c2f",
              "IPY_MODEL_81b5d01034144a07b45be9f404646d60"
            ],
            "layout": "IPY_MODEL_1ba52eecfc1a425ba7d282e9f8620337"
          }
        },
        "f190ec59fa78435da02d098f3e3628a4": {
          "model_module": "@jupyter-widgets/controls",
          "model_name": "HTMLModel",
          "model_module_version": "1.5.0",
          "state": {
            "_dom_classes": [],
            "_model_module": "@jupyter-widgets/controls",
            "_model_module_version": "1.5.0",
            "_model_name": "HTMLModel",
            "_view_count": null,
            "_view_module": "@jupyter-widgets/controls",
            "_view_module_version": "1.5.0",
            "_view_name": "HTMLView",
            "description": "",
            "description_tooltip": null,
            "layout": "IPY_MODEL_ecb3ffde03084ecaa9e4f97004313953",
            "placeholder": "​",
            "style": "IPY_MODEL_d0bec80058274208b72fd9115f182e27",
            "value": "100%"
          }
        },
        "0fa5c924366049c8992f5e1deec12c2f": {
          "model_module": "@jupyter-widgets/controls",
          "model_name": "FloatProgressModel",
          "model_module_version": "1.5.0",
          "state": {
            "_dom_classes": [],
            "_model_module": "@jupyter-widgets/controls",
            "_model_module_version": "1.5.0",
            "_model_name": "FloatProgressModel",
            "_view_count": null,
            "_view_module": "@jupyter-widgets/controls",
            "_view_module_version": "1.5.0",
            "_view_name": "ProgressView",
            "bar_style": "success",
            "description": "",
            "description_tooltip": null,
            "layout": "IPY_MODEL_992e4c78fa0548ef93efaf80259743ba",
            "max": 1648877,
            "min": 0,
            "orientation": "horizontal",
            "style": "IPY_MODEL_39cad5cb784949a3b6cc5984d7600ec2",
            "value": 1648877
          }
        },
        "81b5d01034144a07b45be9f404646d60": {
          "model_module": "@jupyter-widgets/controls",
          "model_name": "HTMLModel",
          "model_module_version": "1.5.0",
          "state": {
            "_dom_classes": [],
            "_model_module": "@jupyter-widgets/controls",
            "_model_module_version": "1.5.0",
            "_model_name": "HTMLModel",
            "_view_count": null,
            "_view_module": "@jupyter-widgets/controls",
            "_view_module_version": "1.5.0",
            "_view_name": "HTMLView",
            "description": "",
            "description_tooltip": null,
            "layout": "IPY_MODEL_2f1dd22dd3204797823b808633ddce8b",
            "placeholder": "​",
            "style": "IPY_MODEL_c7a5daa314504da1abf667c0aa6c8279",
            "value": " 1648877/1648877 [00:00&lt;00:00, 38365349.69it/s]"
          }
        },
        "1ba52eecfc1a425ba7d282e9f8620337": {
          "model_module": "@jupyter-widgets/base",
          "model_name": "LayoutModel",
          "model_module_version": "1.2.0",
          "state": {
            "_model_module": "@jupyter-widgets/base",
            "_model_module_version": "1.2.0",
            "_model_name": "LayoutModel",
            "_view_count": null,
            "_view_module": "@jupyter-widgets/base",
            "_view_module_version": "1.2.0",
            "_view_name": "LayoutView",
            "align_content": null,
            "align_items": null,
            "align_self": null,
            "border": null,
            "bottom": null,
            "display": null,
            "flex": null,
            "flex_flow": null,
            "grid_area": null,
            "grid_auto_columns": null,
            "grid_auto_flow": null,
            "grid_auto_rows": null,
            "grid_column": null,
            "grid_gap": null,
            "grid_row": null,
            "grid_template_areas": null,
            "grid_template_columns": null,
            "grid_template_rows": null,
            "height": null,
            "justify_content": null,
            "justify_items": null,
            "left": null,
            "margin": null,
            "max_height": null,
            "max_width": null,
            "min_height": null,
            "min_width": null,
            "object_fit": null,
            "object_position": null,
            "order": null,
            "overflow": null,
            "overflow_x": null,
            "overflow_y": null,
            "padding": null,
            "right": null,
            "top": null,
            "visibility": null,
            "width": null
          }
        },
        "ecb3ffde03084ecaa9e4f97004313953": {
          "model_module": "@jupyter-widgets/base",
          "model_name": "LayoutModel",
          "model_module_version": "1.2.0",
          "state": {
            "_model_module": "@jupyter-widgets/base",
            "_model_module_version": "1.2.0",
            "_model_name": "LayoutModel",
            "_view_count": null,
            "_view_module": "@jupyter-widgets/base",
            "_view_module_version": "1.2.0",
            "_view_name": "LayoutView",
            "align_content": null,
            "align_items": null,
            "align_self": null,
            "border": null,
            "bottom": null,
            "display": null,
            "flex": null,
            "flex_flow": null,
            "grid_area": null,
            "grid_auto_columns": null,
            "grid_auto_flow": null,
            "grid_auto_rows": null,
            "grid_column": null,
            "grid_gap": null,
            "grid_row": null,
            "grid_template_areas": null,
            "grid_template_columns": null,
            "grid_template_rows": null,
            "height": null,
            "justify_content": null,
            "justify_items": null,
            "left": null,
            "margin": null,
            "max_height": null,
            "max_width": null,
            "min_height": null,
            "min_width": null,
            "object_fit": null,
            "object_position": null,
            "order": null,
            "overflow": null,
            "overflow_x": null,
            "overflow_y": null,
            "padding": null,
            "right": null,
            "top": null,
            "visibility": null,
            "width": null
          }
        },
        "d0bec80058274208b72fd9115f182e27": {
          "model_module": "@jupyter-widgets/controls",
          "model_name": "DescriptionStyleModel",
          "model_module_version": "1.5.0",
          "state": {
            "_model_module": "@jupyter-widgets/controls",
            "_model_module_version": "1.5.0",
            "_model_name": "DescriptionStyleModel",
            "_view_count": null,
            "_view_module": "@jupyter-widgets/base",
            "_view_module_version": "1.2.0",
            "_view_name": "StyleView",
            "description_width": ""
          }
        },
        "992e4c78fa0548ef93efaf80259743ba": {
          "model_module": "@jupyter-widgets/base",
          "model_name": "LayoutModel",
          "model_module_version": "1.2.0",
          "state": {
            "_model_module": "@jupyter-widgets/base",
            "_model_module_version": "1.2.0",
            "_model_name": "LayoutModel",
            "_view_count": null,
            "_view_module": "@jupyter-widgets/base",
            "_view_module_version": "1.2.0",
            "_view_name": "LayoutView",
            "align_content": null,
            "align_items": null,
            "align_self": null,
            "border": null,
            "bottom": null,
            "display": null,
            "flex": null,
            "flex_flow": null,
            "grid_area": null,
            "grid_auto_columns": null,
            "grid_auto_flow": null,
            "grid_auto_rows": null,
            "grid_column": null,
            "grid_gap": null,
            "grid_row": null,
            "grid_template_areas": null,
            "grid_template_columns": null,
            "grid_template_rows": null,
            "height": null,
            "justify_content": null,
            "justify_items": null,
            "left": null,
            "margin": null,
            "max_height": null,
            "max_width": null,
            "min_height": null,
            "min_width": null,
            "object_fit": null,
            "object_position": null,
            "order": null,
            "overflow": null,
            "overflow_x": null,
            "overflow_y": null,
            "padding": null,
            "right": null,
            "top": null,
            "visibility": null,
            "width": null
          }
        },
        "39cad5cb784949a3b6cc5984d7600ec2": {
          "model_module": "@jupyter-widgets/controls",
          "model_name": "ProgressStyleModel",
          "model_module_version": "1.5.0",
          "state": {
            "_model_module": "@jupyter-widgets/controls",
            "_model_module_version": "1.5.0",
            "_model_name": "ProgressStyleModel",
            "_view_count": null,
            "_view_module": "@jupyter-widgets/base",
            "_view_module_version": "1.2.0",
            "_view_name": "StyleView",
            "bar_color": null,
            "description_width": ""
          }
        },
        "2f1dd22dd3204797823b808633ddce8b": {
          "model_module": "@jupyter-widgets/base",
          "model_name": "LayoutModel",
          "model_module_version": "1.2.0",
          "state": {
            "_model_module": "@jupyter-widgets/base",
            "_model_module_version": "1.2.0",
            "_model_name": "LayoutModel",
            "_view_count": null,
            "_view_module": "@jupyter-widgets/base",
            "_view_module_version": "1.2.0",
            "_view_name": "LayoutView",
            "align_content": null,
            "align_items": null,
            "align_self": null,
            "border": null,
            "bottom": null,
            "display": null,
            "flex": null,
            "flex_flow": null,
            "grid_area": null,
            "grid_auto_columns": null,
            "grid_auto_flow": null,
            "grid_auto_rows": null,
            "grid_column": null,
            "grid_gap": null,
            "grid_row": null,
            "grid_template_areas": null,
            "grid_template_columns": null,
            "grid_template_rows": null,
            "height": null,
            "justify_content": null,
            "justify_items": null,
            "left": null,
            "margin": null,
            "max_height": null,
            "max_width": null,
            "min_height": null,
            "min_width": null,
            "object_fit": null,
            "object_position": null,
            "order": null,
            "overflow": null,
            "overflow_x": null,
            "overflow_y": null,
            "padding": null,
            "right": null,
            "top": null,
            "visibility": null,
            "width": null
          }
        },
        "c7a5daa314504da1abf667c0aa6c8279": {
          "model_module": "@jupyter-widgets/controls",
          "model_name": "DescriptionStyleModel",
          "model_module_version": "1.5.0",
          "state": {
            "_model_module": "@jupyter-widgets/controls",
            "_model_module_version": "1.5.0",
            "_model_name": "DescriptionStyleModel",
            "_view_count": null,
            "_view_module": "@jupyter-widgets/base",
            "_view_module_version": "1.2.0",
            "_view_name": "StyleView",
            "description_width": ""
          }
        },
        "6ab04d41f66d4f4189df6c7873d3f6eb": {
          "model_module": "@jupyter-widgets/controls",
          "model_name": "HBoxModel",
          "model_module_version": "1.5.0",
          "state": {
            "_dom_classes": [],
            "_model_module": "@jupyter-widgets/controls",
            "_model_module_version": "1.5.0",
            "_model_name": "HBoxModel",
            "_view_count": null,
            "_view_module": "@jupyter-widgets/controls",
            "_view_module_version": "1.5.0",
            "_view_name": "HBoxView",
            "box_style": "",
            "children": [
              "IPY_MODEL_8982625a2d5c47498095ccee33c93d9a",
              "IPY_MODEL_e182a06c199847188a6ad70dba188433",
              "IPY_MODEL_2362303a32e74a5ca02cf7059e93aa43"
            ],
            "layout": "IPY_MODEL_dd70b39c379a411abfdeb58b6085b8ad"
          }
        },
        "8982625a2d5c47498095ccee33c93d9a": {
          "model_module": "@jupyter-widgets/controls",
          "model_name": "HTMLModel",
          "model_module_version": "1.5.0",
          "state": {
            "_dom_classes": [],
            "_model_module": "@jupyter-widgets/controls",
            "_model_module_version": "1.5.0",
            "_model_name": "HTMLModel",
            "_view_count": null,
            "_view_module": "@jupyter-widgets/controls",
            "_view_module_version": "1.5.0",
            "_view_name": "HTMLView",
            "description": "",
            "description_tooltip": null,
            "layout": "IPY_MODEL_6c4ecfa8e9cb47dda0d3575c3571ac69",
            "placeholder": "​",
            "style": "IPY_MODEL_59a0116e18f9491a81f6f3c3d81184a3",
            "value": "100%"
          }
        },
        "e182a06c199847188a6ad70dba188433": {
          "model_module": "@jupyter-widgets/controls",
          "model_name": "FloatProgressModel",
          "model_module_version": "1.5.0",
          "state": {
            "_dom_classes": [],
            "_model_module": "@jupyter-widgets/controls",
            "_model_module_version": "1.5.0",
            "_model_name": "FloatProgressModel",
            "_view_count": null,
            "_view_module": "@jupyter-widgets/controls",
            "_view_module_version": "1.5.0",
            "_view_name": "ProgressView",
            "bar_style": "success",
            "description": "",
            "description_tooltip": null,
            "layout": "IPY_MODEL_51a8779957fc4cc99ab261afd438dc08",
            "max": 4542,
            "min": 0,
            "orientation": "horizontal",
            "style": "IPY_MODEL_269a5c30c9fc4113a5bb0279b58bad60",
            "value": 4542
          }
        },
        "2362303a32e74a5ca02cf7059e93aa43": {
          "model_module": "@jupyter-widgets/controls",
          "model_name": "HTMLModel",
          "model_module_version": "1.5.0",
          "state": {
            "_dom_classes": [],
            "_model_module": "@jupyter-widgets/controls",
            "_model_module_version": "1.5.0",
            "_model_name": "HTMLModel",
            "_view_count": null,
            "_view_module": "@jupyter-widgets/controls",
            "_view_module_version": "1.5.0",
            "_view_name": "HTMLView",
            "description": "",
            "description_tooltip": null,
            "layout": "IPY_MODEL_c52898220bb84ce693114891606b8451",
            "placeholder": "​",
            "style": "IPY_MODEL_078dabf28c804be487ed2884830f36d1",
            "value": " 4542/4542 [00:00&lt;00:00, 152406.67it/s]"
          }
        },
        "dd70b39c379a411abfdeb58b6085b8ad": {
          "model_module": "@jupyter-widgets/base",
          "model_name": "LayoutModel",
          "model_module_version": "1.2.0",
          "state": {
            "_model_module": "@jupyter-widgets/base",
            "_model_module_version": "1.2.0",
            "_model_name": "LayoutModel",
            "_view_count": null,
            "_view_module": "@jupyter-widgets/base",
            "_view_module_version": "1.2.0",
            "_view_name": "LayoutView",
            "align_content": null,
            "align_items": null,
            "align_self": null,
            "border": null,
            "bottom": null,
            "display": null,
            "flex": null,
            "flex_flow": null,
            "grid_area": null,
            "grid_auto_columns": null,
            "grid_auto_flow": null,
            "grid_auto_rows": null,
            "grid_column": null,
            "grid_gap": null,
            "grid_row": null,
            "grid_template_areas": null,
            "grid_template_columns": null,
            "grid_template_rows": null,
            "height": null,
            "justify_content": null,
            "justify_items": null,
            "left": null,
            "margin": null,
            "max_height": null,
            "max_width": null,
            "min_height": null,
            "min_width": null,
            "object_fit": null,
            "object_position": null,
            "order": null,
            "overflow": null,
            "overflow_x": null,
            "overflow_y": null,
            "padding": null,
            "right": null,
            "top": null,
            "visibility": null,
            "width": null
          }
        },
        "6c4ecfa8e9cb47dda0d3575c3571ac69": {
          "model_module": "@jupyter-widgets/base",
          "model_name": "LayoutModel",
          "model_module_version": "1.2.0",
          "state": {
            "_model_module": "@jupyter-widgets/base",
            "_model_module_version": "1.2.0",
            "_model_name": "LayoutModel",
            "_view_count": null,
            "_view_module": "@jupyter-widgets/base",
            "_view_module_version": "1.2.0",
            "_view_name": "LayoutView",
            "align_content": null,
            "align_items": null,
            "align_self": null,
            "border": null,
            "bottom": null,
            "display": null,
            "flex": null,
            "flex_flow": null,
            "grid_area": null,
            "grid_auto_columns": null,
            "grid_auto_flow": null,
            "grid_auto_rows": null,
            "grid_column": null,
            "grid_gap": null,
            "grid_row": null,
            "grid_template_areas": null,
            "grid_template_columns": null,
            "grid_template_rows": null,
            "height": null,
            "justify_content": null,
            "justify_items": null,
            "left": null,
            "margin": null,
            "max_height": null,
            "max_width": null,
            "min_height": null,
            "min_width": null,
            "object_fit": null,
            "object_position": null,
            "order": null,
            "overflow": null,
            "overflow_x": null,
            "overflow_y": null,
            "padding": null,
            "right": null,
            "top": null,
            "visibility": null,
            "width": null
          }
        },
        "59a0116e18f9491a81f6f3c3d81184a3": {
          "model_module": "@jupyter-widgets/controls",
          "model_name": "DescriptionStyleModel",
          "model_module_version": "1.5.0",
          "state": {
            "_model_module": "@jupyter-widgets/controls",
            "_model_module_version": "1.5.0",
            "_model_name": "DescriptionStyleModel",
            "_view_count": null,
            "_view_module": "@jupyter-widgets/base",
            "_view_module_version": "1.2.0",
            "_view_name": "StyleView",
            "description_width": ""
          }
        },
        "51a8779957fc4cc99ab261afd438dc08": {
          "model_module": "@jupyter-widgets/base",
          "model_name": "LayoutModel",
          "model_module_version": "1.2.0",
          "state": {
            "_model_module": "@jupyter-widgets/base",
            "_model_module_version": "1.2.0",
            "_model_name": "LayoutModel",
            "_view_count": null,
            "_view_module": "@jupyter-widgets/base",
            "_view_module_version": "1.2.0",
            "_view_name": "LayoutView",
            "align_content": null,
            "align_items": null,
            "align_self": null,
            "border": null,
            "bottom": null,
            "display": null,
            "flex": null,
            "flex_flow": null,
            "grid_area": null,
            "grid_auto_columns": null,
            "grid_auto_flow": null,
            "grid_auto_rows": null,
            "grid_column": null,
            "grid_gap": null,
            "grid_row": null,
            "grid_template_areas": null,
            "grid_template_columns": null,
            "grid_template_rows": null,
            "height": null,
            "justify_content": null,
            "justify_items": null,
            "left": null,
            "margin": null,
            "max_height": null,
            "max_width": null,
            "min_height": null,
            "min_width": null,
            "object_fit": null,
            "object_position": null,
            "order": null,
            "overflow": null,
            "overflow_x": null,
            "overflow_y": null,
            "padding": null,
            "right": null,
            "top": null,
            "visibility": null,
            "width": null
          }
        },
        "269a5c30c9fc4113a5bb0279b58bad60": {
          "model_module": "@jupyter-widgets/controls",
          "model_name": "ProgressStyleModel",
          "model_module_version": "1.5.0",
          "state": {
            "_model_module": "@jupyter-widgets/controls",
            "_model_module_version": "1.5.0",
            "_model_name": "ProgressStyleModel",
            "_view_count": null,
            "_view_module": "@jupyter-widgets/base",
            "_view_module_version": "1.2.0",
            "_view_name": "StyleView",
            "bar_color": null,
            "description_width": ""
          }
        },
        "c52898220bb84ce693114891606b8451": {
          "model_module": "@jupyter-widgets/base",
          "model_name": "LayoutModel",
          "model_module_version": "1.2.0",
          "state": {
            "_model_module": "@jupyter-widgets/base",
            "_model_module_version": "1.2.0",
            "_model_name": "LayoutModel",
            "_view_count": null,
            "_view_module": "@jupyter-widgets/base",
            "_view_module_version": "1.2.0",
            "_view_name": "LayoutView",
            "align_content": null,
            "align_items": null,
            "align_self": null,
            "border": null,
            "bottom": null,
            "display": null,
            "flex": null,
            "flex_flow": null,
            "grid_area": null,
            "grid_auto_columns": null,
            "grid_auto_flow": null,
            "grid_auto_rows": null,
            "grid_column": null,
            "grid_gap": null,
            "grid_row": null,
            "grid_template_areas": null,
            "grid_template_columns": null,
            "grid_template_rows": null,
            "height": null,
            "justify_content": null,
            "justify_items": null,
            "left": null,
            "margin": null,
            "max_height": null,
            "max_width": null,
            "min_height": null,
            "min_width": null,
            "object_fit": null,
            "object_position": null,
            "order": null,
            "overflow": null,
            "overflow_x": null,
            "overflow_y": null,
            "padding": null,
            "right": null,
            "top": null,
            "visibility": null,
            "width": null
          }
        },
        "078dabf28c804be487ed2884830f36d1": {
          "model_module": "@jupyter-widgets/controls",
          "model_name": "DescriptionStyleModel",
          "model_module_version": "1.5.0",
          "state": {
            "_model_module": "@jupyter-widgets/controls",
            "_model_module_version": "1.5.0",
            "_model_name": "DescriptionStyleModel",
            "_view_count": null,
            "_view_module": "@jupyter-widgets/base",
            "_view_module_version": "1.2.0",
            "_view_name": "StyleView",
            "description_width": ""
          }
        },
        "0d648f4bc5e346faabed5a0d0043564f": {
          "model_module": "@jupyter-widgets/controls",
          "model_name": "HBoxModel",
          "model_module_version": "1.5.0",
          "state": {
            "_dom_classes": [],
            "_model_module": "@jupyter-widgets/controls",
            "_model_module_version": "1.5.0",
            "_model_name": "HBoxModel",
            "_view_count": null,
            "_view_module": "@jupyter-widgets/controls",
            "_view_module_version": "1.5.0",
            "_view_name": "HBoxView",
            "box_style": "",
            "children": [
              "IPY_MODEL_5f3a78705d18474d9d74175a3b8743a7",
              "IPY_MODEL_fd971320a9a9463ba52d481c26cd98e0",
              "IPY_MODEL_79de0afbc7394f03b0b587c2e6b5f8d9"
            ],
            "layout": "IPY_MODEL_7f28d9ec457e4fd889865eddbc66f58c"
          }
        },
        "5f3a78705d18474d9d74175a3b8743a7": {
          "model_module": "@jupyter-widgets/controls",
          "model_name": "HTMLModel",
          "model_module_version": "1.5.0",
          "state": {
            "_dom_classes": [],
            "_model_module": "@jupyter-widgets/controls",
            "_model_module_version": "1.5.0",
            "_model_name": "HTMLModel",
            "_view_count": null,
            "_view_module": "@jupyter-widgets/controls",
            "_view_module_version": "1.5.0",
            "_view_name": "HTMLView",
            "description": "",
            "description_tooltip": null,
            "layout": "IPY_MODEL_5f935e6f0a394f3b9d5b236dbec20c8b",
            "placeholder": "​",
            "style": "IPY_MODEL_e5d498bd49bc45a9a480abf0f0b478ee",
            "value": "100%"
          }
        },
        "fd971320a9a9463ba52d481c26cd98e0": {
          "model_module": "@jupyter-widgets/controls",
          "model_name": "FloatProgressModel",
          "model_module_version": "1.5.0",
          "state": {
            "_dom_classes": [],
            "_model_module": "@jupyter-widgets/controls",
            "_model_module_version": "1.5.0",
            "_model_name": "FloatProgressModel",
            "_view_count": null,
            "_view_module": "@jupyter-widgets/controls",
            "_view_module_version": "1.5.0",
            "_view_name": "ProgressView",
            "bar_style": "success",
            "description": "",
            "description_tooltip": null,
            "layout": "IPY_MODEL_8545a1eb392c4196ba44de04ce822f4e",
            "max": 10,
            "min": 0,
            "orientation": "horizontal",
            "style": "IPY_MODEL_3410cd5de7e0431e9ddf051dc2bfabed",
            "value": 10
          }
        },
        "79de0afbc7394f03b0b587c2e6b5f8d9": {
          "model_module": "@jupyter-widgets/controls",
          "model_name": "HTMLModel",
          "model_module_version": "1.5.0",
          "state": {
            "_dom_classes": [],
            "_model_module": "@jupyter-widgets/controls",
            "_model_module_version": "1.5.0",
            "_model_name": "HTMLModel",
            "_view_count": null,
            "_view_module": "@jupyter-widgets/controls",
            "_view_module_version": "1.5.0",
            "_view_name": "HTMLView",
            "description": "",
            "description_tooltip": null,
            "layout": "IPY_MODEL_50597377eda1430485fbf051f43b16a9",
            "placeholder": "​",
            "style": "IPY_MODEL_c5c188ae665e4fc9abb9ca9d61e06379",
            "value": " 10/10 [00:59&lt;00:00,  5.97s/it, loss=[2.099452428619067, 0.9876694509387016, 0.5380027292172114, 0.42367590638498465, 0.3749781731516123, 0.34671526789665225, 0.32689036667346955, 0.3108396842579047, 0.2977002102136612, 0.28572378493845463]]"
          }
        },
        "7f28d9ec457e4fd889865eddbc66f58c": {
          "model_module": "@jupyter-widgets/base",
          "model_name": "LayoutModel",
          "model_module_version": "1.2.0",
          "state": {
            "_model_module": "@jupyter-widgets/base",
            "_model_module_version": "1.2.0",
            "_model_name": "LayoutModel",
            "_view_count": null,
            "_view_module": "@jupyter-widgets/base",
            "_view_module_version": "1.2.0",
            "_view_name": "LayoutView",
            "align_content": null,
            "align_items": null,
            "align_self": null,
            "border": null,
            "bottom": null,
            "display": null,
            "flex": null,
            "flex_flow": null,
            "grid_area": null,
            "grid_auto_columns": null,
            "grid_auto_flow": null,
            "grid_auto_rows": null,
            "grid_column": null,
            "grid_gap": null,
            "grid_row": null,
            "grid_template_areas": null,
            "grid_template_columns": null,
            "grid_template_rows": null,
            "height": null,
            "justify_content": null,
            "justify_items": null,
            "left": null,
            "margin": null,
            "max_height": null,
            "max_width": null,
            "min_height": null,
            "min_width": null,
            "object_fit": null,
            "object_position": null,
            "order": null,
            "overflow": null,
            "overflow_x": null,
            "overflow_y": null,
            "padding": null,
            "right": null,
            "top": null,
            "visibility": null,
            "width": null
          }
        },
        "5f935e6f0a394f3b9d5b236dbec20c8b": {
          "model_module": "@jupyter-widgets/base",
          "model_name": "LayoutModel",
          "model_module_version": "1.2.0",
          "state": {
            "_model_module": "@jupyter-widgets/base",
            "_model_module_version": "1.2.0",
            "_model_name": "LayoutModel",
            "_view_count": null,
            "_view_module": "@jupyter-widgets/base",
            "_view_module_version": "1.2.0",
            "_view_name": "LayoutView",
            "align_content": null,
            "align_items": null,
            "align_self": null,
            "border": null,
            "bottom": null,
            "display": null,
            "flex": null,
            "flex_flow": null,
            "grid_area": null,
            "grid_auto_columns": null,
            "grid_auto_flow": null,
            "grid_auto_rows": null,
            "grid_column": null,
            "grid_gap": null,
            "grid_row": null,
            "grid_template_areas": null,
            "grid_template_columns": null,
            "grid_template_rows": null,
            "height": null,
            "justify_content": null,
            "justify_items": null,
            "left": null,
            "margin": null,
            "max_height": null,
            "max_width": null,
            "min_height": null,
            "min_width": null,
            "object_fit": null,
            "object_position": null,
            "order": null,
            "overflow": null,
            "overflow_x": null,
            "overflow_y": null,
            "padding": null,
            "right": null,
            "top": null,
            "visibility": null,
            "width": null
          }
        },
        "e5d498bd49bc45a9a480abf0f0b478ee": {
          "model_module": "@jupyter-widgets/controls",
          "model_name": "DescriptionStyleModel",
          "model_module_version": "1.5.0",
          "state": {
            "_model_module": "@jupyter-widgets/controls",
            "_model_module_version": "1.5.0",
            "_model_name": "DescriptionStyleModel",
            "_view_count": null,
            "_view_module": "@jupyter-widgets/base",
            "_view_module_version": "1.2.0",
            "_view_name": "StyleView",
            "description_width": ""
          }
        },
        "8545a1eb392c4196ba44de04ce822f4e": {
          "model_module": "@jupyter-widgets/base",
          "model_name": "LayoutModel",
          "model_module_version": "1.2.0",
          "state": {
            "_model_module": "@jupyter-widgets/base",
            "_model_module_version": "1.2.0",
            "_model_name": "LayoutModel",
            "_view_count": null,
            "_view_module": "@jupyter-widgets/base",
            "_view_module_version": "1.2.0",
            "_view_name": "LayoutView",
            "align_content": null,
            "align_items": null,
            "align_self": null,
            "border": null,
            "bottom": null,
            "display": null,
            "flex": null,
            "flex_flow": null,
            "grid_area": null,
            "grid_auto_columns": null,
            "grid_auto_flow": null,
            "grid_auto_rows": null,
            "grid_column": null,
            "grid_gap": null,
            "grid_row": null,
            "grid_template_areas": null,
            "grid_template_columns": null,
            "grid_template_rows": null,
            "height": null,
            "justify_content": null,
            "justify_items": null,
            "left": null,
            "margin": null,
            "max_height": null,
            "max_width": null,
            "min_height": null,
            "min_width": null,
            "object_fit": null,
            "object_position": null,
            "order": null,
            "overflow": null,
            "overflow_x": null,
            "overflow_y": null,
            "padding": null,
            "right": null,
            "top": null,
            "visibility": null,
            "width": null
          }
        },
        "3410cd5de7e0431e9ddf051dc2bfabed": {
          "model_module": "@jupyter-widgets/controls",
          "model_name": "ProgressStyleModel",
          "model_module_version": "1.5.0",
          "state": {
            "_model_module": "@jupyter-widgets/controls",
            "_model_module_version": "1.5.0",
            "_model_name": "ProgressStyleModel",
            "_view_count": null,
            "_view_module": "@jupyter-widgets/base",
            "_view_module_version": "1.2.0",
            "_view_name": "StyleView",
            "bar_color": null,
            "description_width": ""
          }
        },
        "50597377eda1430485fbf051f43b16a9": {
          "model_module": "@jupyter-widgets/base",
          "model_name": "LayoutModel",
          "model_module_version": "1.2.0",
          "state": {
            "_model_module": "@jupyter-widgets/base",
            "_model_module_version": "1.2.0",
            "_model_name": "LayoutModel",
            "_view_count": null,
            "_view_module": "@jupyter-widgets/base",
            "_view_module_version": "1.2.0",
            "_view_name": "LayoutView",
            "align_content": null,
            "align_items": null,
            "align_self": null,
            "border": null,
            "bottom": null,
            "display": null,
            "flex": null,
            "flex_flow": null,
            "grid_area": null,
            "grid_auto_columns": null,
            "grid_auto_flow": null,
            "grid_auto_rows": null,
            "grid_column": null,
            "grid_gap": null,
            "grid_row": null,
            "grid_template_areas": null,
            "grid_template_columns": null,
            "grid_template_rows": null,
            "height": null,
            "justify_content": null,
            "justify_items": null,
            "left": null,
            "margin": null,
            "max_height": null,
            "max_width": null,
            "min_height": null,
            "min_width": null,
            "object_fit": null,
            "object_position": null,
            "order": null,
            "overflow": null,
            "overflow_x": null,
            "overflow_y": null,
            "padding": null,
            "right": null,
            "top": null,
            "visibility": null,
            "width": null
          }
        },
        "c5c188ae665e4fc9abb9ca9d61e06379": {
          "model_module": "@jupyter-widgets/controls",
          "model_name": "DescriptionStyleModel",
          "model_module_version": "1.5.0",
          "state": {
            "_model_module": "@jupyter-widgets/controls",
            "_model_module_version": "1.5.0",
            "_model_name": "DescriptionStyleModel",
            "_view_count": null,
            "_view_module": "@jupyter-widgets/base",
            "_view_module_version": "1.2.0",
            "_view_name": "StyleView",
            "description_width": ""
          }
        },
        "a427a9e8876c43bea9fcb260327b556f": {
          "model_module": "@jupyter-widgets/controls",
          "model_name": "HBoxModel",
          "model_module_version": "1.5.0",
          "state": {
            "_dom_classes": [],
            "_model_module": "@jupyter-widgets/controls",
            "_model_module_version": "1.5.0",
            "_model_name": "HBoxModel",
            "_view_count": null,
            "_view_module": "@jupyter-widgets/controls",
            "_view_module_version": "1.5.0",
            "_view_name": "HBoxView",
            "box_style": "",
            "children": [
              "IPY_MODEL_c9d079dfd15a48baaffebfaf4271bce8",
              "IPY_MODEL_fe1bd08fe4964d1195adbba974035c6b",
              "IPY_MODEL_5e99a0fc94fc425b923976b49816c842"
            ],
            "layout": "IPY_MODEL_037324057771451aa2d128e097d29907"
          }
        },
        "c9d079dfd15a48baaffebfaf4271bce8": {
          "model_module": "@jupyter-widgets/controls",
          "model_name": "HTMLModel",
          "model_module_version": "1.5.0",
          "state": {
            "_dom_classes": [],
            "_model_module": "@jupyter-widgets/controls",
            "_model_module_version": "1.5.0",
            "_model_name": "HTMLModel",
            "_view_count": null,
            "_view_module": "@jupyter-widgets/controls",
            "_view_module_version": "1.5.0",
            "_view_name": "HTMLView",
            "description": "",
            "description_tooltip": null,
            "layout": "IPY_MODEL_84900a117d0640b495feb8b386c5744d",
            "placeholder": "​",
            "style": "IPY_MODEL_414d007f847a4e849f1f62857ff67858",
            "value": "100%"
          }
        },
        "fe1bd08fe4964d1195adbba974035c6b": {
          "model_module": "@jupyter-widgets/controls",
          "model_name": "FloatProgressModel",
          "model_module_version": "1.5.0",
          "state": {
            "_dom_classes": [],
            "_model_module": "@jupyter-widgets/controls",
            "_model_module_version": "1.5.0",
            "_model_name": "FloatProgressModel",
            "_view_count": null,
            "_view_module": "@jupyter-widgets/controls",
            "_view_module_version": "1.5.0",
            "_view_name": "ProgressView",
            "bar_style": "success",
            "description": "",
            "description_tooltip": null,
            "layout": "IPY_MODEL_a45a7f1797ee4de3b991a9c8618525df",
            "max": 10,
            "min": 0,
            "orientation": "horizontal",
            "style": "IPY_MODEL_2fb8c5e345f24b7581c16a897458c0e2",
            "value": 10
          }
        },
        "5e99a0fc94fc425b923976b49816c842": {
          "model_module": "@jupyter-widgets/controls",
          "model_name": "HTMLModel",
          "model_module_version": "1.5.0",
          "state": {
            "_dom_classes": [],
            "_model_module": "@jupyter-widgets/controls",
            "_model_module_version": "1.5.0",
            "_model_name": "HTMLModel",
            "_view_count": null,
            "_view_module": "@jupyter-widgets/controls",
            "_view_module_version": "1.5.0",
            "_view_name": "HTMLView",
            "description": "",
            "description_tooltip": null,
            "layout": "IPY_MODEL_07e2b89f8658457e8e27cd7ca1b4f40a",
            "placeholder": "​",
            "style": "IPY_MODEL_c536c2d2376a4e08b987c457c1aa7e7e",
            "value": " 10/10 [00:59&lt;00:00,  5.88s/it, loss=[0.27338081513841944, 0.2546092819919189, 0.23759378342578807, 0.22182705125461022, 0.20719591672221818, 0.19375902803614736, 0.18220969588806232, 0.17127310544252394, 0.161995625110964, 0.15362734618907173]]"
          }
        },
        "037324057771451aa2d128e097d29907": {
          "model_module": "@jupyter-widgets/base",
          "model_name": "LayoutModel",
          "model_module_version": "1.2.0",
          "state": {
            "_model_module": "@jupyter-widgets/base",
            "_model_module_version": "1.2.0",
            "_model_name": "LayoutModel",
            "_view_count": null,
            "_view_module": "@jupyter-widgets/base",
            "_view_module_version": "1.2.0",
            "_view_name": "LayoutView",
            "align_content": null,
            "align_items": null,
            "align_self": null,
            "border": null,
            "bottom": null,
            "display": null,
            "flex": null,
            "flex_flow": null,
            "grid_area": null,
            "grid_auto_columns": null,
            "grid_auto_flow": null,
            "grid_auto_rows": null,
            "grid_column": null,
            "grid_gap": null,
            "grid_row": null,
            "grid_template_areas": null,
            "grid_template_columns": null,
            "grid_template_rows": null,
            "height": null,
            "justify_content": null,
            "justify_items": null,
            "left": null,
            "margin": null,
            "max_height": null,
            "max_width": null,
            "min_height": null,
            "min_width": null,
            "object_fit": null,
            "object_position": null,
            "order": null,
            "overflow": null,
            "overflow_x": null,
            "overflow_y": null,
            "padding": null,
            "right": null,
            "top": null,
            "visibility": null,
            "width": null
          }
        },
        "84900a117d0640b495feb8b386c5744d": {
          "model_module": "@jupyter-widgets/base",
          "model_name": "LayoutModel",
          "model_module_version": "1.2.0",
          "state": {
            "_model_module": "@jupyter-widgets/base",
            "_model_module_version": "1.2.0",
            "_model_name": "LayoutModel",
            "_view_count": null,
            "_view_module": "@jupyter-widgets/base",
            "_view_module_version": "1.2.0",
            "_view_name": "LayoutView",
            "align_content": null,
            "align_items": null,
            "align_self": null,
            "border": null,
            "bottom": null,
            "display": null,
            "flex": null,
            "flex_flow": null,
            "grid_area": null,
            "grid_auto_columns": null,
            "grid_auto_flow": null,
            "grid_auto_rows": null,
            "grid_column": null,
            "grid_gap": null,
            "grid_row": null,
            "grid_template_areas": null,
            "grid_template_columns": null,
            "grid_template_rows": null,
            "height": null,
            "justify_content": null,
            "justify_items": null,
            "left": null,
            "margin": null,
            "max_height": null,
            "max_width": null,
            "min_height": null,
            "min_width": null,
            "object_fit": null,
            "object_position": null,
            "order": null,
            "overflow": null,
            "overflow_x": null,
            "overflow_y": null,
            "padding": null,
            "right": null,
            "top": null,
            "visibility": null,
            "width": null
          }
        },
        "414d007f847a4e849f1f62857ff67858": {
          "model_module": "@jupyter-widgets/controls",
          "model_name": "DescriptionStyleModel",
          "model_module_version": "1.5.0",
          "state": {
            "_model_module": "@jupyter-widgets/controls",
            "_model_module_version": "1.5.0",
            "_model_name": "DescriptionStyleModel",
            "_view_count": null,
            "_view_module": "@jupyter-widgets/base",
            "_view_module_version": "1.2.0",
            "_view_name": "StyleView",
            "description_width": ""
          }
        },
        "a45a7f1797ee4de3b991a9c8618525df": {
          "model_module": "@jupyter-widgets/base",
          "model_name": "LayoutModel",
          "model_module_version": "1.2.0",
          "state": {
            "_model_module": "@jupyter-widgets/base",
            "_model_module_version": "1.2.0",
            "_model_name": "LayoutModel",
            "_view_count": null,
            "_view_module": "@jupyter-widgets/base",
            "_view_module_version": "1.2.0",
            "_view_name": "LayoutView",
            "align_content": null,
            "align_items": null,
            "align_self": null,
            "border": null,
            "bottom": null,
            "display": null,
            "flex": null,
            "flex_flow": null,
            "grid_area": null,
            "grid_auto_columns": null,
            "grid_auto_flow": null,
            "grid_auto_rows": null,
            "grid_column": null,
            "grid_gap": null,
            "grid_row": null,
            "grid_template_areas": null,
            "grid_template_columns": null,
            "grid_template_rows": null,
            "height": null,
            "justify_content": null,
            "justify_items": null,
            "left": null,
            "margin": null,
            "max_height": null,
            "max_width": null,
            "min_height": null,
            "min_width": null,
            "object_fit": null,
            "object_position": null,
            "order": null,
            "overflow": null,
            "overflow_x": null,
            "overflow_y": null,
            "padding": null,
            "right": null,
            "top": null,
            "visibility": null,
            "width": null
          }
        },
        "2fb8c5e345f24b7581c16a897458c0e2": {
          "model_module": "@jupyter-widgets/controls",
          "model_name": "ProgressStyleModel",
          "model_module_version": "1.5.0",
          "state": {
            "_model_module": "@jupyter-widgets/controls",
            "_model_module_version": "1.5.0",
            "_model_name": "ProgressStyleModel",
            "_view_count": null,
            "_view_module": "@jupyter-widgets/base",
            "_view_module_version": "1.2.0",
            "_view_name": "StyleView",
            "bar_color": null,
            "description_width": ""
          }
        },
        "07e2b89f8658457e8e27cd7ca1b4f40a": {
          "model_module": "@jupyter-widgets/base",
          "model_name": "LayoutModel",
          "model_module_version": "1.2.0",
          "state": {
            "_model_module": "@jupyter-widgets/base",
            "_model_module_version": "1.2.0",
            "_model_name": "LayoutModel",
            "_view_count": null,
            "_view_module": "@jupyter-widgets/base",
            "_view_module_version": "1.2.0",
            "_view_name": "LayoutView",
            "align_content": null,
            "align_items": null,
            "align_self": null,
            "border": null,
            "bottom": null,
            "display": null,
            "flex": null,
            "flex_flow": null,
            "grid_area": null,
            "grid_auto_columns": null,
            "grid_auto_flow": null,
            "grid_auto_rows": null,
            "grid_column": null,
            "grid_gap": null,
            "grid_row": null,
            "grid_template_areas": null,
            "grid_template_columns": null,
            "grid_template_rows": null,
            "height": null,
            "justify_content": null,
            "justify_items": null,
            "left": null,
            "margin": null,
            "max_height": null,
            "max_width": null,
            "min_height": null,
            "min_width": null,
            "object_fit": null,
            "object_position": null,
            "order": null,
            "overflow": null,
            "overflow_x": null,
            "overflow_y": null,
            "padding": null,
            "right": null,
            "top": null,
            "visibility": null,
            "width": null
          }
        },
        "c536c2d2376a4e08b987c457c1aa7e7e": {
          "model_module": "@jupyter-widgets/controls",
          "model_name": "DescriptionStyleModel",
          "model_module_version": "1.5.0",
          "state": {
            "_model_module": "@jupyter-widgets/controls",
            "_model_module_version": "1.5.0",
            "_model_name": "DescriptionStyleModel",
            "_view_count": null,
            "_view_module": "@jupyter-widgets/base",
            "_view_module_version": "1.2.0",
            "_view_name": "StyleView",
            "description_width": ""
          }
        },
        "09ee104762ef4a368e8b085432b9c2e8": {
          "model_module": "@jupyter-widgets/controls",
          "model_name": "HBoxModel",
          "model_module_version": "1.5.0",
          "state": {
            "_dom_classes": [],
            "_model_module": "@jupyter-widgets/controls",
            "_model_module_version": "1.5.0",
            "_model_name": "HBoxModel",
            "_view_count": null,
            "_view_module": "@jupyter-widgets/controls",
            "_view_module_version": "1.5.0",
            "_view_name": "HBoxView",
            "box_style": "",
            "children": [
              "IPY_MODEL_b4098c4a50e34413b615fb2fc9cf23c6",
              "IPY_MODEL_2e238105e0a94ff099b0599dbb9b1a0b",
              "IPY_MODEL_d5035506cb2f420cb0b51afc6a9f6151"
            ],
            "layout": "IPY_MODEL_ea2bbaf4c211439a811221aa1e6bb1dd"
          }
        },
        "b4098c4a50e34413b615fb2fc9cf23c6": {
          "model_module": "@jupyter-widgets/controls",
          "model_name": "HTMLModel",
          "model_module_version": "1.5.0",
          "state": {
            "_dom_classes": [],
            "_model_module": "@jupyter-widgets/controls",
            "_model_module_version": "1.5.0",
            "_model_name": "HTMLModel",
            "_view_count": null,
            "_view_module": "@jupyter-widgets/controls",
            "_view_module_version": "1.5.0",
            "_view_name": "HTMLView",
            "description": "",
            "description_tooltip": null,
            "layout": "IPY_MODEL_84a1e0c6e5b242c8ba912b4c9d600080",
            "placeholder": "​",
            "style": "IPY_MODEL_45973d77b61143bbbe3d2d5fa048a46e",
            "value": "100%"
          }
        },
        "2e238105e0a94ff099b0599dbb9b1a0b": {
          "model_module": "@jupyter-widgets/controls",
          "model_name": "FloatProgressModel",
          "model_module_version": "1.5.0",
          "state": {
            "_dom_classes": [],
            "_model_module": "@jupyter-widgets/controls",
            "_model_module_version": "1.5.0",
            "_model_name": "FloatProgressModel",
            "_view_count": null,
            "_view_module": "@jupyter-widgets/controls",
            "_view_module_version": "1.5.0",
            "_view_name": "ProgressView",
            "bar_style": "success",
            "description": "",
            "description_tooltip": null,
            "layout": "IPY_MODEL_69711a75b0094c908419a49ea6fc0852",
            "max": 10,
            "min": 0,
            "orientation": "horizontal",
            "style": "IPY_MODEL_c355b3047ae649cd97fced5fd37d1e3c",
            "value": 10
          }
        },
        "d5035506cb2f420cb0b51afc6a9f6151": {
          "model_module": "@jupyter-widgets/controls",
          "model_name": "HTMLModel",
          "model_module_version": "1.5.0",
          "state": {
            "_dom_classes": [],
            "_model_module": "@jupyter-widgets/controls",
            "_model_module_version": "1.5.0",
            "_model_name": "HTMLModel",
            "_view_count": null,
            "_view_module": "@jupyter-widgets/controls",
            "_view_module_version": "1.5.0",
            "_view_name": "HTMLView",
            "description": "",
            "description_tooltip": null,
            "layout": "IPY_MODEL_1017582ba24e489d8e3427c867d5051f",
            "placeholder": "​",
            "style": "IPY_MODEL_00c85c8dae0e4096968a16d36b473984",
            "value": " 10/10 [01:02&lt;00:00,  6.40s/it, loss=[0.14796017174919446, 0.1309924781601876, 0.11787314724487563, 0.10593712968130907, 0.09500696645739178, 0.08723115600335102, 0.07957295284296076, 0.07377446424216032, 0.06812038459659865, 0.06259223976172507]]"
          }
        },
        "ea2bbaf4c211439a811221aa1e6bb1dd": {
          "model_module": "@jupyter-widgets/base",
          "model_name": "LayoutModel",
          "model_module_version": "1.2.0",
          "state": {
            "_model_module": "@jupyter-widgets/base",
            "_model_module_version": "1.2.0",
            "_model_name": "LayoutModel",
            "_view_count": null,
            "_view_module": "@jupyter-widgets/base",
            "_view_module_version": "1.2.0",
            "_view_name": "LayoutView",
            "align_content": null,
            "align_items": null,
            "align_self": null,
            "border": null,
            "bottom": null,
            "display": null,
            "flex": null,
            "flex_flow": null,
            "grid_area": null,
            "grid_auto_columns": null,
            "grid_auto_flow": null,
            "grid_auto_rows": null,
            "grid_column": null,
            "grid_gap": null,
            "grid_row": null,
            "grid_template_areas": null,
            "grid_template_columns": null,
            "grid_template_rows": null,
            "height": null,
            "justify_content": null,
            "justify_items": null,
            "left": null,
            "margin": null,
            "max_height": null,
            "max_width": null,
            "min_height": null,
            "min_width": null,
            "object_fit": null,
            "object_position": null,
            "order": null,
            "overflow": null,
            "overflow_x": null,
            "overflow_y": null,
            "padding": null,
            "right": null,
            "top": null,
            "visibility": null,
            "width": null
          }
        },
        "84a1e0c6e5b242c8ba912b4c9d600080": {
          "model_module": "@jupyter-widgets/base",
          "model_name": "LayoutModel",
          "model_module_version": "1.2.0",
          "state": {
            "_model_module": "@jupyter-widgets/base",
            "_model_module_version": "1.2.0",
            "_model_name": "LayoutModel",
            "_view_count": null,
            "_view_module": "@jupyter-widgets/base",
            "_view_module_version": "1.2.0",
            "_view_name": "LayoutView",
            "align_content": null,
            "align_items": null,
            "align_self": null,
            "border": null,
            "bottom": null,
            "display": null,
            "flex": null,
            "flex_flow": null,
            "grid_area": null,
            "grid_auto_columns": null,
            "grid_auto_flow": null,
            "grid_auto_rows": null,
            "grid_column": null,
            "grid_gap": null,
            "grid_row": null,
            "grid_template_areas": null,
            "grid_template_columns": null,
            "grid_template_rows": null,
            "height": null,
            "justify_content": null,
            "justify_items": null,
            "left": null,
            "margin": null,
            "max_height": null,
            "max_width": null,
            "min_height": null,
            "min_width": null,
            "object_fit": null,
            "object_position": null,
            "order": null,
            "overflow": null,
            "overflow_x": null,
            "overflow_y": null,
            "padding": null,
            "right": null,
            "top": null,
            "visibility": null,
            "width": null
          }
        },
        "45973d77b61143bbbe3d2d5fa048a46e": {
          "model_module": "@jupyter-widgets/controls",
          "model_name": "DescriptionStyleModel",
          "model_module_version": "1.5.0",
          "state": {
            "_model_module": "@jupyter-widgets/controls",
            "_model_module_version": "1.5.0",
            "_model_name": "DescriptionStyleModel",
            "_view_count": null,
            "_view_module": "@jupyter-widgets/base",
            "_view_module_version": "1.2.0",
            "_view_name": "StyleView",
            "description_width": ""
          }
        },
        "69711a75b0094c908419a49ea6fc0852": {
          "model_module": "@jupyter-widgets/base",
          "model_name": "LayoutModel",
          "model_module_version": "1.2.0",
          "state": {
            "_model_module": "@jupyter-widgets/base",
            "_model_module_version": "1.2.0",
            "_model_name": "LayoutModel",
            "_view_count": null,
            "_view_module": "@jupyter-widgets/base",
            "_view_module_version": "1.2.0",
            "_view_name": "LayoutView",
            "align_content": null,
            "align_items": null,
            "align_self": null,
            "border": null,
            "bottom": null,
            "display": null,
            "flex": null,
            "flex_flow": null,
            "grid_area": null,
            "grid_auto_columns": null,
            "grid_auto_flow": null,
            "grid_auto_rows": null,
            "grid_column": null,
            "grid_gap": null,
            "grid_row": null,
            "grid_template_areas": null,
            "grid_template_columns": null,
            "grid_template_rows": null,
            "height": null,
            "justify_content": null,
            "justify_items": null,
            "left": null,
            "margin": null,
            "max_height": null,
            "max_width": null,
            "min_height": null,
            "min_width": null,
            "object_fit": null,
            "object_position": null,
            "order": null,
            "overflow": null,
            "overflow_x": null,
            "overflow_y": null,
            "padding": null,
            "right": null,
            "top": null,
            "visibility": null,
            "width": null
          }
        },
        "c355b3047ae649cd97fced5fd37d1e3c": {
          "model_module": "@jupyter-widgets/controls",
          "model_name": "ProgressStyleModel",
          "model_module_version": "1.5.0",
          "state": {
            "_model_module": "@jupyter-widgets/controls",
            "_model_module_version": "1.5.0",
            "_model_name": "ProgressStyleModel",
            "_view_count": null,
            "_view_module": "@jupyter-widgets/base",
            "_view_module_version": "1.2.0",
            "_view_name": "StyleView",
            "bar_color": null,
            "description_width": ""
          }
        },
        "1017582ba24e489d8e3427c867d5051f": {
          "model_module": "@jupyter-widgets/base",
          "model_name": "LayoutModel",
          "model_module_version": "1.2.0",
          "state": {
            "_model_module": "@jupyter-widgets/base",
            "_model_module_version": "1.2.0",
            "_model_name": "LayoutModel",
            "_view_count": null,
            "_view_module": "@jupyter-widgets/base",
            "_view_module_version": "1.2.0",
            "_view_name": "LayoutView",
            "align_content": null,
            "align_items": null,
            "align_self": null,
            "border": null,
            "bottom": null,
            "display": null,
            "flex": null,
            "flex_flow": null,
            "grid_area": null,
            "grid_auto_columns": null,
            "grid_auto_flow": null,
            "grid_auto_rows": null,
            "grid_column": null,
            "grid_gap": null,
            "grid_row": null,
            "grid_template_areas": null,
            "grid_template_columns": null,
            "grid_template_rows": null,
            "height": null,
            "justify_content": null,
            "justify_items": null,
            "left": null,
            "margin": null,
            "max_height": null,
            "max_width": null,
            "min_height": null,
            "min_width": null,
            "object_fit": null,
            "object_position": null,
            "order": null,
            "overflow": null,
            "overflow_x": null,
            "overflow_y": null,
            "padding": null,
            "right": null,
            "top": null,
            "visibility": null,
            "width": null
          }
        },
        "00c85c8dae0e4096968a16d36b473984": {
          "model_module": "@jupyter-widgets/controls",
          "model_name": "DescriptionStyleModel",
          "model_module_version": "1.5.0",
          "state": {
            "_model_module": "@jupyter-widgets/controls",
            "_model_module_version": "1.5.0",
            "_model_name": "DescriptionStyleModel",
            "_view_count": null,
            "_view_module": "@jupyter-widgets/base",
            "_view_module_version": "1.2.0",
            "_view_name": "StyleView",
            "description_width": ""
          }
        },
        "affa5b5b287e459c8ab45127456c71de": {
          "model_module": "@jupyter-widgets/controls",
          "model_name": "HBoxModel",
          "model_module_version": "1.5.0",
          "state": {
            "_dom_classes": [],
            "_model_module": "@jupyter-widgets/controls",
            "_model_module_version": "1.5.0",
            "_model_name": "HBoxModel",
            "_view_count": null,
            "_view_module": "@jupyter-widgets/controls",
            "_view_module_version": "1.5.0",
            "_view_name": "HBoxView",
            "box_style": "",
            "children": [
              "IPY_MODEL_9a3f9214463e4681a08843def6d8c82c",
              "IPY_MODEL_9dd27c2a60014ce18ba9e4826ef38ce5",
              "IPY_MODEL_d21700f990d64cf29b9c70bac1d09e0b"
            ],
            "layout": "IPY_MODEL_1d4005ddaab943daaef7707753f8813a"
          }
        },
        "9a3f9214463e4681a08843def6d8c82c": {
          "model_module": "@jupyter-widgets/controls",
          "model_name": "HTMLModel",
          "model_module_version": "1.5.0",
          "state": {
            "_dom_classes": [],
            "_model_module": "@jupyter-widgets/controls",
            "_model_module_version": "1.5.0",
            "_model_name": "HTMLModel",
            "_view_count": null,
            "_view_module": "@jupyter-widgets/controls",
            "_view_module_version": "1.5.0",
            "_view_name": "HTMLView",
            "description": "",
            "description_tooltip": null,
            "layout": "IPY_MODEL_2f20e84f5ea7403b93d6398c888df61d",
            "placeholder": "​",
            "style": "IPY_MODEL_e9e9b84c9ce944abbe72fcfad983ca57",
            "value": "100%"
          }
        },
        "9dd27c2a60014ce18ba9e4826ef38ce5": {
          "model_module": "@jupyter-widgets/controls",
          "model_name": "FloatProgressModel",
          "model_module_version": "1.5.0",
          "state": {
            "_dom_classes": [],
            "_model_module": "@jupyter-widgets/controls",
            "_model_module_version": "1.5.0",
            "_model_name": "FloatProgressModel",
            "_view_count": null,
            "_view_module": "@jupyter-widgets/controls",
            "_view_module_version": "1.5.0",
            "_view_name": "ProgressView",
            "bar_style": "success",
            "description": "",
            "description_tooltip": null,
            "layout": "IPY_MODEL_f6260556910d431f9e4e9089e9cbdba6",
            "max": 10,
            "min": 0,
            "orientation": "horizontal",
            "style": "IPY_MODEL_d7949897dded483e955ddbd899acbe16",
            "value": 10
          }
        },
        "d21700f990d64cf29b9c70bac1d09e0b": {
          "model_module": "@jupyter-widgets/controls",
          "model_name": "HTMLModel",
          "model_module_version": "1.5.0",
          "state": {
            "_dom_classes": [],
            "_model_module": "@jupyter-widgets/controls",
            "_model_module_version": "1.5.0",
            "_model_name": "HTMLModel",
            "_view_count": null,
            "_view_module": "@jupyter-widgets/controls",
            "_view_module_version": "1.5.0",
            "_view_name": "HTMLView",
            "description": "",
            "description_tooltip": null,
            "layout": "IPY_MODEL_2af06815984e4592a3f21502fb3b1250",
            "placeholder": "​",
            "style": "IPY_MODEL_6527bb1bc1ca495f87d6ae327a87bcd2",
            "value": " 10/10 [00:59&lt;00:00,  5.97s/it, loss=[0.06871254101317997, 0.06066320068979015, 0.05370404721858601, 0.04758900518994778, 0.04225928570143878, 0.038050129583959154, 0.03493369378692781, 0.029906856564727302, 0.026572398559655996, 0.024412777089164592]]"
          }
        },
        "1d4005ddaab943daaef7707753f8813a": {
          "model_module": "@jupyter-widgets/base",
          "model_name": "LayoutModel",
          "model_module_version": "1.2.0",
          "state": {
            "_model_module": "@jupyter-widgets/base",
            "_model_module_version": "1.2.0",
            "_model_name": "LayoutModel",
            "_view_count": null,
            "_view_module": "@jupyter-widgets/base",
            "_view_module_version": "1.2.0",
            "_view_name": "LayoutView",
            "align_content": null,
            "align_items": null,
            "align_self": null,
            "border": null,
            "bottom": null,
            "display": null,
            "flex": null,
            "flex_flow": null,
            "grid_area": null,
            "grid_auto_columns": null,
            "grid_auto_flow": null,
            "grid_auto_rows": null,
            "grid_column": null,
            "grid_gap": null,
            "grid_row": null,
            "grid_template_areas": null,
            "grid_template_columns": null,
            "grid_template_rows": null,
            "height": null,
            "justify_content": null,
            "justify_items": null,
            "left": null,
            "margin": null,
            "max_height": null,
            "max_width": null,
            "min_height": null,
            "min_width": null,
            "object_fit": null,
            "object_position": null,
            "order": null,
            "overflow": null,
            "overflow_x": null,
            "overflow_y": null,
            "padding": null,
            "right": null,
            "top": null,
            "visibility": null,
            "width": null
          }
        },
        "2f20e84f5ea7403b93d6398c888df61d": {
          "model_module": "@jupyter-widgets/base",
          "model_name": "LayoutModel",
          "model_module_version": "1.2.0",
          "state": {
            "_model_module": "@jupyter-widgets/base",
            "_model_module_version": "1.2.0",
            "_model_name": "LayoutModel",
            "_view_count": null,
            "_view_module": "@jupyter-widgets/base",
            "_view_module_version": "1.2.0",
            "_view_name": "LayoutView",
            "align_content": null,
            "align_items": null,
            "align_self": null,
            "border": null,
            "bottom": null,
            "display": null,
            "flex": null,
            "flex_flow": null,
            "grid_area": null,
            "grid_auto_columns": null,
            "grid_auto_flow": null,
            "grid_auto_rows": null,
            "grid_column": null,
            "grid_gap": null,
            "grid_row": null,
            "grid_template_areas": null,
            "grid_template_columns": null,
            "grid_template_rows": null,
            "height": null,
            "justify_content": null,
            "justify_items": null,
            "left": null,
            "margin": null,
            "max_height": null,
            "max_width": null,
            "min_height": null,
            "min_width": null,
            "object_fit": null,
            "object_position": null,
            "order": null,
            "overflow": null,
            "overflow_x": null,
            "overflow_y": null,
            "padding": null,
            "right": null,
            "top": null,
            "visibility": null,
            "width": null
          }
        },
        "e9e9b84c9ce944abbe72fcfad983ca57": {
          "model_module": "@jupyter-widgets/controls",
          "model_name": "DescriptionStyleModel",
          "model_module_version": "1.5.0",
          "state": {
            "_model_module": "@jupyter-widgets/controls",
            "_model_module_version": "1.5.0",
            "_model_name": "DescriptionStyleModel",
            "_view_count": null,
            "_view_module": "@jupyter-widgets/base",
            "_view_module_version": "1.2.0",
            "_view_name": "StyleView",
            "description_width": ""
          }
        },
        "f6260556910d431f9e4e9089e9cbdba6": {
          "model_module": "@jupyter-widgets/base",
          "model_name": "LayoutModel",
          "model_module_version": "1.2.0",
          "state": {
            "_model_module": "@jupyter-widgets/base",
            "_model_module_version": "1.2.0",
            "_model_name": "LayoutModel",
            "_view_count": null,
            "_view_module": "@jupyter-widgets/base",
            "_view_module_version": "1.2.0",
            "_view_name": "LayoutView",
            "align_content": null,
            "align_items": null,
            "align_self": null,
            "border": null,
            "bottom": null,
            "display": null,
            "flex": null,
            "flex_flow": null,
            "grid_area": null,
            "grid_auto_columns": null,
            "grid_auto_flow": null,
            "grid_auto_rows": null,
            "grid_column": null,
            "grid_gap": null,
            "grid_row": null,
            "grid_template_areas": null,
            "grid_template_columns": null,
            "grid_template_rows": null,
            "height": null,
            "justify_content": null,
            "justify_items": null,
            "left": null,
            "margin": null,
            "max_height": null,
            "max_width": null,
            "min_height": null,
            "min_width": null,
            "object_fit": null,
            "object_position": null,
            "order": null,
            "overflow": null,
            "overflow_x": null,
            "overflow_y": null,
            "padding": null,
            "right": null,
            "top": null,
            "visibility": null,
            "width": null
          }
        },
        "d7949897dded483e955ddbd899acbe16": {
          "model_module": "@jupyter-widgets/controls",
          "model_name": "ProgressStyleModel",
          "model_module_version": "1.5.0",
          "state": {
            "_model_module": "@jupyter-widgets/controls",
            "_model_module_version": "1.5.0",
            "_model_name": "ProgressStyleModel",
            "_view_count": null,
            "_view_module": "@jupyter-widgets/base",
            "_view_module_version": "1.2.0",
            "_view_name": "StyleView",
            "bar_color": null,
            "description_width": ""
          }
        },
        "2af06815984e4592a3f21502fb3b1250": {
          "model_module": "@jupyter-widgets/base",
          "model_name": "LayoutModel",
          "model_module_version": "1.2.0",
          "state": {
            "_model_module": "@jupyter-widgets/base",
            "_model_module_version": "1.2.0",
            "_model_name": "LayoutModel",
            "_view_count": null,
            "_view_module": "@jupyter-widgets/base",
            "_view_module_version": "1.2.0",
            "_view_name": "LayoutView",
            "align_content": null,
            "align_items": null,
            "align_self": null,
            "border": null,
            "bottom": null,
            "display": null,
            "flex": null,
            "flex_flow": null,
            "grid_area": null,
            "grid_auto_columns": null,
            "grid_auto_flow": null,
            "grid_auto_rows": null,
            "grid_column": null,
            "grid_gap": null,
            "grid_row": null,
            "grid_template_areas": null,
            "grid_template_columns": null,
            "grid_template_rows": null,
            "height": null,
            "justify_content": null,
            "justify_items": null,
            "left": null,
            "margin": null,
            "max_height": null,
            "max_width": null,
            "min_height": null,
            "min_width": null,
            "object_fit": null,
            "object_position": null,
            "order": null,
            "overflow": null,
            "overflow_x": null,
            "overflow_y": null,
            "padding": null,
            "right": null,
            "top": null,
            "visibility": null,
            "width": null
          }
        },
        "6527bb1bc1ca495f87d6ae327a87bcd2": {
          "model_module": "@jupyter-widgets/controls",
          "model_name": "DescriptionStyleModel",
          "model_module_version": "1.5.0",
          "state": {
            "_model_module": "@jupyter-widgets/controls",
            "_model_module_version": "1.5.0",
            "_model_name": "DescriptionStyleModel",
            "_view_count": null,
            "_view_module": "@jupyter-widgets/base",
            "_view_module_version": "1.2.0",
            "_view_name": "StyleView",
            "description_width": ""
          }
        },
        "673d9b701224445b96747e69dd4decc5": {
          "model_module": "@jupyter-widgets/controls",
          "model_name": "HBoxModel",
          "model_module_version": "1.5.0",
          "state": {
            "_dom_classes": [],
            "_model_module": "@jupyter-widgets/controls",
            "_model_module_version": "1.5.0",
            "_model_name": "HBoxModel",
            "_view_count": null,
            "_view_module": "@jupyter-widgets/controls",
            "_view_module_version": "1.5.0",
            "_view_name": "HBoxView",
            "box_style": "",
            "children": [
              "IPY_MODEL_4f1b241dd8e34d7fbd933b4bee47f1f0",
              "IPY_MODEL_ff8e5ef84c8f40d2928f44d4b351d791",
              "IPY_MODEL_bc5a8873796246bc97b21f45a11bb470"
            ],
            "layout": "IPY_MODEL_3abbb68b2f9140a0b37dc5617daf7b7f"
          }
        },
        "4f1b241dd8e34d7fbd933b4bee47f1f0": {
          "model_module": "@jupyter-widgets/controls",
          "model_name": "HTMLModel",
          "model_module_version": "1.5.0",
          "state": {
            "_dom_classes": [],
            "_model_module": "@jupyter-widgets/controls",
            "_model_module_version": "1.5.0",
            "_model_name": "HTMLModel",
            "_view_count": null,
            "_view_module": "@jupyter-widgets/controls",
            "_view_module_version": "1.5.0",
            "_view_name": "HTMLView",
            "description": "",
            "description_tooltip": null,
            "layout": "IPY_MODEL_71ebc85e90184fc98ee0265380773b2f",
            "placeholder": "​",
            "style": "IPY_MODEL_58c9aeb001174e31a906d60114662e22",
            "value": "100%"
          }
        },
        "ff8e5ef84c8f40d2928f44d4b351d791": {
          "model_module": "@jupyter-widgets/controls",
          "model_name": "FloatProgressModel",
          "model_module_version": "1.5.0",
          "state": {
            "_dom_classes": [],
            "_model_module": "@jupyter-widgets/controls",
            "_model_module_version": "1.5.0",
            "_model_name": "FloatProgressModel",
            "_view_count": null,
            "_view_module": "@jupyter-widgets/controls",
            "_view_module_version": "1.5.0",
            "_view_name": "ProgressView",
            "bar_style": "success",
            "description": "",
            "description_tooltip": null,
            "layout": "IPY_MODEL_bcf8be37db8442f685a04c47f1c5aa57",
            "max": 10,
            "min": 0,
            "orientation": "horizontal",
            "style": "IPY_MODEL_0ace28aa1611448c886e52ce704b95c5",
            "value": 10
          }
        },
        "bc5a8873796246bc97b21f45a11bb470": {
          "model_module": "@jupyter-widgets/controls",
          "model_name": "HTMLModel",
          "model_module_version": "1.5.0",
          "state": {
            "_dom_classes": [],
            "_model_module": "@jupyter-widgets/controls",
            "_model_module_version": "1.5.0",
            "_model_name": "HTMLModel",
            "_view_count": null,
            "_view_module": "@jupyter-widgets/controls",
            "_view_module_version": "1.5.0",
            "_view_name": "HTMLView",
            "description": "",
            "description_tooltip": null,
            "layout": "IPY_MODEL_b6d5daf5bb9c419b94cf6e04cdcbc6de",
            "placeholder": "​",
            "style": "IPY_MODEL_bac8de3d680f4e9cb9cfd4c7868e5f87",
            "value": " 10/10 [01:00&lt;00:00,  5.94s/it, loss=[0.14165723616645362, 0.055957941943003485, 0.043359945535000104, 0.03524163565850662, 0.03011141707849068, 0.022840227037280177, 0.019888777928911926, 0.016731919007531057, 0.015316014302564629, 0.01095760811229411]]"
          }
        },
        "3abbb68b2f9140a0b37dc5617daf7b7f": {
          "model_module": "@jupyter-widgets/base",
          "model_name": "LayoutModel",
          "model_module_version": "1.2.0",
          "state": {
            "_model_module": "@jupyter-widgets/base",
            "_model_module_version": "1.2.0",
            "_model_name": "LayoutModel",
            "_view_count": null,
            "_view_module": "@jupyter-widgets/base",
            "_view_module_version": "1.2.0",
            "_view_name": "LayoutView",
            "align_content": null,
            "align_items": null,
            "align_self": null,
            "border": null,
            "bottom": null,
            "display": null,
            "flex": null,
            "flex_flow": null,
            "grid_area": null,
            "grid_auto_columns": null,
            "grid_auto_flow": null,
            "grid_auto_rows": null,
            "grid_column": null,
            "grid_gap": null,
            "grid_row": null,
            "grid_template_areas": null,
            "grid_template_columns": null,
            "grid_template_rows": null,
            "height": null,
            "justify_content": null,
            "justify_items": null,
            "left": null,
            "margin": null,
            "max_height": null,
            "max_width": null,
            "min_height": null,
            "min_width": null,
            "object_fit": null,
            "object_position": null,
            "order": null,
            "overflow": null,
            "overflow_x": null,
            "overflow_y": null,
            "padding": null,
            "right": null,
            "top": null,
            "visibility": null,
            "width": null
          }
        },
        "71ebc85e90184fc98ee0265380773b2f": {
          "model_module": "@jupyter-widgets/base",
          "model_name": "LayoutModel",
          "model_module_version": "1.2.0",
          "state": {
            "_model_module": "@jupyter-widgets/base",
            "_model_module_version": "1.2.0",
            "_model_name": "LayoutModel",
            "_view_count": null,
            "_view_module": "@jupyter-widgets/base",
            "_view_module_version": "1.2.0",
            "_view_name": "LayoutView",
            "align_content": null,
            "align_items": null,
            "align_self": null,
            "border": null,
            "bottom": null,
            "display": null,
            "flex": null,
            "flex_flow": null,
            "grid_area": null,
            "grid_auto_columns": null,
            "grid_auto_flow": null,
            "grid_auto_rows": null,
            "grid_column": null,
            "grid_gap": null,
            "grid_row": null,
            "grid_template_areas": null,
            "grid_template_columns": null,
            "grid_template_rows": null,
            "height": null,
            "justify_content": null,
            "justify_items": null,
            "left": null,
            "margin": null,
            "max_height": null,
            "max_width": null,
            "min_height": null,
            "min_width": null,
            "object_fit": null,
            "object_position": null,
            "order": null,
            "overflow": null,
            "overflow_x": null,
            "overflow_y": null,
            "padding": null,
            "right": null,
            "top": null,
            "visibility": null,
            "width": null
          }
        },
        "58c9aeb001174e31a906d60114662e22": {
          "model_module": "@jupyter-widgets/controls",
          "model_name": "DescriptionStyleModel",
          "model_module_version": "1.5.0",
          "state": {
            "_model_module": "@jupyter-widgets/controls",
            "_model_module_version": "1.5.0",
            "_model_name": "DescriptionStyleModel",
            "_view_count": null,
            "_view_module": "@jupyter-widgets/base",
            "_view_module_version": "1.2.0",
            "_view_name": "StyleView",
            "description_width": ""
          }
        },
        "bcf8be37db8442f685a04c47f1c5aa57": {
          "model_module": "@jupyter-widgets/base",
          "model_name": "LayoutModel",
          "model_module_version": "1.2.0",
          "state": {
            "_model_module": "@jupyter-widgets/base",
            "_model_module_version": "1.2.0",
            "_model_name": "LayoutModel",
            "_view_count": null,
            "_view_module": "@jupyter-widgets/base",
            "_view_module_version": "1.2.0",
            "_view_name": "LayoutView",
            "align_content": null,
            "align_items": null,
            "align_self": null,
            "border": null,
            "bottom": null,
            "display": null,
            "flex": null,
            "flex_flow": null,
            "grid_area": null,
            "grid_auto_columns": null,
            "grid_auto_flow": null,
            "grid_auto_rows": null,
            "grid_column": null,
            "grid_gap": null,
            "grid_row": null,
            "grid_template_areas": null,
            "grid_template_columns": null,
            "grid_template_rows": null,
            "height": null,
            "justify_content": null,
            "justify_items": null,
            "left": null,
            "margin": null,
            "max_height": null,
            "max_width": null,
            "min_height": null,
            "min_width": null,
            "object_fit": null,
            "object_position": null,
            "order": null,
            "overflow": null,
            "overflow_x": null,
            "overflow_y": null,
            "padding": null,
            "right": null,
            "top": null,
            "visibility": null,
            "width": null
          }
        },
        "0ace28aa1611448c886e52ce704b95c5": {
          "model_module": "@jupyter-widgets/controls",
          "model_name": "ProgressStyleModel",
          "model_module_version": "1.5.0",
          "state": {
            "_model_module": "@jupyter-widgets/controls",
            "_model_module_version": "1.5.0",
            "_model_name": "ProgressStyleModel",
            "_view_count": null,
            "_view_module": "@jupyter-widgets/base",
            "_view_module_version": "1.2.0",
            "_view_name": "StyleView",
            "bar_color": null,
            "description_width": ""
          }
        },
        "b6d5daf5bb9c419b94cf6e04cdcbc6de": {
          "model_module": "@jupyter-widgets/base",
          "model_name": "LayoutModel",
          "model_module_version": "1.2.0",
          "state": {
            "_model_module": "@jupyter-widgets/base",
            "_model_module_version": "1.2.0",
            "_model_name": "LayoutModel",
            "_view_count": null,
            "_view_module": "@jupyter-widgets/base",
            "_view_module_version": "1.2.0",
            "_view_name": "LayoutView",
            "align_content": null,
            "align_items": null,
            "align_self": null,
            "border": null,
            "bottom": null,
            "display": null,
            "flex": null,
            "flex_flow": null,
            "grid_area": null,
            "grid_auto_columns": null,
            "grid_auto_flow": null,
            "grid_auto_rows": null,
            "grid_column": null,
            "grid_gap": null,
            "grid_row": null,
            "grid_template_areas": null,
            "grid_template_columns": null,
            "grid_template_rows": null,
            "height": null,
            "justify_content": null,
            "justify_items": null,
            "left": null,
            "margin": null,
            "max_height": null,
            "max_width": null,
            "min_height": null,
            "min_width": null,
            "object_fit": null,
            "object_position": null,
            "order": null,
            "overflow": null,
            "overflow_x": null,
            "overflow_y": null,
            "padding": null,
            "right": null,
            "top": null,
            "visibility": null,
            "width": null
          }
        },
        "bac8de3d680f4e9cb9cfd4c7868e5f87": {
          "model_module": "@jupyter-widgets/controls",
          "model_name": "DescriptionStyleModel",
          "model_module_version": "1.5.0",
          "state": {
            "_model_module": "@jupyter-widgets/controls",
            "_model_module_version": "1.5.0",
            "_model_name": "DescriptionStyleModel",
            "_view_count": null,
            "_view_module": "@jupyter-widgets/base",
            "_view_module_version": "1.2.0",
            "_view_name": "StyleView",
            "description_width": ""
          }
        },
        "4b21baa1f51d42e3b876fc4b5f0514d7": {
          "model_module": "@jupyter-widgets/controls",
          "model_name": "HBoxModel",
          "model_module_version": "1.5.0",
          "state": {
            "_dom_classes": [],
            "_model_module": "@jupyter-widgets/controls",
            "_model_module_version": "1.5.0",
            "_model_name": "HBoxModel",
            "_view_count": null,
            "_view_module": "@jupyter-widgets/controls",
            "_view_module_version": "1.5.0",
            "_view_name": "HBoxView",
            "box_style": "",
            "children": [
              "IPY_MODEL_d64b61476af445bab9b2e8487957e776",
              "IPY_MODEL_a113cdc1f0a84aa6bc597c47a41c8ef0",
              "IPY_MODEL_a2f509cb88c643e2aba561a136ff7dc7"
            ],
            "layout": "IPY_MODEL_a473b4b40ec34e02abf8b4bec9a8e1c7"
          }
        },
        "d64b61476af445bab9b2e8487957e776": {
          "model_module": "@jupyter-widgets/controls",
          "model_name": "HTMLModel",
          "model_module_version": "1.5.0",
          "state": {
            "_dom_classes": [],
            "_model_module": "@jupyter-widgets/controls",
            "_model_module_version": "1.5.0",
            "_model_name": "HTMLModel",
            "_view_count": null,
            "_view_module": "@jupyter-widgets/controls",
            "_view_module_version": "1.5.0",
            "_view_name": "HTMLView",
            "description": "",
            "description_tooltip": null,
            "layout": "IPY_MODEL_a592dde663784977b664db3609a09d83",
            "placeholder": "​",
            "style": "IPY_MODEL_5ab7c39b27b547408ab6930ae645ea97",
            "value": "100%"
          }
        },
        "a113cdc1f0a84aa6bc597c47a41c8ef0": {
          "model_module": "@jupyter-widgets/controls",
          "model_name": "FloatProgressModel",
          "model_module_version": "1.5.0",
          "state": {
            "_dom_classes": [],
            "_model_module": "@jupyter-widgets/controls",
            "_model_module_version": "1.5.0",
            "_model_name": "FloatProgressModel",
            "_view_count": null,
            "_view_module": "@jupyter-widgets/controls",
            "_view_module_version": "1.5.0",
            "_view_name": "ProgressView",
            "bar_style": "success",
            "description": "",
            "description_tooltip": null,
            "layout": "IPY_MODEL_e47f82c8c4174788ab31e59d567921f1",
            "max": 10,
            "min": 0,
            "orientation": "horizontal",
            "style": "IPY_MODEL_0a0702f0a949442d959cfe551c253700",
            "value": 10
          }
        },
        "a2f509cb88c643e2aba561a136ff7dc7": {
          "model_module": "@jupyter-widgets/controls",
          "model_name": "HTMLModel",
          "model_module_version": "1.5.0",
          "state": {
            "_dom_classes": [],
            "_model_module": "@jupyter-widgets/controls",
            "_model_module_version": "1.5.0",
            "_model_name": "HTMLModel",
            "_view_count": null,
            "_view_module": "@jupyter-widgets/controls",
            "_view_module_version": "1.5.0",
            "_view_name": "HTMLView",
            "description": "",
            "description_tooltip": null,
            "layout": "IPY_MODEL_d3871b051d9446f589c646dc376c81bc",
            "placeholder": "​",
            "style": "IPY_MODEL_505b8e388c3a4838b9d5acffb0dc9424",
            "value": " 10/10 [00:58&lt;00:00,  5.87s/it, loss=[0.959958386827105, 0.1526497863760839, 0.1167426761224245, 0.0998855084211876, 0.08746636124483, 0.07475749240877727, 0.0670879808277823, 0.05963288490117217, 0.05300958754029125, 0.05078514627588447]]"
          }
        },
        "a473b4b40ec34e02abf8b4bec9a8e1c7": {
          "model_module": "@jupyter-widgets/base",
          "model_name": "LayoutModel",
          "model_module_version": "1.2.0",
          "state": {
            "_model_module": "@jupyter-widgets/base",
            "_model_module_version": "1.2.0",
            "_model_name": "LayoutModel",
            "_view_count": null,
            "_view_module": "@jupyter-widgets/base",
            "_view_module_version": "1.2.0",
            "_view_name": "LayoutView",
            "align_content": null,
            "align_items": null,
            "align_self": null,
            "border": null,
            "bottom": null,
            "display": null,
            "flex": null,
            "flex_flow": null,
            "grid_area": null,
            "grid_auto_columns": null,
            "grid_auto_flow": null,
            "grid_auto_rows": null,
            "grid_column": null,
            "grid_gap": null,
            "grid_row": null,
            "grid_template_areas": null,
            "grid_template_columns": null,
            "grid_template_rows": null,
            "height": null,
            "justify_content": null,
            "justify_items": null,
            "left": null,
            "margin": null,
            "max_height": null,
            "max_width": null,
            "min_height": null,
            "min_width": null,
            "object_fit": null,
            "object_position": null,
            "order": null,
            "overflow": null,
            "overflow_x": null,
            "overflow_y": null,
            "padding": null,
            "right": null,
            "top": null,
            "visibility": null,
            "width": null
          }
        },
        "a592dde663784977b664db3609a09d83": {
          "model_module": "@jupyter-widgets/base",
          "model_name": "LayoutModel",
          "model_module_version": "1.2.0",
          "state": {
            "_model_module": "@jupyter-widgets/base",
            "_model_module_version": "1.2.0",
            "_model_name": "LayoutModel",
            "_view_count": null,
            "_view_module": "@jupyter-widgets/base",
            "_view_module_version": "1.2.0",
            "_view_name": "LayoutView",
            "align_content": null,
            "align_items": null,
            "align_self": null,
            "border": null,
            "bottom": null,
            "display": null,
            "flex": null,
            "flex_flow": null,
            "grid_area": null,
            "grid_auto_columns": null,
            "grid_auto_flow": null,
            "grid_auto_rows": null,
            "grid_column": null,
            "grid_gap": null,
            "grid_row": null,
            "grid_template_areas": null,
            "grid_template_columns": null,
            "grid_template_rows": null,
            "height": null,
            "justify_content": null,
            "justify_items": null,
            "left": null,
            "margin": null,
            "max_height": null,
            "max_width": null,
            "min_height": null,
            "min_width": null,
            "object_fit": null,
            "object_position": null,
            "order": null,
            "overflow": null,
            "overflow_x": null,
            "overflow_y": null,
            "padding": null,
            "right": null,
            "top": null,
            "visibility": null,
            "width": null
          }
        },
        "5ab7c39b27b547408ab6930ae645ea97": {
          "model_module": "@jupyter-widgets/controls",
          "model_name": "DescriptionStyleModel",
          "model_module_version": "1.5.0",
          "state": {
            "_model_module": "@jupyter-widgets/controls",
            "_model_module_version": "1.5.0",
            "_model_name": "DescriptionStyleModel",
            "_view_count": null,
            "_view_module": "@jupyter-widgets/base",
            "_view_module_version": "1.2.0",
            "_view_name": "StyleView",
            "description_width": ""
          }
        },
        "e47f82c8c4174788ab31e59d567921f1": {
          "model_module": "@jupyter-widgets/base",
          "model_name": "LayoutModel",
          "model_module_version": "1.2.0",
          "state": {
            "_model_module": "@jupyter-widgets/base",
            "_model_module_version": "1.2.0",
            "_model_name": "LayoutModel",
            "_view_count": null,
            "_view_module": "@jupyter-widgets/base",
            "_view_module_version": "1.2.0",
            "_view_name": "LayoutView",
            "align_content": null,
            "align_items": null,
            "align_self": null,
            "border": null,
            "bottom": null,
            "display": null,
            "flex": null,
            "flex_flow": null,
            "grid_area": null,
            "grid_auto_columns": null,
            "grid_auto_flow": null,
            "grid_auto_rows": null,
            "grid_column": null,
            "grid_gap": null,
            "grid_row": null,
            "grid_template_areas": null,
            "grid_template_columns": null,
            "grid_template_rows": null,
            "height": null,
            "justify_content": null,
            "justify_items": null,
            "left": null,
            "margin": null,
            "max_height": null,
            "max_width": null,
            "min_height": null,
            "min_width": null,
            "object_fit": null,
            "object_position": null,
            "order": null,
            "overflow": null,
            "overflow_x": null,
            "overflow_y": null,
            "padding": null,
            "right": null,
            "top": null,
            "visibility": null,
            "width": null
          }
        },
        "0a0702f0a949442d959cfe551c253700": {
          "model_module": "@jupyter-widgets/controls",
          "model_name": "ProgressStyleModel",
          "model_module_version": "1.5.0",
          "state": {
            "_model_module": "@jupyter-widgets/controls",
            "_model_module_version": "1.5.0",
            "_model_name": "ProgressStyleModel",
            "_view_count": null,
            "_view_module": "@jupyter-widgets/base",
            "_view_module_version": "1.2.0",
            "_view_name": "StyleView",
            "bar_color": null,
            "description_width": ""
          }
        },
        "d3871b051d9446f589c646dc376c81bc": {
          "model_module": "@jupyter-widgets/base",
          "model_name": "LayoutModel",
          "model_module_version": "1.2.0",
          "state": {
            "_model_module": "@jupyter-widgets/base",
            "_model_module_version": "1.2.0",
            "_model_name": "LayoutModel",
            "_view_count": null,
            "_view_module": "@jupyter-widgets/base",
            "_view_module_version": "1.2.0",
            "_view_name": "LayoutView",
            "align_content": null,
            "align_items": null,
            "align_self": null,
            "border": null,
            "bottom": null,
            "display": null,
            "flex": null,
            "flex_flow": null,
            "grid_area": null,
            "grid_auto_columns": null,
            "grid_auto_flow": null,
            "grid_auto_rows": null,
            "grid_column": null,
            "grid_gap": null,
            "grid_row": null,
            "grid_template_areas": null,
            "grid_template_columns": null,
            "grid_template_rows": null,
            "height": null,
            "justify_content": null,
            "justify_items": null,
            "left": null,
            "margin": null,
            "max_height": null,
            "max_width": null,
            "min_height": null,
            "min_width": null,
            "object_fit": null,
            "object_position": null,
            "order": null,
            "overflow": null,
            "overflow_x": null,
            "overflow_y": null,
            "padding": null,
            "right": null,
            "top": null,
            "visibility": null,
            "width": null
          }
        },
        "505b8e388c3a4838b9d5acffb0dc9424": {
          "model_module": "@jupyter-widgets/controls",
          "model_name": "DescriptionStyleModel",
          "model_module_version": "1.5.0",
          "state": {
            "_model_module": "@jupyter-widgets/controls",
            "_model_module_version": "1.5.0",
            "_model_name": "DescriptionStyleModel",
            "_view_count": null,
            "_view_module": "@jupyter-widgets/base",
            "_view_module_version": "1.2.0",
            "_view_name": "StyleView",
            "description_width": ""
          }
        },
        "7b6e9e0a186a42198d38c29ef1fe5695": {
          "model_module": "@jupyter-widgets/controls",
          "model_name": "HBoxModel",
          "model_module_version": "1.5.0",
          "state": {
            "_dom_classes": [],
            "_model_module": "@jupyter-widgets/controls",
            "_model_module_version": "1.5.0",
            "_model_name": "HBoxModel",
            "_view_count": null,
            "_view_module": "@jupyter-widgets/controls",
            "_view_module_version": "1.5.0",
            "_view_name": "HBoxView",
            "box_style": "",
            "children": [
              "IPY_MODEL_7bfb1d6930374c2bb5ebb6c9b7e89aa1",
              "IPY_MODEL_5de1f1b0f4f44df8839b390e265f5116",
              "IPY_MODEL_08bbf65d5176404b95a262a840a83b6f"
            ],
            "layout": "IPY_MODEL_26f08660a86742f2b32a6a6a9857da70"
          }
        },
        "7bfb1d6930374c2bb5ebb6c9b7e89aa1": {
          "model_module": "@jupyter-widgets/controls",
          "model_name": "HTMLModel",
          "model_module_version": "1.5.0",
          "state": {
            "_dom_classes": [],
            "_model_module": "@jupyter-widgets/controls",
            "_model_module_version": "1.5.0",
            "_model_name": "HTMLModel",
            "_view_count": null,
            "_view_module": "@jupyter-widgets/controls",
            "_view_module_version": "1.5.0",
            "_view_name": "HTMLView",
            "description": "",
            "description_tooltip": null,
            "layout": "IPY_MODEL_ebd614d3648941b0b0e23a9c9cb87ff8",
            "placeholder": "​",
            "style": "IPY_MODEL_cf42832f79184819ac92f4ed5bc6bbed",
            "value": "100%"
          }
        },
        "5de1f1b0f4f44df8839b390e265f5116": {
          "model_module": "@jupyter-widgets/controls",
          "model_name": "FloatProgressModel",
          "model_module_version": "1.5.0",
          "state": {
            "_dom_classes": [],
            "_model_module": "@jupyter-widgets/controls",
            "_model_module_version": "1.5.0",
            "_model_name": "FloatProgressModel",
            "_view_count": null,
            "_view_module": "@jupyter-widgets/controls",
            "_view_module_version": "1.5.0",
            "_view_name": "ProgressView",
            "bar_style": "success",
            "description": "",
            "description_tooltip": null,
            "layout": "IPY_MODEL_7bee588ccf824d2088ed2cbd2b25b165",
            "max": 10,
            "min": 0,
            "orientation": "horizontal",
            "style": "IPY_MODEL_d174503bca634f31bdec89c86d56b6f5",
            "value": 10
          }
        },
        "08bbf65d5176404b95a262a840a83b6f": {
          "model_module": "@jupyter-widgets/controls",
          "model_name": "HTMLModel",
          "model_module_version": "1.5.0",
          "state": {
            "_dom_classes": [],
            "_model_module": "@jupyter-widgets/controls",
            "_model_module_version": "1.5.0",
            "_model_name": "HTMLModel",
            "_view_count": null,
            "_view_module": "@jupyter-widgets/controls",
            "_view_module_version": "1.5.0",
            "_view_name": "HTMLView",
            "description": "",
            "description_tooltip": null,
            "layout": "IPY_MODEL_9bd3dbf47cd84b6d92ab4f06ee970adc",
            "placeholder": "​",
            "style": "IPY_MODEL_c93100dfe93a468f9b070c71e4ed6240",
            "value": " 10/10 [01:02&lt;00:00,  6.20s/it, loss=[2.303519486983617, 2.300307595729828, 2.298053968747457, 2.29290318051974, 2.2709991916020713, 2.0958495956659315, 1.6897058087587356, 1.230688314139843, 0.8102550755937894, 0.5695381431778272]]"
          }
        },
        "26f08660a86742f2b32a6a6a9857da70": {
          "model_module": "@jupyter-widgets/base",
          "model_name": "LayoutModel",
          "model_module_version": "1.2.0",
          "state": {
            "_model_module": "@jupyter-widgets/base",
            "_model_module_version": "1.2.0",
            "_model_name": "LayoutModel",
            "_view_count": null,
            "_view_module": "@jupyter-widgets/base",
            "_view_module_version": "1.2.0",
            "_view_name": "LayoutView",
            "align_content": null,
            "align_items": null,
            "align_self": null,
            "border": null,
            "bottom": null,
            "display": null,
            "flex": null,
            "flex_flow": null,
            "grid_area": null,
            "grid_auto_columns": null,
            "grid_auto_flow": null,
            "grid_auto_rows": null,
            "grid_column": null,
            "grid_gap": null,
            "grid_row": null,
            "grid_template_areas": null,
            "grid_template_columns": null,
            "grid_template_rows": null,
            "height": null,
            "justify_content": null,
            "justify_items": null,
            "left": null,
            "margin": null,
            "max_height": null,
            "max_width": null,
            "min_height": null,
            "min_width": null,
            "object_fit": null,
            "object_position": null,
            "order": null,
            "overflow": null,
            "overflow_x": null,
            "overflow_y": null,
            "padding": null,
            "right": null,
            "top": null,
            "visibility": null,
            "width": null
          }
        },
        "ebd614d3648941b0b0e23a9c9cb87ff8": {
          "model_module": "@jupyter-widgets/base",
          "model_name": "LayoutModel",
          "model_module_version": "1.2.0",
          "state": {
            "_model_module": "@jupyter-widgets/base",
            "_model_module_version": "1.2.0",
            "_model_name": "LayoutModel",
            "_view_count": null,
            "_view_module": "@jupyter-widgets/base",
            "_view_module_version": "1.2.0",
            "_view_name": "LayoutView",
            "align_content": null,
            "align_items": null,
            "align_self": null,
            "border": null,
            "bottom": null,
            "display": null,
            "flex": null,
            "flex_flow": null,
            "grid_area": null,
            "grid_auto_columns": null,
            "grid_auto_flow": null,
            "grid_auto_rows": null,
            "grid_column": null,
            "grid_gap": null,
            "grid_row": null,
            "grid_template_areas": null,
            "grid_template_columns": null,
            "grid_template_rows": null,
            "height": null,
            "justify_content": null,
            "justify_items": null,
            "left": null,
            "margin": null,
            "max_height": null,
            "max_width": null,
            "min_height": null,
            "min_width": null,
            "object_fit": null,
            "object_position": null,
            "order": null,
            "overflow": null,
            "overflow_x": null,
            "overflow_y": null,
            "padding": null,
            "right": null,
            "top": null,
            "visibility": null,
            "width": null
          }
        },
        "cf42832f79184819ac92f4ed5bc6bbed": {
          "model_module": "@jupyter-widgets/controls",
          "model_name": "DescriptionStyleModel",
          "model_module_version": "1.5.0",
          "state": {
            "_model_module": "@jupyter-widgets/controls",
            "_model_module_version": "1.5.0",
            "_model_name": "DescriptionStyleModel",
            "_view_count": null,
            "_view_module": "@jupyter-widgets/base",
            "_view_module_version": "1.2.0",
            "_view_name": "StyleView",
            "description_width": ""
          }
        },
        "7bee588ccf824d2088ed2cbd2b25b165": {
          "model_module": "@jupyter-widgets/base",
          "model_name": "LayoutModel",
          "model_module_version": "1.2.0",
          "state": {
            "_model_module": "@jupyter-widgets/base",
            "_model_module_version": "1.2.0",
            "_model_name": "LayoutModel",
            "_view_count": null,
            "_view_module": "@jupyter-widgets/base",
            "_view_module_version": "1.2.0",
            "_view_name": "LayoutView",
            "align_content": null,
            "align_items": null,
            "align_self": null,
            "border": null,
            "bottom": null,
            "display": null,
            "flex": null,
            "flex_flow": null,
            "grid_area": null,
            "grid_auto_columns": null,
            "grid_auto_flow": null,
            "grid_auto_rows": null,
            "grid_column": null,
            "grid_gap": null,
            "grid_row": null,
            "grid_template_areas": null,
            "grid_template_columns": null,
            "grid_template_rows": null,
            "height": null,
            "justify_content": null,
            "justify_items": null,
            "left": null,
            "margin": null,
            "max_height": null,
            "max_width": null,
            "min_height": null,
            "min_width": null,
            "object_fit": null,
            "object_position": null,
            "order": null,
            "overflow": null,
            "overflow_x": null,
            "overflow_y": null,
            "padding": null,
            "right": null,
            "top": null,
            "visibility": null,
            "width": null
          }
        },
        "d174503bca634f31bdec89c86d56b6f5": {
          "model_module": "@jupyter-widgets/controls",
          "model_name": "ProgressStyleModel",
          "model_module_version": "1.5.0",
          "state": {
            "_model_module": "@jupyter-widgets/controls",
            "_model_module_version": "1.5.0",
            "_model_name": "ProgressStyleModel",
            "_view_count": null,
            "_view_module": "@jupyter-widgets/base",
            "_view_module_version": "1.2.0",
            "_view_name": "StyleView",
            "bar_color": null,
            "description_width": ""
          }
        },
        "9bd3dbf47cd84b6d92ab4f06ee970adc": {
          "model_module": "@jupyter-widgets/base",
          "model_name": "LayoutModel",
          "model_module_version": "1.2.0",
          "state": {
            "_model_module": "@jupyter-widgets/base",
            "_model_module_version": "1.2.0",
            "_model_name": "LayoutModel",
            "_view_count": null,
            "_view_module": "@jupyter-widgets/base",
            "_view_module_version": "1.2.0",
            "_view_name": "LayoutView",
            "align_content": null,
            "align_items": null,
            "align_self": null,
            "border": null,
            "bottom": null,
            "display": null,
            "flex": null,
            "flex_flow": null,
            "grid_area": null,
            "grid_auto_columns": null,
            "grid_auto_flow": null,
            "grid_auto_rows": null,
            "grid_column": null,
            "grid_gap": null,
            "grid_row": null,
            "grid_template_areas": null,
            "grid_template_columns": null,
            "grid_template_rows": null,
            "height": null,
            "justify_content": null,
            "justify_items": null,
            "left": null,
            "margin": null,
            "max_height": null,
            "max_width": null,
            "min_height": null,
            "min_width": null,
            "object_fit": null,
            "object_position": null,
            "order": null,
            "overflow": null,
            "overflow_x": null,
            "overflow_y": null,
            "padding": null,
            "right": null,
            "top": null,
            "visibility": null,
            "width": null
          }
        },
        "c93100dfe93a468f9b070c71e4ed6240": {
          "model_module": "@jupyter-widgets/controls",
          "model_name": "DescriptionStyleModel",
          "model_module_version": "1.5.0",
          "state": {
            "_model_module": "@jupyter-widgets/controls",
            "_model_module_version": "1.5.0",
            "_model_name": "DescriptionStyleModel",
            "_view_count": null,
            "_view_module": "@jupyter-widgets/base",
            "_view_module_version": "1.2.0",
            "_view_name": "StyleView",
            "description_width": ""
          }
        },
        "97e184206cbe439cb90373213bd6253e": {
          "model_module": "@jupyter-widgets/controls",
          "model_name": "HBoxModel",
          "model_module_version": "1.5.0",
          "state": {
            "_dom_classes": [],
            "_model_module": "@jupyter-widgets/controls",
            "_model_module_version": "1.5.0",
            "_model_name": "HBoxModel",
            "_view_count": null,
            "_view_module": "@jupyter-widgets/controls",
            "_view_module_version": "1.5.0",
            "_view_name": "HBoxView",
            "box_style": "",
            "children": [
              "IPY_MODEL_512efcf9123b4058b94cf2ac6b7c7761",
              "IPY_MODEL_df469f3f8fb04c31ae33c90fa05e848b",
              "IPY_MODEL_033437bde7d94605948659fe42e7519e"
            ],
            "layout": "IPY_MODEL_781f8d7a727c4c4b9932f75b7893b9a5"
          }
        },
        "512efcf9123b4058b94cf2ac6b7c7761": {
          "model_module": "@jupyter-widgets/controls",
          "model_name": "HTMLModel",
          "model_module_version": "1.5.0",
          "state": {
            "_dom_classes": [],
            "_model_module": "@jupyter-widgets/controls",
            "_model_module_version": "1.5.0",
            "_model_name": "HTMLModel",
            "_view_count": null,
            "_view_module": "@jupyter-widgets/controls",
            "_view_module_version": "1.5.0",
            "_view_name": "HTMLView",
            "description": "",
            "description_tooltip": null,
            "layout": "IPY_MODEL_0e22b8d9eea14c23a7eabedae24b6a54",
            "placeholder": "​",
            "style": "IPY_MODEL_6a90722500934eeb9f132ce6b27960a6",
            "value": "100%"
          }
        },
        "df469f3f8fb04c31ae33c90fa05e848b": {
          "model_module": "@jupyter-widgets/controls",
          "model_name": "FloatProgressModel",
          "model_module_version": "1.5.0",
          "state": {
            "_dom_classes": [],
            "_model_module": "@jupyter-widgets/controls",
            "_model_module_version": "1.5.0",
            "_model_name": "FloatProgressModel",
            "_view_count": null,
            "_view_module": "@jupyter-widgets/controls",
            "_view_module_version": "1.5.0",
            "_view_name": "ProgressView",
            "bar_style": "success",
            "description": "",
            "description_tooltip": null,
            "layout": "IPY_MODEL_7f68940f36204c9886ca42a92463d1d9",
            "max": 10,
            "min": 0,
            "orientation": "horizontal",
            "style": "IPY_MODEL_28d12fa2272c4a22a38a051883a763a4",
            "value": 10
          }
        },
        "033437bde7d94605948659fe42e7519e": {
          "model_module": "@jupyter-widgets/controls",
          "model_name": "HTMLModel",
          "model_module_version": "1.5.0",
          "state": {
            "_dom_classes": [],
            "_model_module": "@jupyter-widgets/controls",
            "_model_module_version": "1.5.0",
            "_model_name": "HTMLModel",
            "_view_count": null,
            "_view_module": "@jupyter-widgets/controls",
            "_view_module_version": "1.5.0",
            "_view_name": "HTMLView",
            "description": "",
            "description_tooltip": null,
            "layout": "IPY_MODEL_7d09b1d4251e42a49305cba9c013e368",
            "placeholder": "​",
            "style": "IPY_MODEL_cc84fb26d5974ddfbebe96877b6c7ec1",
            "value": " 10/10 [01:02&lt;00:00,  6.25s/it, loss=[2.3053082617123923, 2.301424664258957, 2.30143767674764, 2.3014066553115846, 2.3013911048571267, 2.3014448555310567, 2.301446094910304, 2.301341284116109, 2.30143523812294, 2.3013956117630006]]"
          }
        },
        "781f8d7a727c4c4b9932f75b7893b9a5": {
          "model_module": "@jupyter-widgets/base",
          "model_name": "LayoutModel",
          "model_module_version": "1.2.0",
          "state": {
            "_model_module": "@jupyter-widgets/base",
            "_model_module_version": "1.2.0",
            "_model_name": "LayoutModel",
            "_view_count": null,
            "_view_module": "@jupyter-widgets/base",
            "_view_module_version": "1.2.0",
            "_view_name": "LayoutView",
            "align_content": null,
            "align_items": null,
            "align_self": null,
            "border": null,
            "bottom": null,
            "display": null,
            "flex": null,
            "flex_flow": null,
            "grid_area": null,
            "grid_auto_columns": null,
            "grid_auto_flow": null,
            "grid_auto_rows": null,
            "grid_column": null,
            "grid_gap": null,
            "grid_row": null,
            "grid_template_areas": null,
            "grid_template_columns": null,
            "grid_template_rows": null,
            "height": null,
            "justify_content": null,
            "justify_items": null,
            "left": null,
            "margin": null,
            "max_height": null,
            "max_width": null,
            "min_height": null,
            "min_width": null,
            "object_fit": null,
            "object_position": null,
            "order": null,
            "overflow": null,
            "overflow_x": null,
            "overflow_y": null,
            "padding": null,
            "right": null,
            "top": null,
            "visibility": null,
            "width": null
          }
        },
        "0e22b8d9eea14c23a7eabedae24b6a54": {
          "model_module": "@jupyter-widgets/base",
          "model_name": "LayoutModel",
          "model_module_version": "1.2.0",
          "state": {
            "_model_module": "@jupyter-widgets/base",
            "_model_module_version": "1.2.0",
            "_model_name": "LayoutModel",
            "_view_count": null,
            "_view_module": "@jupyter-widgets/base",
            "_view_module_version": "1.2.0",
            "_view_name": "LayoutView",
            "align_content": null,
            "align_items": null,
            "align_self": null,
            "border": null,
            "bottom": null,
            "display": null,
            "flex": null,
            "flex_flow": null,
            "grid_area": null,
            "grid_auto_columns": null,
            "grid_auto_flow": null,
            "grid_auto_rows": null,
            "grid_column": null,
            "grid_gap": null,
            "grid_row": null,
            "grid_template_areas": null,
            "grid_template_columns": null,
            "grid_template_rows": null,
            "height": null,
            "justify_content": null,
            "justify_items": null,
            "left": null,
            "margin": null,
            "max_height": null,
            "max_width": null,
            "min_height": null,
            "min_width": null,
            "object_fit": null,
            "object_position": null,
            "order": null,
            "overflow": null,
            "overflow_x": null,
            "overflow_y": null,
            "padding": null,
            "right": null,
            "top": null,
            "visibility": null,
            "width": null
          }
        },
        "6a90722500934eeb9f132ce6b27960a6": {
          "model_module": "@jupyter-widgets/controls",
          "model_name": "DescriptionStyleModel",
          "model_module_version": "1.5.0",
          "state": {
            "_model_module": "@jupyter-widgets/controls",
            "_model_module_version": "1.5.0",
            "_model_name": "DescriptionStyleModel",
            "_view_count": null,
            "_view_module": "@jupyter-widgets/base",
            "_view_module_version": "1.2.0",
            "_view_name": "StyleView",
            "description_width": ""
          }
        },
        "7f68940f36204c9886ca42a92463d1d9": {
          "model_module": "@jupyter-widgets/base",
          "model_name": "LayoutModel",
          "model_module_version": "1.2.0",
          "state": {
            "_model_module": "@jupyter-widgets/base",
            "_model_module_version": "1.2.0",
            "_model_name": "LayoutModel",
            "_view_count": null,
            "_view_module": "@jupyter-widgets/base",
            "_view_module_version": "1.2.0",
            "_view_name": "LayoutView",
            "align_content": null,
            "align_items": null,
            "align_self": null,
            "border": null,
            "bottom": null,
            "display": null,
            "flex": null,
            "flex_flow": null,
            "grid_area": null,
            "grid_auto_columns": null,
            "grid_auto_flow": null,
            "grid_auto_rows": null,
            "grid_column": null,
            "grid_gap": null,
            "grid_row": null,
            "grid_template_areas": null,
            "grid_template_columns": null,
            "grid_template_rows": null,
            "height": null,
            "justify_content": null,
            "justify_items": null,
            "left": null,
            "margin": null,
            "max_height": null,
            "max_width": null,
            "min_height": null,
            "min_width": null,
            "object_fit": null,
            "object_position": null,
            "order": null,
            "overflow": null,
            "overflow_x": null,
            "overflow_y": null,
            "padding": null,
            "right": null,
            "top": null,
            "visibility": null,
            "width": null
          }
        },
        "28d12fa2272c4a22a38a051883a763a4": {
          "model_module": "@jupyter-widgets/controls",
          "model_name": "ProgressStyleModel",
          "model_module_version": "1.5.0",
          "state": {
            "_model_module": "@jupyter-widgets/controls",
            "_model_module_version": "1.5.0",
            "_model_name": "ProgressStyleModel",
            "_view_count": null,
            "_view_module": "@jupyter-widgets/base",
            "_view_module_version": "1.2.0",
            "_view_name": "StyleView",
            "bar_color": null,
            "description_width": ""
          }
        },
        "7d09b1d4251e42a49305cba9c013e368": {
          "model_module": "@jupyter-widgets/base",
          "model_name": "LayoutModel",
          "model_module_version": "1.2.0",
          "state": {
            "_model_module": "@jupyter-widgets/base",
            "_model_module_version": "1.2.0",
            "_model_name": "LayoutModel",
            "_view_count": null,
            "_view_module": "@jupyter-widgets/base",
            "_view_module_version": "1.2.0",
            "_view_name": "LayoutView",
            "align_content": null,
            "align_items": null,
            "align_self": null,
            "border": null,
            "bottom": null,
            "display": null,
            "flex": null,
            "flex_flow": null,
            "grid_area": null,
            "grid_auto_columns": null,
            "grid_auto_flow": null,
            "grid_auto_rows": null,
            "grid_column": null,
            "grid_gap": null,
            "grid_row": null,
            "grid_template_areas": null,
            "grid_template_columns": null,
            "grid_template_rows": null,
            "height": null,
            "justify_content": null,
            "justify_items": null,
            "left": null,
            "margin": null,
            "max_height": null,
            "max_width": null,
            "min_height": null,
            "min_width": null,
            "object_fit": null,
            "object_position": null,
            "order": null,
            "overflow": null,
            "overflow_x": null,
            "overflow_y": null,
            "padding": null,
            "right": null,
            "top": null,
            "visibility": null,
            "width": null
          }
        },
        "cc84fb26d5974ddfbebe96877b6c7ec1": {
          "model_module": "@jupyter-widgets/controls",
          "model_name": "DescriptionStyleModel",
          "model_module_version": "1.5.0",
          "state": {
            "_model_module": "@jupyter-widgets/controls",
            "_model_module_version": "1.5.0",
            "_model_name": "DescriptionStyleModel",
            "_view_count": null,
            "_view_module": "@jupyter-widgets/base",
            "_view_module_version": "1.2.0",
            "_view_name": "StyleView",
            "description_width": ""
          }
        }
      }
    }
  },
  "nbformat": 4,
  "nbformat_minor": 0
}